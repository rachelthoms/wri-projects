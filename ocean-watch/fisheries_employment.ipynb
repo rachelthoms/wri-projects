{
 "cells": [
  {
   "cell_type": "markdown",
   "metadata": {},
   "source": [
    "# Fisheries Employment"
   ]
  },
  {
   "cell_type": "markdown",
   "metadata": {},
   "source": [
    "Visualizing employment in the fishing sector as a proportion of total employmnet in Natural Sectors (agriculture, forestry, and hunting)"
   ]
  },
  {
   "cell_type": "markdown",
   "metadata": {},
   "source": [
    "*Author: Rachel Thoms\n",
    "<br>Created: 24 Aug 2021\n",
    "<br>Environment: jupyterlab*"
   ]
  },
  {
   "cell_type": "markdown",
   "metadata": {},
   "source": [
    "## Style"
   ]
  },
  {
   "cell_type": "markdown",
   "metadata": {},
   "source": [
    "- Vega chart\n",
    "- Chart type\n",
    "- Value "
   ]
  },
  {
   "cell_type": "markdown",
   "metadata": {},
   "source": [
    "## Data"
   ]
  },
  {
   "cell_type": "markdown",
   "metadata": {},
   "source": [
    "- Data: [ow_widget_territory](https://resourcewatch.carto.com/u/wri-rw/dataset/ow_widget_territory) (full dataset - []())\n",
    "- Resource Watch: [explore page](https://resourcewatch.org/data/explore/)\n",
    "- Source: []()"
   ]
  },
  {
   "cell_type": "markdown",
   "metadata": {},
   "source": [
    "## Preparation"
   ]
  },
  {
   "cell_type": "markdown",
   "metadata": {},
   "source": [
    "### Aliasing and Inserting Data"
   ]
  },
  {
   "cell_type": "markdown",
   "metadata": {},
   "source": [
    "#### Queries"
   ]
  },
  {
   "cell_type": "markdown",
   "metadata": {},
   "source": [
    "Query 1"
   ]
  },
  {
   "cell_type": "markdown",
   "metadata": {},
   "source": [
    "``` SQL\n",
    "INSERT INTO ow_widget_territory(section, widget, gid_0, name_0, variable, date, value, unit)\n",
    "SELECT 'goods_services' AS section, 'fishing employment' AS widget, alias.iso AS gid_0, alias.name_0 AS name_0, CONCAT(data.type, ' ', data.sex) AS variable, data.year AS date, data.obs_value AS value, data.unit AS unit \n",
    "FROM (SELECT area, year, obs_value, concat(type, ' Employment ') AS type, sex, '1000 people' AS unit FROM com_037_rw0_fishing_employment_edit WHERE obs_value IS NOT NULL AND rev = 4) data\n",
    "LEFT JOIN (SELECT DISTINCT(iso), name_0 FROM ow_aliasing_countries) AS alias ON data.area = alias.iso WHERE alias.iso IS NOT NULL\n",
    "```"
   ]
  },
  {
   "cell_type": "markdown",
   "metadata": {},
   "source": [
    "- countries with data: 170\n",
    "- rows before: 143460\n",
    "- rows inserted: 5028\n",
    "- rows after: 148488"
   ]
  },
  {
   "cell_type": "markdown",
   "metadata": {},
   "source": [
    "Query 2"
   ]
  },
  {
   "cell_type": "markdown",
   "metadata": {},
   "source": [
    "```sql\n",
    "INSERT INTO ow_widget_territory(section, widget, gid_0, name_0, variable, date, value, unit)\n",
    "SELECT 'goods_services' AS section, 'fishing employment' AS widget, alias.iso AS gid_0, alias.name_0 AS name_0, CONCAT(data.type, ' ', data.sex) AS variable, data.year AS date, data.obs_value AS value, data.unit AS unit \n",
    "FROM (SELECT area, year, obs_value, concat(type, ' Employment ') AS type, sex, '1000 people' AS unit FROM com_037_rw0_fishing_employment_edit WHERE obs_value IS NOT NULL) data\n",
    "LEFT JOIN (SELECT DISTINCT(area), obs_value as rev4 FROM com_037_rw0_fishing_employment_edit WHERE obs_value IS NOT NULL AND rev = 4) rev4 ON rev4.area = data.area \n",
    "LEFT JOIN (SELECT DISTINCT(iso), name_0 FROM ow_aliasing_countries) AS alias ON data.area = alias.iso WHERE alias.iso IS NOT NULL AND rev4.rev4 IS NULL\n",
    "```"
   ]
  },
  {
   "cell_type": "markdown",
   "metadata": {},
   "source": [
    "- countries with data: 23\n",
    "- rows before: 148488\n",
    "- rows inserted: 496\n",
    "- rows after: 148984"
   ]
  },
  {
   "cell_type": "markdown",
   "metadata": {},
   "source": [
    "```sql\n",
    "\n",
    "```"
   ]
  },
  {
   "cell_type": "markdown",
   "metadata": {},
   "source": [
    "### Vega"
   ]
  },
  {
   "cell_type": "code",
   "execution_count": 12,
   "metadata": {},
   "outputs": [],
   "source": [
    "import json\n",
    "from vega import Vega\n",
    "from IPython.display import display"
   ]
  },
  {
   "cell_type": "code",
   "execution_count": 13,
   "metadata": {},
   "outputs": [],
   "source": [
    "def Vega(spec):\n",
    "    bundle = {}\n",
    "    bundle['application/vnd.vega.v5+json'] = spec\n",
    "    display(bundle, raw=True)"
   ]
  },
  {
   "cell_type": "code",
   "execution_count": 14,
   "metadata": {},
   "outputs": [],
   "source": [
    "widget_width = 800\n",
    "widget_height = 300"
   ]
  },
  {
   "cell_type": "markdown",
   "metadata": {},
   "source": [
    "## Visualization"
   ]
  },
  {
   "cell_type": "markdown",
   "metadata": {},
   "source": [
    "### Queries"
   ]
  },
  {
   "cell_type": "markdown",
   "metadata": {},
   "source": [
    "#### Testing"
   ]
  },
  {
   "cell_type": "markdown",
   "metadata": {},
   "source": [
    "```gadm.geostore_prod ILIKE 'ca5bfde08587530e76c17fe48362a01d'``` used as stand-in for parameterized ```{{{geostore_env}}='{{geostore_id}}'``` in production version"
   ]
  },
  {
   "cell_type": "markdown",
   "metadata": {},
   "source": [
    "```sql\n",
    "SELECT gadm.gid_0, gadm.name_0, date, variable, value, unit FROM ow_widget_territory AS data \n",
    "LEFT OUTER JOIN gadm36_0 gadm ON data.gid_0 = gadm.gid_0 WHERE gadm.geostore_prod ILIKE 'ca5bfde08587530e76c17fe48362a01d' AND widget = 'fishing employment' ORDER BY date ASC, variable ASC\n",
    "\n",
    "```"
   ]
  },
  {
   "cell_type": "markdown",
   "metadata": {},
   "source": [
    "#### Parameterized"
   ]
  },
  {
   "cell_type": "markdown",
   "metadata": {},
   "source": [
    "```sql\n",
    "SELECT gadm.gid_0, gadm.name_0, date, variable, value, unit FROM ow_widget_territory AS data LEFT OUTER JOIN gadm36_0 gadm ON data.gid_0 = gadm.gid_0 WHERE gadm.{{geostore_env}} ILIKE '{{geostore_id}}' AND widget = 'fishing employment' ORDER BY date ASC, variable ASC\n",
    "```"
   ]
  },
  {
   "cell_type": "code",
   "execution_count": 15,
   "metadata": {},
   "outputs": [
    {
     "data": {
      "application/vnd.vega.v5+json": {
       "$schema": "https://vega.github.io/schema/vega/v5.json",
       "axes": [
        {
         "labelFont": "Arial",
         "labelFontSize": 11,
         "labelOverlap": true,
         "orient": "bottom",
         "scale": "x",
         "zindex": 1
        },
        {
         "encode": {
          "labels": {
           "update": {
            "text": {
             "signal": "format(datum.value, ',')"
            }
           }
          }
         },
         "grid": true,
         "gridOpacity": 0.2,
         "labelAlign": "right",
         "labelBaseline": "middle",
         "labelFont": "Arial",
         "labelPadding": 8,
         "orient": "left",
         "scale": "y",
         "tickSize": 5,
         "ticks": true,
         "title": "Number of people",
         "titleFontSize": 12,
         "titlePadding": 8,
         "zindex": 1
        }
       ],
       "data": [
        {
         "format": {
          "property": "rows",
          "type": "json"
         },
         "name": "table",
         "transform": [
          {
           "field": "value",
           "groupby": [
            "gid_0",
            "date"
           ],
           "type": "stack"
          },
          {
           "as": "sector",
           "expr": "split(datum.variable, ' Employment')[0]",
           "type": "formula"
          },
          {
           "as": "sex",
           "expr": "split(datum.variable, '_')[1]",
           "type": "formula"
          },
          {
           "as": "value",
           "expr": "datum.value*1000",
           "type": "formula"
          },
          {
           "as": "sector",
           "expr": "replace(datum.sector, ' ', '_')",
           "type": "formula"
          },
          {
           "as": "sector",
           "expr": "replace(datum.sector, ' ', '_')",
           "type": "formula"
          },
          {
           "field": "sector",
           "groupby": [
            "gid_0",
            "date",
            "sex"
           ],
           "type": "pivot",
           "value": "value"
          },
          {
           "as": "Natural_Sector_Total",
           "expr": "datum.Fishing > datum.Natural_Sector_Total ? null: datum.Natural_Sector_Total",
           "type": "formula"
          },
          {
           "as": "Other Natural Sectors",
           "expr": "datum.Fishing ? datum.Natural_Sector_Total - datum.Fishing: datum.Natural_Sector_Total",
           "type": "formula"
          },
          {
           "as": [
            "sector",
            "value"
           ],
           "fields": [
            "Fishing",
            "Other Natural Sectors"
           ],
           "type": "fold"
          },
          {
           "expr": "isValid(datum.Natural_Sector_Total)",
           "type": "filter"
          },
          {
           "field": "value",
           "groupby": [
            "date",
            "sex"
           ],
           "sort": {
            "field": [
             "gid_0",
             "date",
             "sector"
            ],
            "order": [
             "descending",
             "ascending",
             "descending"
            ]
           },
           "type": "stack"
          }
         ],
         "url": "https://wri-rw.carto.com/api/v2/sql?q=SELECT gadm.gid_0, gadm.name_0, date, variable, value, unit FROM ow_widget_territory AS data LEFT OUTER JOIN gadm36_0 gadm ON data.gid_0 = gadm.gid_0 WHERE gadm.geostore_prod ILIKE 'ca5bfde08587530e76c17fe48362a01d' AND widget = 'fishing employment' ORDER BY date ASC, variable ASC "
        },
        {
         "name": "filter",
         "source": "table",
         "transform": [
          {
           "as": "sex",
           "expr": "test(/M/, datum.sex) ? 'Male': test(/F/, datum.sex) ? 'Female' : 'Total'",
           "type": "formula"
          },
          {
           "expr": "datum.sex==sex",
           "type": "filter"
          }
         ]
        }
       ],
       "description": "A searchable, stacked area chart of U.S. occupations from 1850 to 2000.",
       "height": 300,
       "legends": [
        {
         "fill": "color",
         "orient": "right",
         "title": [
          "Sector:"
         ]
        }
       ],
       "marks": [
        {
         "encode": {
          "enter": {
           "fill": {
            "field": "sector",
            "scale": "color"
           },
           "tooltip": {
            "signal": "{'Year': datum.date, 'Employment sector': (datum.sector === 'Other Natural Sectors' ? 'Agriculture & Forestry' : datum.sector), 'Employment: ': format(datum.value, ',.5r')}"
           },
           "width": {
            "band": 1,
            "offset": -1,
            "scale": "x"
           },
           "x": {
            "field": "date",
            "scale": "x"
           },
           "y": {
            "field": "y0",
            "scale": "y"
           },
           "y2": {
            "field": "y1",
            "scale": "y"
           }
          },
          "hover": {
           "fillOpacity": {
            "value": 0.7
           }
          },
          "update": {
           "fillOpacity": [
            {
             "test": "test(/Other Natural Sectors/, datum.sector)",
             "value": 0.8
            },
            {
             "value": 1
            }
           ]
          }
         },
         "from": {
          "data": "filter"
         },
         "type": "rect"
        }
       ],
       "padding": 5,
       "scales": [
        {
         "domain": {
          "data": "filter",
          "field": "date"
         },
         "name": "x",
         "range": "width",
         "type": "band"
        },
        {
         "domain": {
          "data": "table",
          "field": "y1"
         },
         "name": "y",
         "nice": true,
         "range": "height",
         "type": "linear",
         "zero": true
        },
        {
         "domain": {
          "data": "filter",
          "field": "sector"
         },
         "name": "color",
         "range": [
          "#84c0d0",
          "#f3b229"
         ],
         "type": "ordinal"
        }
       ],
       "signals": [
        {
         "bind": {
          "input": "select",
          "options": [
           "Total",
           "Male",
           "Female"
          ]
         },
         "name": "sex",
         "value": "Total"
        }
       ],
       "width": 800
      },
      "image/png": "[encoded data removed]"
     },
     "metadata": {},
     "output_type": "display_data"
    }
   ],
   "source": [
    "spec=json.loads(\"\"\"{\n",
    "  \"$schema\": \"https://vega.github.io/schema/vega/v5.json\",\n",
    "  \"description\": \"A searchable, stacked area chart of U.S. occupations from 1850 to 2000.\",\n",
    "  \"width\": 800,\n",
    "  \"height\": 300,\n",
    "  \"padding\": 5,\n",
    "  \"signals\": [\n",
    "    {\n",
    "      \"name\": \"sex\",\n",
    "      \"value\": \"Total\",\n",
    "      \"bind\": {\"input\": \"select\", \"options\": [\"Total\", \"Male\", \"Female\"]}\n",
    "    }\n",
    "  ],\n",
    "  \"data\": [\n",
    "    {\n",
    "      \"name\": \"table\",\n",
    "      \"url\": \"https://wri-rw.carto.com/api/v2/sql?q=SELECT gadm.gid_0, gadm.name_0, date, variable, value, unit FROM ow_widget_territory AS data LEFT OUTER JOIN gadm36_0 gadm ON data.gid_0 = gadm.gid_0 WHERE gadm.geostore_prod ILIKE 'ca5bfde08587530e76c17fe48362a01d' AND widget = 'fishing employment' ORDER BY date ASC, variable ASC \",\n",
    "      \"format\": {\"type\": \"json\", \"property\": \"rows\"},\n",
    "      \"transform\": [\n",
    "        {\"type\": \"stack\", \"field\": \"value\", \"groupby\": [\"gid_0\", \"date\"]},\n",
    "        {\n",
    "          \"type\": \"formula\",\n",
    "          \"expr\": \"split(datum.variable, ' Employment')[0]\",\n",
    "          \"as\": \"sector\"\n",
    "        },\n",
    "        {\n",
    "          \"type\": \"formula\",\n",
    "          \"expr\": \"split(datum.variable, '_')[1]\",\n",
    "          \"as\": \"sex\"\n",
    "        },\n",
    "        {\"type\": \"formula\", \"expr\": \"datum.value*1000\", \"as\": \"value\"},\n",
    "        {\n",
    "          \"type\": \"formula\",\n",
    "          \"expr\": \"replace(datum.sector, ' ', '_')\",\n",
    "          \"as\": \"sector\"\n",
    "        },\n",
    "        {\n",
    "          \"type\": \"formula\",\n",
    "          \"expr\": \"replace(datum.sector, ' ', '_')\",\n",
    "          \"as\": \"sector\"\n",
    "        },\n",
    "        {\n",
    "          \"type\": \"pivot\",\n",
    "          \"groupby\": [\"gid_0\", \"date\", \"sex\"],\n",
    "          \"field\": \"sector\",\n",
    "          \"value\": \"value\"\n",
    "        },\n",
    "        {\n",
    "          \"type\": \"formula\",\n",
    "          \"expr\": \"datum.Fishing > datum.Natural_Sector_Total ? null: datum.Natural_Sector_Total\",\n",
    "          \"as\": \"Natural_Sector_Total\"\n",
    "        },\n",
    "        {\n",
    "          \"type\": \"formula\",\n",
    "          \"expr\": \"datum.Fishing ? datum.Natural_Sector_Total - datum.Fishing: datum.Natural_Sector_Total\",\n",
    "          \"as\": \"Other Natural Sectors\"\n",
    "        },\n",
    "        {\n",
    "          \"type\": \"fold\",\n",
    "          \"fields\": [\"Fishing\", \"Other Natural Sectors\"],\n",
    "          \"as\": [\"sector\", \"value\"]\n",
    "        },\n",
    "        {\"type\": \"filter\", \"expr\": \"isValid(datum.Natural_Sector_Total)\"},\n",
    "        {\n",
    "          \"type\": \"stack\",\n",
    "          \"field\": \"value\",\n",
    "          \"groupby\": [\"date\", \"sex\"],\n",
    "          \"sort\": {\n",
    "            \"field\": [\"gid_0\", \"date\", \"sector\"],\n",
    "            \"order\": [\"descending\", \"ascending\", \"descending\"]\n",
    "          }\n",
    "        }\n",
    "      ]\n",
    "    },\n",
    "    {\n",
    "      \"name\": \"filter\",\n",
    "      \"source\": \"table\",\n",
    "      \"transform\": [\n",
    "        {\n",
    "          \"type\": \"formula\",\n",
    "          \"expr\": \"test(/M/, datum.sex) ? 'Male': test(/F/, datum.sex) ? 'Female' : 'Total'\",\n",
    "          \"as\": \"sex\"\n",
    "        },\n",
    "        {\"type\": \"filter\", \"expr\": \"datum.sex==sex\"}\n",
    "      ]\n",
    "    }\n",
    "  ],\n",
    "  \"scales\": [\n",
    "    {\n",
    "      \"name\": \"x\",\n",
    "      \"type\": \"band\",\n",
    "      \"range\": \"width\",\n",
    "      \"domain\": {\"data\": \"filter\", \"field\": \"date\"}\n",
    "    },\n",
    "    {\n",
    "      \"name\": \"y\",\n",
    "      \"type\": \"linear\",\n",
    "      \"range\": \"height\",\n",
    "      \"nice\": true,\n",
    "      \"zero\": true,\n",
    "      \"domain\": {\"data\": \"table\", \"field\": \"y1\"}\n",
    "    },\n",
    "    {\n",
    "      \"name\": \"color\",\n",
    "      \"type\": \"ordinal\",\n",
    "      \"range\": [\"#84c0d0\", \"#f3b229\"],\n",
    "      \"domain\": {\"data\": \"filter\", \"field\": \"sector\"}\n",
    "    }\n",
    "  ],\n",
    "  \"axes\": [\n",
    "    {\n",
    "      \"orient\": \"bottom\",\n",
    "      \"scale\": \"x\",\n",
    "      \"zindex\": 1,\n",
    "      \"labelFont\": \"Arial\",\n",
    "      \"labelFontSize\": 11,\n",
    "      \"labelOverlap\": true\n",
    "    },\n",
    "    {\n",
    "      \"orient\": \"left\",\n",
    "      \"scale\": \"y\",\n",
    "      \"zindex\": 1,\n",
    "      \"title\": \"Number of people\",\n",
    "      \"titlePadding\": 8,\n",
    "      \"titleFontSize\": 12,\n",
    "      \"labelFont\": \"Arial\",\n",
    "      \"labelBaseline\": \"middle\",\n",
    "      \"labelAlign\": \"right\",\n",
    "      \"labelPadding\": 8,\n",
    "      \"ticks\": true,\n",
    "      \"tickSize\": 5,\n",
    "      \"grid\": true,\n",
    "      \"gridOpacity\": 0.2,\n",
    "      \"encode\": {\n",
    "        \"labels\": {\"update\": {\"text\": {\"signal\": \"format(datum.value, ',')\"}}}\n",
    "      }\n",
    "    }\n",
    "  ],\n",
    "  \"marks\": [\n",
    "    {\n",
    "      \"type\": \"rect\",\n",
    "      \"from\": {\"data\": \"filter\"},\n",
    "      \"encode\": {\n",
    "        \"enter\": {\n",
    "          \"x\": {\"scale\": \"x\", \"field\": \"date\"},\n",
    "          \"width\": {\"scale\": \"x\", \"band\": 1, \"offset\": -1},\n",
    "          \"y\": {\"scale\": \"y\", \"field\": \"y0\"},\n",
    "          \"y2\": {\"scale\": \"y\", \"field\": \"y1\"},\n",
    "          \"fill\": {\"scale\": \"color\", \"field\": \"sector\"},\n",
    "          \"tooltip\": {\n",
    "            \"signal\": \"{'Year': datum.date, 'Employment sector': (datum.sector === 'Other Natural Sectors' ? 'Agriculture & Forestry' : datum.sector), 'Employment: ': format(datum.value, ',.5r')}\"\n",
    "          }\n",
    "        },\n",
    "        \"update\": {\n",
    "          \"fillOpacity\": [\n",
    "            {\n",
    "              \"test\": \"test(/Other Natural Sectors/, datum.sector)\",\n",
    "              \"value\": 0.8\n",
    "            },\n",
    "            {\"value\": 1}\n",
    "          ]\n",
    "        },\n",
    "        \"hover\": {\"fillOpacity\": {\"value\": 0.7}}\n",
    "      }\n",
    "    }\n",
    "  ],\n",
    "  \"legends\": [{\"title\": [\"Sector:\"], \"fill\": \"color\", \"orient\": \"right\"}]\n",
    "}\"\"\")\n",
    "vegaview=dict(spec)\n",
    "Vega(vegaview)"
   ]
  },
  {
   "cell_type": "markdown",
   "metadata": {},
   "source": [
    "# With Country Selector"
   ]
  },
  {
   "cell_type": "code",
   "execution_count": 16,
   "metadata": {},
   "outputs": [
    {
     "ename": "JSONDecodeError",
     "evalue": "Expecting ',' delimiter: line 3 column 3 (char 62)",
     "output_type": "error",
     "traceback": [
      "\u001b[0;31m---------------------------------------------------------------------------\u001b[0m",
      "\u001b[0;31mJSONDecodeError\u001b[0m                           Traceback (most recent call last)",
      "\u001b[0;32m<ipython-input-16-8e588ff4d7f0>\u001b[0m in \u001b[0;36m<module>\u001b[0;34m\u001b[0m\n\u001b[1;32m    166\u001b[0m   \u001b[0;34m\"legends\"\u001b[0m\u001b[0;34m:\u001b[0m \u001b[0;34m[\u001b[0m\u001b[0;34m{\u001b[0m\u001b[0;34m\"title\"\u001b[0m\u001b[0;34m:\u001b[0m \u001b[0;34m[\u001b[0m\u001b[0;34m\"Sector:\"\u001b[0m\u001b[0;34m]\u001b[0m\u001b[0;34m,\u001b[0m \u001b[0;34m\"fill\"\u001b[0m\u001b[0;34m:\u001b[0m \u001b[0;34m\"color\"\u001b[0m\u001b[0;34m,\u001b[0m \u001b[0;34m\"orient\"\u001b[0m\u001b[0;34m:\u001b[0m \u001b[0;34m\"right\"\u001b[0m\u001b[0;34m}\u001b[0m\u001b[0;34m]\u001b[0m\u001b[0;34m\u001b[0m\u001b[0;34m\u001b[0m\u001b[0m\n\u001b[1;32m    167\u001b[0m }\n\u001b[0;32m--> 168\u001b[0;31m \"\"\")\n\u001b[0m\u001b[1;32m    169\u001b[0m \u001b[0mvegaview\u001b[0m\u001b[0;34m=\u001b[0m\u001b[0mdict\u001b[0m\u001b[0;34m(\u001b[0m\u001b[0mspec\u001b[0m\u001b[0;34m)\u001b[0m\u001b[0;34m\u001b[0m\u001b[0;34m\u001b[0m\u001b[0m\n\u001b[1;32m    170\u001b[0m \u001b[0mVega\u001b[0m\u001b[0;34m(\u001b[0m\u001b[0mvegaview\u001b[0m\u001b[0;34m)\u001b[0m\u001b[0;34m\u001b[0m\u001b[0;34m\u001b[0m\u001b[0m\n",
      "\u001b[0;32m~/anaconda3/envs/rw/lib/python3.7/json/__init__.py\u001b[0m in \u001b[0;36mloads\u001b[0;34m(s, encoding, cls, object_hook, parse_float, parse_int, parse_constant, object_pairs_hook, **kw)\u001b[0m\n\u001b[1;32m    346\u001b[0m             \u001b[0mparse_int\u001b[0m \u001b[0;32mis\u001b[0m \u001b[0;32mNone\u001b[0m \u001b[0;32mand\u001b[0m \u001b[0mparse_float\u001b[0m \u001b[0;32mis\u001b[0m \u001b[0;32mNone\u001b[0m \u001b[0;32mand\u001b[0m\u001b[0;34m\u001b[0m\u001b[0;34m\u001b[0m\u001b[0m\n\u001b[1;32m    347\u001b[0m             parse_constant is None and object_pairs_hook is None and not kw):\n\u001b[0;32m--> 348\u001b[0;31m         \u001b[0;32mreturn\u001b[0m \u001b[0m_default_decoder\u001b[0m\u001b[0;34m.\u001b[0m\u001b[0mdecode\u001b[0m\u001b[0;34m(\u001b[0m\u001b[0ms\u001b[0m\u001b[0;34m)\u001b[0m\u001b[0;34m\u001b[0m\u001b[0;34m\u001b[0m\u001b[0m\n\u001b[0m\u001b[1;32m    349\u001b[0m     \u001b[0;32mif\u001b[0m \u001b[0mcls\u001b[0m \u001b[0;32mis\u001b[0m \u001b[0;32mNone\u001b[0m\u001b[0;34m:\u001b[0m\u001b[0;34m\u001b[0m\u001b[0;34m\u001b[0m\u001b[0m\n\u001b[1;32m    350\u001b[0m         \u001b[0mcls\u001b[0m \u001b[0;34m=\u001b[0m \u001b[0mJSONDecoder\u001b[0m\u001b[0;34m\u001b[0m\u001b[0;34m\u001b[0m\u001b[0m\n",
      "\u001b[0;32m~/anaconda3/envs/rw/lib/python3.7/json/decoder.py\u001b[0m in \u001b[0;36mdecode\u001b[0;34m(self, s, _w)\u001b[0m\n\u001b[1;32m    335\u001b[0m \u001b[0;34m\u001b[0m\u001b[0m\n\u001b[1;32m    336\u001b[0m         \"\"\"\n\u001b[0;32m--> 337\u001b[0;31m         \u001b[0mobj\u001b[0m\u001b[0;34m,\u001b[0m \u001b[0mend\u001b[0m \u001b[0;34m=\u001b[0m \u001b[0mself\u001b[0m\u001b[0;34m.\u001b[0m\u001b[0mraw_decode\u001b[0m\u001b[0;34m(\u001b[0m\u001b[0ms\u001b[0m\u001b[0;34m,\u001b[0m \u001b[0midx\u001b[0m\u001b[0;34m=\u001b[0m\u001b[0m_w\u001b[0m\u001b[0;34m(\u001b[0m\u001b[0ms\u001b[0m\u001b[0;34m,\u001b[0m \u001b[0;36m0\u001b[0m\u001b[0;34m)\u001b[0m\u001b[0;34m.\u001b[0m\u001b[0mend\u001b[0m\u001b[0;34m(\u001b[0m\u001b[0;34m)\u001b[0m\u001b[0;34m)\u001b[0m\u001b[0;34m\u001b[0m\u001b[0;34m\u001b[0m\u001b[0m\n\u001b[0m\u001b[1;32m    338\u001b[0m         \u001b[0mend\u001b[0m \u001b[0;34m=\u001b[0m \u001b[0m_w\u001b[0m\u001b[0;34m(\u001b[0m\u001b[0ms\u001b[0m\u001b[0;34m,\u001b[0m \u001b[0mend\u001b[0m\u001b[0;34m)\u001b[0m\u001b[0;34m.\u001b[0m\u001b[0mend\u001b[0m\u001b[0;34m(\u001b[0m\u001b[0;34m)\u001b[0m\u001b[0;34m\u001b[0m\u001b[0;34m\u001b[0m\u001b[0m\n\u001b[1;32m    339\u001b[0m         \u001b[0;32mif\u001b[0m \u001b[0mend\u001b[0m \u001b[0;34m!=\u001b[0m \u001b[0mlen\u001b[0m\u001b[0;34m(\u001b[0m\u001b[0ms\u001b[0m\u001b[0;34m)\u001b[0m\u001b[0;34m:\u001b[0m\u001b[0;34m\u001b[0m\u001b[0;34m\u001b[0m\u001b[0m\n",
      "\u001b[0;32m~/anaconda3/envs/rw/lib/python3.7/json/decoder.py\u001b[0m in \u001b[0;36mraw_decode\u001b[0;34m(self, s, idx)\u001b[0m\n\u001b[1;32m    351\u001b[0m         \"\"\"\n\u001b[1;32m    352\u001b[0m         \u001b[0;32mtry\u001b[0m\u001b[0;34m:\u001b[0m\u001b[0;34m\u001b[0m\u001b[0;34m\u001b[0m\u001b[0m\n\u001b[0;32m--> 353\u001b[0;31m             \u001b[0mobj\u001b[0m\u001b[0;34m,\u001b[0m \u001b[0mend\u001b[0m \u001b[0;34m=\u001b[0m \u001b[0mself\u001b[0m\u001b[0;34m.\u001b[0m\u001b[0mscan_once\u001b[0m\u001b[0;34m(\u001b[0m\u001b[0ms\u001b[0m\u001b[0;34m,\u001b[0m \u001b[0midx\u001b[0m\u001b[0;34m)\u001b[0m\u001b[0;34m\u001b[0m\u001b[0;34m\u001b[0m\u001b[0m\n\u001b[0m\u001b[1;32m    354\u001b[0m         \u001b[0;32mexcept\u001b[0m \u001b[0mStopIteration\u001b[0m \u001b[0;32mas\u001b[0m \u001b[0merr\u001b[0m\u001b[0;34m:\u001b[0m\u001b[0;34m\u001b[0m\u001b[0;34m\u001b[0m\u001b[0m\n\u001b[1;32m    355\u001b[0m             \u001b[0;32mraise\u001b[0m \u001b[0mJSONDecodeError\u001b[0m\u001b[0;34m(\u001b[0m\u001b[0;34m\"Expecting value\"\u001b[0m\u001b[0;34m,\u001b[0m \u001b[0ms\u001b[0m\u001b[0;34m,\u001b[0m \u001b[0merr\u001b[0m\u001b[0;34m.\u001b[0m\u001b[0mvalue\u001b[0m\u001b[0;34m)\u001b[0m \u001b[0;32mfrom\u001b[0m \u001b[0;32mNone\u001b[0m\u001b[0;34m\u001b[0m\u001b[0;34m\u001b[0m\u001b[0m\n",
      "\u001b[0;31mJSONDecodeError\u001b[0m: Expecting ',' delimiter: line 3 column 3 (char 62)"
     ]
    }
   ],
   "source": [
    "spec=json.loads(\"\"\"{\n",
    "  \"$schema\": \"https://vega.github.io/schema/vega/v5.json\"\n",
    "  \"width\": 800,\n",
    "  \"height\": 300,\n",
    "  \"padding\": 5,\n",
    "  \"signals\": [\n",
    "    {\n",
    "      \"name\": \"sex\",\n",
    "      \"value\": \"Total\",\n",
    "      \"bind\": {\"input\": \"select\", \"options\": [\"Total\", \"Male\", \"Female\"]}\n",
    "    }\n",
    "  ],\n",
    "  \"data\": [\n",
    "    {\n",
    "      \"name\": \"table\",\n",
    "      \"url\": \"https://wri-rw.carto.com/api/v2/sql?q=SELECT gadm.gid_0, gadm.name_0, date, variable, value, unit FROM ow_widget_territory AS data LEFT OUTER JOIN gadm36_0 gadm ON data.gid_0 = gadm.gid_0 WHERE gadm.geostore_prod ILIKE 'ca5bfde08587530e76c17fe48362a01d' AND widget = 'fishing employment' ORDER BY date ASC, variable ASC \",\n",
    "      \"format\": {\"type\": \"json\", \"property\": \"rows\"},\n",
    "      \"transform\": [\n",
    "        {\"type\": \"stack\", \"field\": \"value\", \"groupby\": [\"gid_0\", \"date\"]},\n",
    "        {\n",
    "          \"type\": \"formula\",\n",
    "          \"expr\": \"split(datum.variable, ' Employment')[0]\",\n",
    "          \"as\": \"sector\"\n",
    "        },\n",
    "        {\n",
    "          \"type\": \"formula\",\n",
    "          \"expr\": \"split(datum.variable, '_')[1]\",\n",
    "          \"as\": \"sex\"\n",
    "        },\n",
    "        {\"type\": \"formula\", \"expr\": \"datum.value*1000\", \"as\": \"value\"},\n",
    "        {\n",
    "          \"type\": \"formula\",\n",
    "          \"expr\": \"replace(datum.sector, ' ', '_')\",\n",
    "          \"as\": \"sector\"\n",
    "        },\n",
    "        {\n",
    "          \"type\": \"formula\",\n",
    "          \"expr\": \"replace(datum.sector, ' ', '_')\",\n",
    "          \"as\": \"sector\"\n",
    "        },\n",
    "        {\n",
    "          \"type\": \"pivot\",\n",
    "          \"groupby\": [\"gid_0\", \"date\", \"sex\"],\n",
    "          \"field\": \"sector\",\n",
    "          \"value\": \"value\"\n",
    "        },\n",
    "        {\n",
    "          \"type\": \"formula\",\n",
    "          \"expr\": \"datum.Fishing > datum.Natural_Sector_Total ? null: datum.Natural_Sector_Total\",\n",
    "          \"as\": \"Natural_Sector_Total\"\n",
    "        },\n",
    "        {\n",
    "          \"type\": \"formula\",\n",
    "          \"expr\": \"datum.Fishing ? datum.Natural_Sector_Total - datum.Fishing: datum.Natural_Sector_Total\",\n",
    "          \"as\": \"Other Natural Sectors\"\n",
    "        },\n",
    "        {\n",
    "          \"type\": \"fold\",\n",
    "          \"fields\": [\"Fishing\", \"Other Natural Sectors\"],\n",
    "          \"as\": [\"sector\", \"value\"]\n",
    "        },\n",
    "        {\"type\": \"filter\", \"expr\": \"isValid(datum.Natural_Sector_Total)\"},\n",
    "        {\n",
    "          \"type\": \"stack\",\n",
    "          \"field\": \"value\",\n",
    "          \"groupby\": [\"date\", \"sex\"],\n",
    "          \"sort\": {\n",
    "            \"field\": [\"gid_0\", \"date\", \"sector\"],\n",
    "            \"order\": [\"descending\", \"ascending\", \"descending\"]\n",
    "          }\n",
    "        }\n",
    "      ]\n",
    "    },\n",
    "    {\n",
    "      \"name\": \"filter\",\n",
    "      \"source\": \"table\",\n",
    "      \"transform\": [\n",
    "        {\n",
    "          \"type\": \"formula\",\n",
    "          \"expr\": \"test(/M/, datum.sex) ? 'Male': test(/F/, datum.sex) ? 'Female' : 'Total'\",\n",
    "          \"as\": \"sex\"\n",
    "        },\n",
    "        {\"type\": \"filter\", \"expr\": \"datum.sex==sex\"}\n",
    "      ]\n",
    "    }\n",
    "  ],\n",
    "  \"scales\": [\n",
    "    {\n",
    "      \"name\": \"x\",\n",
    "      \"type\": \"band\",\n",
    "      \"range\": \"width\",\n",
    "      \"domain\": {\"data\": \"filter\", \"field\": \"date\"}\n",
    "    },\n",
    "    {\n",
    "      \"name\": \"y\",\n",
    "      \"type\": \"linear\",\n",
    "      \"range\": \"height\",\n",
    "      \"nice\": true,\n",
    "      \"zero\": true,\n",
    "      \"domain\": {\"data\": \"table\", \"field\": \"y1\"}\n",
    "    },\n",
    "    {\n",
    "      \"name\": \"color\",\n",
    "      \"type\": \"ordinal\",\n",
    "      \"range\": [\"#84c0d0\", \"#f3b229\"],\n",
    "      \"domain\": {\"data\": \"filter\", \"field\": \"sector\"}\n",
    "    }\n",
    "  ],\n",
    "  \"axes\": [\n",
    "    {\n",
    "      \"orient\": \"bottom\",\n",
    "      \"scale\": \"x\",\n",
    "      \"zindex\": 1,\n",
    "      \"labelFont\": \"Arial\",\n",
    "      \"labelFontSize\": 11,\n",
    "      \"labelOverlap\": true\n",
    "    },\n",
    "    {\n",
    "      \"orient\": \"left\",\n",
    "      \"scale\": \"y\",\n",
    "      \"zindex\": 1,\n",
    "      \"title\": \"Number of people\",\n",
    "      \"titlePadding\": 8,\n",
    "      \"titleFontSize\": 12,\n",
    "      \"labelFont\": \"Arial\",\n",
    "      \"labelBaseline\": \"middle\",\n",
    "      \"labelAlign\": \"right\",\n",
    "      \"labelPadding\": 8,\n",
    "      \"ticks\": true,\n",
    "      \"tickSize\": 5,\n",
    "      \"grid\": true,\n",
    "      \"gridOpacity\": 0.2,\n",
    "      \"encode\": {\n",
    "        \"labels\": {\"update\": {\"text\": {\"signal\": \"format(datum.value, ',')\"}}}\n",
    "      }\n",
    "    }\n",
    "  ],\n",
    "  \"marks\": [\n",
    "    {\n",
    "      \"type\": \"rect\",\n",
    "      \"from\": {\"data\": \"filter\"},\n",
    "      \"encode\": {\n",
    "        \"enter\": {\n",
    "          \"x\": {\"scale\": \"x\", \"field\": \"date\"},\n",
    "          \"width\": {\"scale\": \"x\", \"band\": 1, \"offset\": -1},\n",
    "          \"y\": {\"scale\": \"y\", \"field\": \"y0\"},\n",
    "          \"y2\": {\"scale\": \"y\", \"field\": \"y1\"},\n",
    "          \"fill\": {\"scale\": \"color\", \"field\": \"sector\"},\n",
    "          \"tooltip\": {\n",
    "            \"signal\": \"{'Year': datum.date, 'Employment sector': (datum.sector === 'Other Natural Sectors' ? 'Agriculture & Forestry' : datum.sector), 'Employment: ': format(datum.value, ',.5r')}\"\n",
    "          }\n",
    "        },\n",
    "        \"update\": {\n",
    "          \"fillOpacity\": [\n",
    "            {\n",
    "              \"test\": \"test(/Other Natural Sectors/, datum.sector)\",\n",
    "              \"value\": 0.8\n",
    "            },\n",
    "            {\"value\": 1}\n",
    "          ]\n",
    "        },\n",
    "        \"hover\": {\"fillOpacity\": {\"value\": 0.7}}\n",
    "      }\n",
    "    }\n",
    "  ],\n",
    "  \"legends\": [{\"title\": [\"Sector:\"], \"fill\": \"color\", \"orient\": \"right\"}]\n",
    "}\n",
    "\"\"\")\n",
    "vegaview=dict(spec)\n",
    "Vega(vegaview)"
   ]
  },
  {
   "cell_type": "markdown",
   "metadata": {},
   "source": [
    "## RW Backoffice"
   ]
  },
  {
   "cell_type": "markdown",
   "metadata": {},
   "source": [
    "- [back office](https://resourcewatch.org/admin/data/widgets/49e474c1-014b-476c-b832-8c9a556ad6e3/edit?dataset=4487e012-9571-4175-991a-101268d6bb3f)\n",
    "- parent dataset [com.037.rw0](https://resourcewatch.org/data/explore/4487e012-9571-4175-991a-101268d6bb3f) (unpublished)\n",
    "- dataset id ```4487e012-9571-4175-991a-101268d6bb3f```\n",
    "- widget id: ```49e474c1-014b-476c-b832-8c9a556ad6e3```"
   ]
  },
  {
   "cell_type": "markdown",
   "metadata": {},
   "source": []
  },
  {
   "cell_type": "code",
   "execution_count": null,
   "metadata": {},
   "outputs": [],
   "source": []
  }
 ],
 "metadata": {
  "kernelspec": {
   "display_name": "Python 3",
   "language": "python",
   "name": "python3"
  },
  "language_info": {
   "codemirror_mode": {
    "name": "ipython",
    "version": 3
   },
   "file_extension": ".py",
   "mimetype": "text/x-python",
   "name": "python",
   "nbconvert_exporter": "python",
   "pygments_lexer": "ipython3",
   "version": "3.7.7"
  }
 },
 "nbformat": 4,
 "nbformat_minor": 4
}
