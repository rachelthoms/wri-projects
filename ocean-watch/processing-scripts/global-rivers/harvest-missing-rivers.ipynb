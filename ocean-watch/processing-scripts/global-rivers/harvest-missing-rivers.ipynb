{
 "cells": [
  {
   "cell_type": "markdown",
   "metadata": {},
   "source": [
    "# Harvesting Global River Data "
   ]
  },
  {
   "cell_type": "markdown",
   "metadata": {},
   "source": [
    "The purpose of this script is to download global data on river locations and names from Open Street Map"
   ]
  },
  {
   "cell_type": "code",
   "execution_count": 71,
   "metadata": {},
   "outputs": [],
   "source": [
    "import osm2geojson \n",
    "import requests\n",
    "import json\n",
    "import fiona\n",
    "from fiona.crs import from_epsg\n",
    "import time\n",
    "import geopandas as gdp\n",
    "import pandas as pd"
   ]
  },
  {
   "cell_type": "code",
   "execution_count": 60,
   "metadata": {},
   "outputs": [],
   "source": [
    "missing_bbox_list= [(50,0,55,10),(55,0,60,10),(40,0,45,10),(45,0,50,10),(40,10,45,20),(45,10,50,20)]\n",
    "time_outs=[180,180,180,360,360,360,540,540,540]\n",
    "rivers=[]"
   ]
  },
  {
   "cell_type": "code",
   "execution_count": 61,
   "metadata": {},
   "outputs": [],
   "source": [
    "overpass_url = \"https://overpass.openstreetmap.fr/api/interpreter\""
   ]
  },
  {
   "cell_type": "code",
   "execution_count": 62,
   "metadata": {},
   "outputs": [],
   "source": [
    "template = \"\"\"\n",
    "[out:json]\n",
    "[timeout:{time_out}];\n",
    "way{bbox}[waterway=river][\"name\"];\n",
    "(._;>;);out;\n",
    "\"\"\""
   ]
  },
  {
   "cell_type": "code",
   "execution_count": 63,
   "metadata": {},
   "outputs": [
    {
     "name": "stdout",
     "output_type": "stream",
     "text": [
      "Getting rivers for: (50, 0, 55, 10)\n",
      "https://overpass.openstreetmap.fr/api/interpreter?data=%0A%5Bout%3Ajson%5D%0A%5Btimeout%3A180%5D%3B%0Away%2850%2C+0%2C+55%2C+10%29%5Bwaterway%3Driver%5D%5B%22name%22%5D%3B%0A%28._%3B%3E%3B%29%3Bout%3B%0A\n",
      "converting to geojson\n",
      "14075 rivers added. Total rivers: 14075\n",
      "Getting rivers for: (55, 0, 60, 10)\n",
      "https://overpass.openstreetmap.fr/api/interpreter?data=%0A%5Bout%3Ajson%5D%0A%5Btimeout%3A180%5D%3B%0Away%2855%2C+0%2C+60%2C+10%29%5Bwaterway%3Driver%5D%5B%22name%22%5D%3B%0A%28._%3B%3E%3B%29%3Bout%3B%0A\n",
      "converting to geojson\n",
      "1572 rivers added. Total rivers: 15647\n",
      "Getting rivers for: (40, 0, 45, 10)\n",
      "https://overpass.openstreetmap.fr/api/interpreter?data=%0A%5Bout%3Ajson%5D%0A%5Btimeout%3A180%5D%3B%0Away%2840%2C+0%2C+45%2C+10%29%5Bwaterway%3Driver%5D%5B%22name%22%5D%3B%0A%28._%3B%3E%3B%29%3Bout%3B%0A\n",
      "converting to geojson\n",
      "8449 rivers added. Total rivers: 24096\n",
      "Getting rivers for: (45, 0, 50, 10)\n",
      "https://overpass.openstreetmap.fr/api/interpreter?data=%0A%5Bout%3Ajson%5D%0A%5Btimeout%3A180%5D%3B%0Away%2845%2C+0%2C+50%2C+10%29%5Bwaterway%3Driver%5D%5B%22name%22%5D%3B%0A%28._%3B%3E%3B%29%3Bout%3B%0A\n",
      "converting to geojson\n",
      "27325 rivers added. Total rivers: 51421\n",
      "Getting rivers for: (40, 10, 45, 20)\n",
      "https://overpass.openstreetmap.fr/api/interpreter?data=%0A%5Bout%3Ajson%5D%0A%5Btimeout%3A180%5D%3B%0Away%2840%2C+10%2C+45%2C+20%29%5Bwaterway%3Driver%5D%5B%22name%22%5D%3B%0A%28._%3B%3E%3B%29%3Bout%3B%0A\n",
      "converting to geojson\n",
      "3042 rivers added. Total rivers: 54463\n",
      "Getting rivers for: (45, 10, 50, 20)\n",
      "https://overpass.openstreetmap.fr/api/interpreter?data=%0A%5Bout%3Ajson%5D%0A%5Btimeout%3A180%5D%3B%0Away%2845%2C+10%2C+50%2C+20%29%5Bwaterway%3Driver%5D%5B%22name%22%5D%3B%0A%28._%3B%3E%3B%29%3Bout%3B%0A\n",
      "converting to geojson\n",
      "11800 rivers added. Total rivers: 66263\n"
     ]
    }
   ],
   "source": [
    "for bbox in missing_bbox_list:    \n",
    "    print(\"Getting rivers for: \" + str(bbox))\n",
    "    for attempt in range(10):                \n",
    "        try: \n",
    "            overpass_query= template.format(time_out=time_outs[attempt],bbox=bbox)\n",
    "            response = requests.get(overpass_url, params={'data': overpass_query,}, headers = {'User-agent': 'wriuser'})\n",
    "            data = response.json()       \n",
    "            geojson= osm2geojson.json2geojson(data)\n",
    "            break\n",
    "        except: \n",
    "            print(\"error \" + str(response.status_code) + \"- retrying in 3 minutes\")\n",
    "            time.sleep(180)                \n",
    "    else:\n",
    "        print(\"unable to fetch data for\" + str(bbox))\n",
    "        break            \n",
    "    for way in geojson['features']: \n",
    "        rivers.append(way)\n",
    "    print(str(len(geojson['features'])) + \" rivers added. Total rivers: \" + str(len(rivers)))"
   ]
  },
  {
   "cell_type": "code",
   "execution_count": 64,
   "metadata": {},
   "outputs": [
    {
     "name": "stdout",
     "output_type": "stream",
     "text": [
      "could not add Dijle\n",
      "could not add Muhder Sieltief\n",
      "could not add Muhder Sieltief\n",
      "could not add Muhder Sieltief\n",
      "could not add Rio Mare Foghe\n"
     ]
    }
   ],
   "source": [
    "schema = {'geometry': 'LineString', 'properties': {'Name':'str:80'}}\n",
    "shapeout = \"osm_rivers_to_add.shp\"\n",
    "with fiona.open(shapeout, 'w',crs=from_epsg(4326),driver='ESRI Shapefile', schema=schema) as output:\n",
    "    for way in rivers:\n",
    "        # the shapefile geometry use (lon,lat) \n",
    "        line = {'type': 'LineString', 'coordinates': way['geometry']['coordinates']}\n",
    "        prop = {'Name': way['properties']['tags']['name']}\n",
    "        try:\n",
    "            output.write({'geometry': line, 'properties':prop})  \n",
    "        except:\n",
    "            print(\"could not add \" + prop[\"Name\"])"
   ]
  },
  {
   "cell_type": "code",
   "execution_count": 68,
   "metadata": {},
   "outputs": [],
   "source": [
    "to_add_gdf = gdp.read_file(\"osm_rivers_to_add.shp\")\n",
    "rivers_gdf = gdp.read_file(\"osm_rivers.shp\")"
   ]
  },
  {
   "cell_type": "code",
   "execution_count": 73,
   "metadata": {},
   "outputs": [],
   "source": [
    "rivers_gdf = pd.concat([to_add_gdf, rivers_gdf], ignore_index=True)"
   ]
  },
  {
   "cell_type": "code",
   "execution_count": 74,
   "metadata": {},
   "outputs": [],
   "source": [
    "rivers_gdf.to_file(driver = 'ESRI Shapefile', filename = \"osm_rivers_final.shp\")"
   ]
  },
  {
   "cell_type": "markdown",
   "metadata": {},
   "source": [
    "Spatial Join in ArcMap"
   ]
  },
  {
   "cell_type": "code",
   "execution_count": null,
   "metadata": {},
   "outputs": [],
   "source": []
  }
 ],
 "metadata": {
  "kernelspec": {
   "display_name": "Python 3",
   "language": "python",
   "name": "python3"
  },
  "language_info": {
   "codemirror_mode": {
    "name": "ipython",
    "version": 3
   },
   "file_extension": ".py",
   "mimetype": "text/x-python",
   "name": "python",
   "nbconvert_exporter": "python",
   "pygments_lexer": "ipython3",
   "version": "3.7.7"
  }
 },
 "nbformat": 4,
 "nbformat_minor": 4
}
