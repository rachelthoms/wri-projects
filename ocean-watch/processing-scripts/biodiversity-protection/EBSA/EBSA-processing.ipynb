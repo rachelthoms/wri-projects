{
 "cells": [
  {
   "cell_type": "code",
   "execution_count": 1,
   "source": [
    "from cartoframes.auth import set_default_credentials\n",
    "from cartoframes import read_carto, to_carto\n",
    "import geopandas as gpd\n",
    "import pandas as pd\n",
    "import os\n",
    "import logging \n",
    "from shapely import geometry\n",
    "import requests\n",
    "import re\n",
    "from bs4 import BeautifulSoup\n",
    "import glob\n",
    "from zipfile import ZipFile\n",
    "import shutil"
   ],
   "outputs": [
    {
     "output_type": "stream",
     "name": "stdout",
     "text": [
      "NumExpr defaulting to 8 threads.\n"
     ]
    }
   ],
   "metadata": {}
  },
  {
   "cell_type": "code",
   "execution_count": 2,
   "source": [
    "# get top-level logger object\n",
    "logger = logging.getLogger()\n",
    "for handler in logger.handlers: logger.removeHandler(handler)\n",
    "# manually set level \n",
    "logger.setLevel(logging.INFO)\n",
    "# print to console\n",
    "console = logging.StreamHandler()\n",
    "logger.addHandler(console)\n",
    "logging.basicConfig(format='%(asctime)s - %(name)s - %(levelname)s - %(message)s')"
   ],
   "outputs": [],
   "metadata": {}
  },
  {
   "cell_type": "code",
   "execution_count": 9,
   "source": [
    "data_dir = \"data\""
   ],
   "outputs": [],
   "metadata": {}
  },
  {
   "cell_type": "code",
   "execution_count": 10,
   "source": [
    "logger.info('Pull EBSAs from OneDrive')\n",
    "# copy the csv with the urls for the EBSA jsons\n",
    "raw_data_file = os.path.join(os.getenv(\"OCEANWATCH_DATA_DIR\"),'EBSA_url_list.csv')\n",
    "dest_dir = os.path.join(data_dir, os.path.basename(raw_data_file))\n",
    "shutil.copy(raw_data_file, dest_dir)"
   ],
   "outputs": [
    {
     "output_type": "stream",
     "name": "stderr",
     "text": [
      "Pull EBSAs from OneDrive\n"
     ]
    },
    {
     "output_type": "execute_result",
     "data": {
      "text/plain": [
       "'data/EBSA_url_list.csv'"
      ]
     },
     "metadata": {},
     "execution_count": 10
    }
   ],
   "metadata": {}
  },
  {
   "cell_type": "code",
   "execution_count": 11,
   "source": [
    "# read in the csv with the urls for the EBSA jsons\n",
    "url_df = pd.read_csv(raw_data_file,encoding='latin-1')\n",
    "url_list = url_df['CHM Url']"
   ],
   "outputs": [],
   "metadata": {}
  },
  {
   "cell_type": "code",
   "execution_count": 12,
   "source": [
    "# regex pattern for the date (year)\n",
    "match_st = re.compile(r'geojson') #[/w,/W]*ng-href=\"[/w,/W]*.geojson\n",
    "for url in url_list:\n",
    "    # download the data from the source\n",
    "    page_file = os.path.join(data_dir, os.path.basename(url))\n",
    "    r = requests.get(url)  \n",
    "    c = r.content \n",
    "    soup = BeautifulSoup(c)\n",
    "    for link in soup.findAll('a', attrs={'href': re.compile(\"geojson$\")}):\n",
    "        href  = link.get('href')\n",
    "        url = 'https://chm.cbd.int' + href\n",
    "        raw_data_file = os.path.join(data_dir, os.path.basename(url))\n",
    "        r = requests.get(url)\n",
    "    with open(raw_data_file, 'wb') as f:\n",
    "        f.write(r.content)"
   ],
   "outputs": [],
   "metadata": {}
  },
  {
   "cell_type": "code",
   "execution_count": 18,
   "source": [
    "ebsa_files = glob.glob(os.path.join(data_dir, '*geojson'))\n",
    "gdf_list = []"
   ],
   "outputs": [],
   "metadata": {}
  },
  {
   "cell_type": "code",
   "execution_count": 16,
   "source": [
    "print(ebsa_files)"
   ],
   "outputs": [
    {
     "output_type": "stream",
     "name": "stdout",
     "text": [
      "[['data/ARC_10_EBSA.geojson', 'data/BSCS_6_EBSA.geojson', 'data/NWIO_29_EBSA.geojson', 'data/EA_35_EBSA.geojson', 'data/NWIO_16_EBSA.geojson', 'data/SIO_8_EBSA.geojson', 'data/SIO_21_EBSA.geojson', 'data/EA_19_EBSA.geojson', 'data/NWIO_13_EBSA.geojson', 'data/SEA_12_EBSA.geojson', 'data/EA_13_EBSA.geojson', 'data/BSCS_14_EBSA.geojson', 'data/EA_28_EBSA.geojson', 'data/EA_26_EBSA.geojson', 'data/BSCS_3_EBSA.geojson', 'data/ETTP_20_EBSA.geojson', 'data/EA_15_EBSA.geojson', 'data/NWA_3_EBSA.geojson', 'data/ETTP_4_EBSA.geojson', 'data/ETTP_13_EBSA.geojson', 'data/SIO_34_EBSA.geojson', 'data/EA_2_EBSA.geojson', 'data/SIO_11_EBSA.geojson', 'data/NP_3_EBSA.geojson', 'data/SEA_42_EBSA.geojson', 'data/MED_9_EBSA.geojson', 'data/SEA_31_EBSA.geojson', 'data/SIO_32_EBSA.geojson', 'data/EA_8_EBSA.geojson', 'data/SEA_32_EBSA.geojson', 'data/MED_16_EBSA.geojson', 'data/NWIO_25_EBSA.geojson', 'data/BSCS_11_EBSA.geojson', 'data/NEIO_3_EBSA.geojson', 'data/NP_20_EBSA.geojson', 'data/NP_16_EBSA.geojson', 'data/BSCS_30_EBSA.geojson', 'data/BSCS_16_EBSA.geojson', 'data/ARC_9_EBSA.geojson', 'data/SIO_25_EBSA.geojson', 'data/NWIO_30_EBSA.geojson', 'data/MED_14_EBSA.geojson', 'data/SEA_25_EBSA.geojson', 'data/EA_1_EBSA.geojson', 'data/SIO_27_EBSA.geojson', 'data/EA_4_EBSA.geojson', 'data/NWIO_8_EBSA.geojson', 'data/SEA_34_EBSA.geojson', 'data/BALT_8_EBSA.geojson', 'data/SIO_12_EBSA.geojson', 'data/EA_5_EBSA.geojson', 'data/NWIO_3_EBSA.geojson', 'data/SEA_23_EBSA.geojson', 'data/NEIO_10_EBSA.geojson', 'data/BSCS_12_EBSA.geojson', 'data/ETTP_10_EBSA.geojson', 'data/BSCS_31_EBSA.geojson', 'data/BSCS_33_EBSA.geojson', 'data/ETTP_12_EBSA.geojson', 'data/EA_30_EBSA.geojson', 'data/EA_34_EBSA.geojson', 'data/SIO_31_EBSA.geojson', 'data/BSCS_24_EBSA.geojson', 'data/SEA_26_EBSA.geojson', 'data/SEA_19_EBSA.geojson', 'data/SIO_5_EBSA.geojson', 'data/ETTP_15_EBSA.geojson', 'data/NP_5_EBSA.geojson', 'data/BSCS_23_EBSA.geojson', 'data/ARC_2_EBSA.geojson', 'data/SEA_16_EBSA.geojson', 'data/ETTP_2_EBSA.geojson', 'data/ARC_11_EBSA.geojson', 'data/BSCS_7_EBSA.geojson', 'data/SIO_1_EBSA.geojson', 'data/EA_29_EBSA.geojson', 'data/NP_12_EBSA.geojson', 'data/NWIO_12_EBSA.geojson', 'data/SIO_29_EBSA.geojson', 'data/SIO_18_EBSA.geojson', 'data/EA_33_EBSA.geojson', 'data/NWA_6_EBSA.geojson', 'data/BSCS_1_EBSA.geojson', 'data/BSCS_4_EBSA.geojson', 'data/NEIO_6_EBSA.geojson', 'data/BSCS_2_EBSA.geojson', 'data/SEA_24_EBSA.geojson', 'data/SIO_13_EBSA.geojson', 'data/NWIO_20_EBSA.geojson', 'data/SIO_17_EBSA.geojson', 'data/NWIO_1_EBSA.geojson', 'data/ETTP_11_EBSA.geojson', 'data/SEA_15_EBSA.geojson', 'data/NP_14_EBSA.geojson', 'data/SIO_36_EBSA.geojson', 'data/EA_22_EBSA.geojson', 'data/ETTP_5_EBSA.geojson', 'data/SIO_28_EBSA.geojson', 'data/ETTP_3_EBSA.geojson', 'data/SEA_5_EBSA.geojson', 'data/SIO_7_EBSA.geojson', 'data/SEA_38_EBSA.geojson', 'data/ETTP_16_EBSA.geojson', 'data/MED_7_EBSA.geojson', 'data/SIO_37_EBSA.geojson', 'data/SEA_8_EBSA.geojson', 'data/NWIO_28_EBSA.geojson', 'data/SEA_1_EBSA.geojson', 'data/EA_24_EBSA.geojson', 'data/NP_9_EBSA.geojson', 'data/SEA_35_EBSA.geojson', 'data/NWIO_6_EBSA.geojson', 'data/SEA_33_EBSA.geojson', 'data/SIO_38_EBSA.geojson', 'data/SIO_24_EBSA.geojson', 'data/NWIO_22_EBSA.geojson', 'data/BSCS_32_EBSA.geojson', 'data/EA_12_EBSA.geojson', 'data/EA_6_EBSA.geojson', 'data/MED_17_EBSA.geojson', 'data/SEA_39_EBSA.geojson', 'data/BSCS_5_EBSA.geojson', 'data/SIO_39_EBSA.geojson', 'data/SEA_2_EBSA.geojson', 'data/ARC_8_EBSA.geojson', 'data/SIO_4_EBSA.geojson', 'data/SIO_20_EBSA.geojson', 'data/SEA_13_EBSA.geojson', 'data/BSCS_22_EBSA.geojson', 'data/BALT_3_EBSA.geojson', 'data/SIO_2_EBSA.geojson', 'data/MED_10_EBSA.geojson', 'data/NWIO_10_EBSA.geojson', 'data/BSCS_25_EBSA.geojson', 'data/NWIO_11_EBSA.geojson', 'data/EA_27_EBSA.geojson', 'data/BSCS_15_EBSA.geojson', 'data/NEIO_7_EBSA.geojson', 'data/NWIO_26_EBSA.geojson', 'data/ARC_1_EBSA.geojson', 'data/NWIO_4_EBSA.geojson', 'data/NEIO_9_EBSA.geojson', 'data/BSCS_10_EBSA.geojson', 'data/NWIO_18_EBSA.geojson', 'data/BSCS_28_EBSA.geojson', 'data/BSCS_17_EBSA.geojson', 'data/SIO_16_EBSA.geojson', 'data/NP_1_EBSA.geojson', 'data/NP_17_EBSA.geojson', 'data/BSCS_13_EBSA.geojson', 'data/EA_11_EBSA.geojson', 'data/ETTP_21_EBSA.geojson', 'data/NWIO_21_EBSA.geojson', 'data/SEA_11_EBSA.geojson', 'data/NWA_1_EBSA.geojson', 'data/NP_11_EBSA.geojson', 'data/EA_14_EBSA.geojson', 'data/SIO_14_EBSA.geojson', 'data/ARC_4_EBSA.geojson', 'data/NP_19_EBSA.geojson', 'data/BALT_4_EBSA.geojson', 'data/NEIO_2_EBSA.geojson', 'data/MED_15_EBSA.geojson', 'data/EA_32_EBSA.geojson', 'data/NP_18_EBSA.geojson', 'data/SIO_10_EBSA.geojson', 'data/NWA_7_EBSA.geojson', 'data/SEA_21_EBSA.geojson', 'data/NP_8_EBSA.geojson', 'data/NP_15_EBSA.geojson', 'data/SEA_45_EBSA.geojson', 'data/NWIO_19_EBSA.geojson', 'data/SIO_26_EBSA.geojson', 'data/BALT_5_EBSA.geojson', 'data/SIO_6_EBSA.geojson', 'data/EA_18_EBSA.geojson', 'data/NWIO_15_EBSA.geojson', 'data/ETTP_17_EBSA.geojson', 'data/BSCS_20_EBSA.geojson', 'data/NWIO_24_EBSA.geojson', 'data/SEA_18_EBSA.geojson', 'data/SEA_43_EBSA.geojson', 'data/NWIO_14_EBSA.geojson', 'data/SEA_4_EBSA.geojson', 'data/SEA_3_EBSA.geojson', 'data/NEIO_4_EBSA.geojson', 'data/NWA_5_EBSA.geojson', 'data/NEIO_1_EBSA.geojson', 'data/SEA_10_EBSA.geojson', 'data/NEIO_8_EBSA.geojson', 'data/BSCS_26_EBSA.geojson', 'data/EA_25_EBSA.geojson', 'data/SEA_6_EBSA.geojson', 'data/NP_4_EBSA.geojson', 'data/ETTP_8_EBSA.geojson', 'data/SEA_30_EBSA.geojson', 'data/SEA_29_EBSA.geojson', 'data/EA_31_EBSA.geojson', 'data/SEA_44_EBSA.geojson', 'data/EA_20_EBSA.geojson', 'data/NWIO_5_EBSA.geojson', 'data/ETTP_1_EBSA.geojson', 'data/SEA_9_EBSA.geojson', 'data/EA_9_EBSA.geojson', 'data/BALT_9_EBSA.geojson', 'data/ETTP_9_EBSA.geojson', 'data/ARC_5_EBSA.geojson', 'data/ARC_3_EBSA.geojson', 'data/SIO_3_EBSA.geojson', 'data/ETTP_6_EBSA.geojson', 'data/MED_11_EBSA.geojson', 'data/EA_10_EBSA.geojson', 'data/BALT_1_EBSA.geojson', 'data/NWIO_27_EBSA.geojson', 'data/SEA_27_EBSA.geojson', 'data/BSCS_18_EBSA.geojson', 'data/NEIO_5_EBSA.geojson', 'data/SEA_41_EBSA.geojson', 'data/SIO_35_EBSA.geojson', 'data/MED_3_EBSA.geojson', 'data/MED_2_EBSA.geojson', 'data/SEA_7_EBSA.geojson', 'data/BSCS_27_EBSA.geojson', 'data/ETTP_7_EBSA.geojson', 'data/EA_17_EBSA.geojson', 'data/SEA_22_EBSA.geojson', 'data/BSCS_8_EBSA.geojson', 'data/MED_12_EBSA.geojson', 'data/ARC_6_EBSA.geojson', 'data/NP_10_EBSA.geojson', 'data/ETTP_19_EBSA.geojson', 'data/EA_3_EBSA.geojson', 'data/SEA_20_EBSA.geojson', 'data/NWA_4_EBSA.geojson', 'data/EA_16_EBSA.geojson', 'data/MED_8_EBSA.geojson', 'data/ETTP_14_EBSA.geojson', 'data/BALT_6_EBSA.geojson', 'data/SIO_15_EBSA.geojson', 'data/SEA_37_EBSA.geojson', 'data/NWIO_2_EBSA.geojson', 'data/ETTP_18_EBSA.geojson', 'data/SIO_22_EBSA.geojson', 'data/NP_13_EBSA.geojson', 'data/SIO_9_EBSA.geojson', 'data/BSCS_21_EBSA.geojson', 'data/BALT_7_EBSA.geojson', 'data/SIO_19_EBSA.geojson', 'data/BSCS_29_EBSA.geojson', 'data/ARC_7_EBSA.geojson', 'data/NWA_2_EBSA.geojson', 'data/NWIO_7_EBSA.geojson', 'data/NP_2_EBSA.geojson', 'data/SEA_28_EBSA.geojson', 'data/NWIO_9_EBSA.geojson', 'data/MED_1_EBSA.geojson', 'data/EA_23_EBSA.geojson', 'data/SIO_30_EBSA.geojson', 'data/MED_13_EBSA.geojson', 'data/NP_7_EBSA.geojson', 'data/NP_6_EBSA.geojson', 'data/BALT_2_EBSA.geojson', 'data/SEA_17_EBSA.geojson', 'data/NWIO_23_EBSA.geojson', 'data/SIO_23_EBSA.geojson', 'data/NWIO_31_EBSA.geojson', 'data/BSCS_19_EBSA.geojson', 'data/EA_21_EBSA.geojson', 'data/SEA_36_EBSA.geojson', 'data/BSCS_9_EBSA.geojson', 'data/SIO_33_EBSA.geojson', 'data/MED_6_EBSA.geojson']]\n"
     ]
    }
   ],
   "metadata": {}
  },
  {
   "cell_type": "code",
   "execution_count": 20,
   "source": [
    "for file in ebsa_files:\n",
    "    try:\n",
    "        gdf = gpd.read_file(file)\n",
    "        gdf_list.append(gdf)\n",
    "    except Exception:\n",
    "        print(\"Could not read\" + file)\n",
    "     "
   ],
   "outputs": [
    {
     "output_type": "stream",
     "name": "stderr",
     "text": [
      "`data/SIO_3_EBSA.geojson' not recognized as a supported file format.\n"
     ]
    },
    {
     "output_type": "stream",
     "name": "stdout",
     "text": [
      "Could not readdata/SIO_3_EBSA.geojson\n"
     ]
    }
   ],
   "metadata": {}
  },
  {
   "cell_type": "code",
   "execution_count": 21,
   "source": [
    "# merge geopandas dataframes \n",
    "gdf_ebsa = gpd.GeoDataFrame(pd.concat(gdf_list))\n",
    "print (\"Length EBSA = \" + str(len(gdf_ebsa.index)))"
   ],
   "outputs": [
    {
     "output_type": "stream",
     "name": "stdout",
     "text": [
      "Length EBSA = 479\n",
      "                                         NAME  \\\n",
      "0    Wrangel-Herald Shallow and Ratmanov Gyre   \n",
      "0                 The Small Phyllophora Field   \n",
      "0                            Oman Arabian Sea   \n",
      "0                         Northeastern Honshu   \n",
      "0  Sandspit/Hawks Bay and Adjacent Backwaters   \n",
      "\n",
      "                                          Workshop  EBSA_ID GLOBAL_ID  \\\n",
      "0                                           Arctic       10    ARC_10   \n",
      "0                        Black Sea and Caspian Sea        6    BSCS_6   \n",
      "0  North-West Indian Ocean and Adjacent Gulf Areas       29   NWIO_29   \n",
      "0                                Seas of East Asia       35     EA_35   \n",
      "0  North-West Indian Ocean and Adjacent Gulf Areas       16   NWIO_16   \n",
      "\n",
      "                                            geometry  \n",
      "0  MULTIPOLYGON (((180.00000 70.14896, 179.99272 ...  \n",
      "0  POLYGON ((33.16825 45.80095, 33.15300 45.90800...  \n",
      "0  POLYGON ((59.45319 22.62132, 59.47155 22.63917...  \n",
      "0  MULTIPOLYGON (((141.73138 39.01435, 141.73008 ...  \n",
      "0  POLYGON ((66.93233 24.82471, 66.92801 24.81228...  \n"
     ]
    }
   ],
   "metadata": {}
  },
  {
   "cell_type": "code",
   "execution_count": 25,
   "source": [
    "# save processed dataset to shapefile\n",
    "gdf_ebsa.to_file('merged_ebsa.shp',driver='ESRI Shapefile')\n"
   ],
   "outputs": [
    {
     "output_type": "stream",
     "name": "stderr",
     "text": [
      "One or several characters couldn't be converted correctly from UTF-8 to ISO-8859-1.  This warning will not be emitted anymore.\n"
     ]
    }
   ],
   "metadata": {}
  },
  {
   "cell_type": "code",
   "execution_count": 26,
   "source": [
    "# dissolve\n",
    "gdf_ebsa = gdf_ebsa.dissolve('NAME')\n",
    "print (\"Length EBSA = \" + str(len(gdf_ebsa.index)))\n",
    "\n",
    "# save processed dataset to shapefile\n",
    "gdf_ebsa.to_file('dissolved_ebsa.shp',driver='ESRI Shapefile')\n"
   ],
   "outputs": [
    {
     "output_type": "stream",
     "name": "stdout",
     "text": [
      "Length EBSA = 271\n",
      "                                                                                             geometry  \\\n",
      "NAME                                                                                                    \n",
      "\"Ilha s Tinhosa\" (Ilha Principe)                    POLYGON ((7.26433 1.44636, 7.28321 1.44270, 7....   \n",
      "2les des Sept Frbres et Godorya (Seven Brothers...  MULTIPOLYGON (((43.32699 12.47501, 43.45137 12...   \n",
      "Agulhas Bank Nursery Area                           POLYGON ((22.22186 -34.26398, 22.22942 -35.104...   \n",
      "Agulhas Front                                       POLYGON ((77.12534 -30.98200, 78.27117 -32.083...   \n",
      "Agulhas slope and seamounts                         POLYGON ((23.10876 -37.35889, 21.36935 -37.395...   \n",
      "\n",
      "                                                                                           Workshop  \\\n",
      "NAME                                                                                                  \n",
      "\"Ilha s Tinhosa\" (Ilha Principe)                                                South East Atlantic   \n",
      "2les des Sept Frbres et Godorya (Seven Brothers...  North-West Indian Ocean and Adjacent Gulf Areas   \n",
      "Agulhas Bank Nursery Area                                                     Southern Indian Ocean   \n",
      "Agulhas Front                                                                 Southern Indian Ocean   \n",
      "Agulhas slope and seamounts                                                   Southern Indian Ocean   \n",
      "\n",
      "                                                    EBSA_ID GLOBAL_ID  \n",
      "NAME                                                                   \n",
      "\"Ilha s Tinhosa\" (Ilha Principe)                         26    SEA_26  \n",
      "2les des Sept Frbres et Godorya (Seven Brothers...       20   NWIO_20  \n",
      "Agulhas Bank Nursery Area                                 1     SIO_1  \n",
      "Agulhas Front                                            11    SIO_11  \n",
      "Agulhas slope and seamounts                               2     SIO_2  \n"
     ]
    },
    {
     "output_type": "stream",
     "name": "stderr",
     "text": [
      "One or several characters couldn't be converted correctly from UTF-8 to ISO-8859-1.  This warning will not be emitted anymore.\n"
     ]
    }
   ],
   "metadata": {}
  }
 ],
 "metadata": {
  "orig_nbformat": 4,
  "language_info": {
   "name": "python",
   "version": "3.7.7",
   "mimetype": "text/x-python",
   "codemirror_mode": {
    "name": "ipython",
    "version": 3
   },
   "pygments_lexer": "ipython3",
   "nbconvert_exporter": "python",
   "file_extension": ".py"
  },
  "kernelspec": {
   "name": "python3",
   "display_name": "Python 3.7.7 64-bit ('base': conda)"
  },
  "interpreter": {
   "hash": "5df9a4ef679db67a0f9a60f8b8eb235a4adefd809cf6c33ee52fa80bbe16a2b8"
  }
 },
 "nbformat": 4,
 "nbformat_minor": 2
}