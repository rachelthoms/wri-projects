{
 "cells": [
  {
   "cell_type": "markdown",
   "source": [
    "# Biodiversity Protection Indicator Geoprocessing "
   ],
   "metadata": {}
  },
  {
   "cell_type": "markdown",
   "source": [
    "## Load modules"
   ],
   "metadata": {}
  },
  {
   "cell_type": "code",
   "execution_count": 5,
   "source": [
    "from cartoframes.auth import set_default_credentials\n",
    "from cartoframes import read_carto, to_carto\n",
    "import geopandas as gpd\n",
    "import pandas as pd\n",
    "import os\n",
    "import logging \n",
    "from shapely import geometry\n",
    "import requests\n",
    "import re\n",
    "from bs4 import BeautifulSoup\n",
    "import glob\n",
    "from zipfile import ZipFile\n",
    "import shutil"
   ],
   "outputs": [],
   "metadata": {}
  },
  {
   "cell_type": "markdown",
   "source": [
    "## Set up"
   ],
   "metadata": {}
  },
  {
   "cell_type": "markdown",
   "source": [
    "Set up logging"
   ],
   "metadata": {}
  },
  {
   "cell_type": "code",
   "execution_count": 6,
   "source": [
    "# get top-level logger object\n",
    "logger = logging.getLogger()\n",
    "for handler in logger.handlers: logger.removeHandler(handler)\n",
    "# manually set level \n",
    "logger.setLevel(logging.INFO)\n",
    "# print to console\n",
    "console = logging.StreamHandler()\n",
    "logger.addHandler(console)\n",
    "logging.basicConfig(format='%(asctime)s - %(name)s - %(levelname)s - %(message)s')"
   ],
   "outputs": [],
   "metadata": {}
  },
  {
   "cell_type": "markdown",
   "source": [
    "Read in processed data on Ecologically and Biologically Significant Areas (EBSAs)"
   ],
   "metadata": {}
  },
  {
   "cell_type": "code",
   "execution_count": 7,
   "source": [
    "ebsa = '/home/rthoms/Github/resource-watch/wri-projects/ocean-watch/processing-scripts/biodiversity-protection/EBSA/dissolved_ebsa.shp'\n",
    "ebsa_gdf = gpd.read_file(ebsa)"
   ],
   "outputs": [],
   "metadata": {}
  },
  {
   "cell_type": "code",
   "execution_count": 8,
   "source": [
    "print(ebsa_gdf.head())"
   ],
   "outputs": [
    {
     "output_type": "stream",
     "name": "stdout",
     "text": [
      "   dissolve  NAME Workshop  EBSA_ID  GLOBAL_ID  valid  \\\n",
      "0         1  EBSA     EBSA        0          0      1   \n",
      "\n",
      "                                            geometry  \n",
      "0  MULTIPOLYGON (((-115.10000 -47.20000, -115.100...  \n"
     ]
    }
   ],
   "metadata": {}
  },
  {
   "cell_type": "markdown",
   "source": [
    "Read in processed Marine Protected Areas (MPA) data"
   ],
   "metadata": {}
  },
  {
   "cell_type": "code",
   "execution_count": 9,
   "source": [
    "mpa = '/home/rthoms/Github/resource-watch/wri-projects/ocean-watch/processing-scripts/biodiversity-protection/MPAs/valid_mpa.shp'\n",
    "mpa_gdf = gpd.read_file(mpa)\n",
    "print(mpa_gdf.columns)"
   ],
   "outputs": [
    {
     "output_type": "stream",
     "name": "stdout",
     "text": [
      "Index(['WDPAID', 'WDPA_PID', 'PA_DEF', 'NAME', 'ORIG_NAME', 'DESIG',\n",
      "       'DESIG_ENG', 'DESIG_TYPE', 'IUCN_CAT', 'INT_CRIT', 'MARINE',\n",
      "       'REP_M_AREA', 'GIS_M_AREA', 'REP_AREA', 'GIS_AREA', 'NO_TAKE',\n",
      "       'NO_TK_AREA', 'STATUS', 'STATUS_YR', 'GOV_TYPE', 'OWN_TYPE',\n",
      "       'MANG_AUTH', 'MANG_PLAN', 'VERIF', 'METADATAID', 'SUB_LOC',\n",
      "       'PARENT_ISO', 'ISO3', 'SUPP_INFO', 'CONS_OBJ', 'valid', 'geometry'],\n",
      "      dtype='object')\n"
     ]
    }
   ],
   "metadata": {}
  },
  {
   "cell_type": "markdown",
   "source": [
    "Read in EEZ data from Carto"
   ],
   "metadata": {}
  },
  {
   "cell_type": "code",
   "execution_count": 10,
   "source": [
    "# authenticate carto account  \n",
    "CARTO_USER = os.getenv('CARTO_WRI_RW_USER')\n",
    "CARTO_KEY = os.getenv('CARTO_WRI_RW_KEY')\n",
    "set_default_credentials(username=CARTO_USER, base_url=\"https://{user}.carto.com/\".format(user=CARTO_USER),api_key=CARTO_KEY)\n",
    "\n",
    "logger.info('Pulling EEZ boundaries from Carto table')\n",
    "#read in the GADM country boundaries used in the OW geostore\n",
    "EEZ_gdf = read_carto(\"com_011_3_maritime_boundaries_exclusive_economic_zones\")\n"
   ],
   "outputs": [
    {
     "output_type": "stream",
     "name": "stderr",
     "text": [
      "Pulling EEZ boundaries from Carto table\n"
     ]
    }
   ],
   "metadata": {}
  },
  {
   "cell_type": "markdown",
   "source": [
    "## Geoprocessing"
   ],
   "metadata": {}
  },
  {
   "cell_type": "markdown",
   "source": [
    "### 1. Subset MPA dataset"
   ],
   "metadata": {}
  },
  {
   "cell_type": "markdown",
   "source": [
    "Join the mpa and ebsa datasets, retaining mpa geometry, to determine which MPA polygons intersect with EBSAs"
   ],
   "metadata": {}
  },
  {
   "cell_type": "code",
   "execution_count": 11,
   "source": [
    "mpa_join = gpd.sjoin(ebsa_gdf, mpa_gdf, how = 'right')"
   ],
   "outputs": [],
   "metadata": {}
  },
  {
   "cell_type": "code",
   "execution_count": 12,
   "source": [
    "print(len(mpa_join.index))"
   ],
   "outputs": [
    {
     "output_type": "stream",
     "name": "stdout",
     "text": [
      "17281\n"
     ]
    }
   ],
   "metadata": {}
  },
  {
   "cell_type": "markdown",
   "source": [
    "Keep relevant MPAs, ie only those that cover EBSAs"
   ],
   "metadata": {}
  },
  {
   "cell_type": "code",
   "execution_count": 13,
   "source": [
    "mpa_subset = mpa_join.loc[~mpa_join['EBSA_ID'].isnull()]"
   ],
   "outputs": [],
   "metadata": {}
  },
  {
   "cell_type": "code",
   "execution_count": 14,
   "source": [
    "print(len(mpa_subset.index))\n",
    "print(mpa_subset.columns)"
   ],
   "outputs": [
    {
     "output_type": "stream",
     "name": "stdout",
     "text": [
      "3364\n",
      "Index(['index_left', 'dissolve', 'NAME_x', 'Workshop', 'EBSA_ID', 'GLOBAL_ID',\n",
      "       'valid_x', 'WDPAID', 'WDPA_PID', 'PA_DEF', 'NAME_y', 'ORIG_NAME',\n",
      "       'DESIG', 'DESIG_ENG', 'DESIG_TYPE', 'IUCN_CAT', 'INT_CRIT', 'MARINE',\n",
      "       'REP_M_AREA', 'GIS_M_AREA', 'REP_AREA', 'GIS_AREA', 'NO_TAKE',\n",
      "       'NO_TK_AREA', 'STATUS', 'STATUS_YR', 'GOV_TYPE', 'OWN_TYPE',\n",
      "       'MANG_AUTH', 'MANG_PLAN', 'VERIF', 'METADATAID', 'SUB_LOC',\n",
      "       'PARENT_ISO', 'ISO3', 'SUPP_INFO', 'CONS_OBJ', 'valid_y', 'geometry'],\n",
      "      dtype='object')\n"
     ]
    }
   ],
   "metadata": {}
  },
  {
   "cell_type": "markdown",
   "source": [
    "Dissolve the MPA polygons by the valid field. Since this field is '1' for all MPA polygons, dissolving by the field will flatten the entire dataset."
   ],
   "metadata": {}
  },
  {
   "cell_type": "code",
   "execution_count": 15,
   "source": [
    "flat_mpa_subset = mpa_subset.dissolve('valid_y')\n",
    "print('Length of dissolved MPA gdf = '+ str(len(flat_mpa_subset.index)))"
   ],
   "outputs": [
    {
     "output_type": "stream",
     "name": "stdout",
     "text": [
      "Length of dissolved MPA gdf = 1\n"
     ]
    }
   ],
   "metadata": {}
  },
  {
   "cell_type": "code",
   "execution_count": 16,
   "source": [
    "flat_mpa_subset.to_file('flat_mpa_subset.shp',driver='ESRI Shapefile')"
   ],
   "outputs": [],
   "metadata": {}
  },
  {
   "cell_type": "code",
   "execution_count": 17,
   "source": [
    "flat_mpa_subset = '/home/rthoms/Github/resource-watch/wri-projects/ocean-watch/processing-scripts/biodiversity-protection/Join/flat_mpa_subset.shp'\n",
    "flat_mpa_subset = gpd.read_file(flat_mpa_subset)"
   ],
   "outputs": [],
   "metadata": {}
  },
  {
   "cell_type": "code",
   "execution_count": 18,
   "source": [
    "print(flat_mpa_subset.head())"
   ],
   "outputs": [
    {
     "output_type": "stream",
     "name": "stdout",
     "text": [
      "   valid_y  index_left  dissolve NAME_x Workshop  EBSA_ID  GLOBAL_ID  valid_x  \\\n",
      "0        1         0.0       1.0   EBSA     EBSA      0.0        0.0      1.0   \n",
      "\n",
      "   WDPAID WDPA_PID  ...                              MANG_AUTH  \\\n",
      "0    97.0       97  ...  Corporación Nacional Forestal (CONAF)   \n",
      "\n",
      "                                           MANG_PLAN           VERIF  \\\n",
      "0  http://bdrnap.mma.gob.cl/recursos/SINIA/Plande...  State Verified   \n",
      "\n",
      "  METADATAID SUB_LOC PARENT_ISO ISO3       SUPP_INFO        CONS_OBJ  \\\n",
      "0       1808   CL-VS        CHL  CHL  Not Applicable  Not Applicable   \n",
      "\n",
      "                                            geometry  \n",
      "0  MULTIPOLYGON (((21.425 -34.377, 21.425 -34.377...  \n",
      "\n",
      "[1 rows x 39 columns]\n"
     ]
    }
   ],
   "metadata": {}
  },
  {
   "cell_type": "code",
   "execution_count": 19,
   "source": [
    "prot_ebsa = gpd.overlay(flat_mpa_subset, ebsa_gdf, how = 'intersection')\n",
    "print(prot_ebsa.head())"
   ],
   "outputs": [
    {
     "output_type": "stream",
     "name": "stdout",
     "text": [
      "   valid_y  index_left  dissolve_1 NAME_x Workshop_1  EBSA_ID_1  GLOBAL_ID_1  \\\n",
      "0        1         0.0         1.0   EBSA       EBSA        0.0          0.0   \n",
      "\n",
      "   valid_x  WDPAID WDPA_PID  ... ISO3       SUPP_INFO        CONS_OBJ  \\\n",
      "0      1.0    97.0       97  ...  CHL  Not Applicable  Not Applicable   \n",
      "\n",
      "  dissolve_2  NAME Workshop_2 EBSA_ID_2 GLOBAL_ID_2 valid  \\\n",
      "0          1  EBSA       EBSA         0           0     1   \n",
      "\n",
      "                                            geometry  \n",
      "0  MULTIPOLYGON (((177.89038 28.99602, 177.89131 ...  \n",
      "\n",
      "[1 rows x 45 columns]\n"
     ]
    }
   ],
   "metadata": {}
  },
  {
   "cell_type": "code",
   "execution_count": 21,
   "source": [
    "prot_ebsa.to_file('prot_ebsa.shp',driver='ESRI Shapefile')"
   ],
   "outputs": [
    {
     "output_type": "stream",
     "name": "stderr",
     "text": [
      "Normalized/laundered field name: 'GLOBAL_ID_1' to 'GLOBAL_ID_'\n",
      "Normalized/laundered field name: 'GLOBAL_ID_2' to 'GLOBAL_I_1'\n"
     ]
    }
   ],
   "metadata": {}
  },
  {
   "cell_type": "code",
   "execution_count": 22,
   "source": [
    "# join\n",
    "ebsa_x_country= gpd.sjoin(prot_ebsa,EEZ_gdf,how = 'right')"
   ],
   "outputs": [
    {
     "output_type": "error",
     "ename": "ValueError",
     "evalue": "'index_left' and 'index_right' cannot be names in the frames being joined",
     "traceback": [
      "\u001b[0;31m---------------------------------------------------------------------------\u001b[0m",
      "\u001b[0;31mValueError\u001b[0m                                Traceback (most recent call last)",
      "\u001b[0;32m<ipython-input-22-0ea4e6308357>\u001b[0m in \u001b[0;36m<module>\u001b[0;34m\u001b[0m\n\u001b[1;32m      1\u001b[0m \u001b[0;31m# join\u001b[0m\u001b[0;34m\u001b[0m\u001b[0;34m\u001b[0m\u001b[0;34m\u001b[0m\u001b[0m\n\u001b[0;32m----> 2\u001b[0;31m \u001b[0mebsa_x_country\u001b[0m\u001b[0;34m=\u001b[0m \u001b[0mgpd\u001b[0m\u001b[0;34m.\u001b[0m\u001b[0msjoin\u001b[0m\u001b[0;34m(\u001b[0m\u001b[0mprot_ebsa\u001b[0m\u001b[0;34m,\u001b[0m\u001b[0mEEZ_gdf\u001b[0m\u001b[0;34m,\u001b[0m\u001b[0mhow\u001b[0m \u001b[0;34m=\u001b[0m \u001b[0;34m'right'\u001b[0m\u001b[0;34m)\u001b[0m\u001b[0;34m\u001b[0m\u001b[0;34m\u001b[0m\u001b[0m\n\u001b[0m",
      "\u001b[0;32m~/anaconda3/envs/rw/lib/python3.7/site-packages/geopandas/tools/sjoin.py\u001b[0m in \u001b[0;36msjoin\u001b[0;34m(left_df, right_df, how, op, lsuffix, rsuffix)\u001b[0m\n\u001b[1;32m     65\u001b[0m         raise ValueError(\n\u001b[1;32m     66\u001b[0m             \u001b[0;34m\"'{0}' and '{1}' cannot be names in the frames being\"\u001b[0m\u001b[0;34m\u001b[0m\u001b[0;34m\u001b[0m\u001b[0m\n\u001b[0;32m---> 67\u001b[0;31m             \u001b[0;34m\" joined\"\u001b[0m\u001b[0;34m.\u001b[0m\u001b[0mformat\u001b[0m\u001b[0;34m(\u001b[0m\u001b[0mindex_left\u001b[0m\u001b[0;34m,\u001b[0m \u001b[0mindex_right\u001b[0m\u001b[0;34m)\u001b[0m\u001b[0;34m\u001b[0m\u001b[0;34m\u001b[0m\u001b[0m\n\u001b[0m\u001b[1;32m     68\u001b[0m         )\n\u001b[1;32m     69\u001b[0m \u001b[0;34m\u001b[0m\u001b[0m\n",
      "\u001b[0;31mValueError\u001b[0m: 'index_left' and 'index_right' cannot be names in the frames being joined"
     ]
    }
   ],
   "metadata": {}
  },
  {
   "cell_type": "code",
   "execution_count": null,
   "source": [
    "print(ebsa_x_country.head())\n",
    "print(ebsa_x_country.crs)\n",
    "ebsa_x_country=ebsa_x_country.to_crs({'proj':'cea'})\n",
    "print(ebsa_x_country.crs)"
   ],
   "outputs": [
    {
     "output_type": "stream",
     "name": "stdout",
     "text": [
      "   dissolve_1 NAME_x Workshop_1  EBSA_ID_1  GLOBAL_ID_1  valid_x  WDPAID  \\\n",
      "0         1.0   EBSA       EBSA        0.0          0.0      1.0    97.0   \n",
      "0         1.0   EBSA       EBSA        0.0          0.0      1.0    97.0   \n",
      "0         1.0   EBSA       EBSA        0.0          0.0      1.0    97.0   \n",
      "0         1.0   EBSA       EBSA        0.0          0.0      1.0    97.0   \n",
      "0         1.0   EBSA       EBSA        0.0          0.0      1.0    97.0   \n",
      "\n",
      "  WDPA_PID PA_DEF                       NAME_y  ... sovereign2 mrgid_ter3  \\\n",
      "0       97      1  Archipiélago Juan Fernández  ...       None          0   \n",
      "0       97      1  Archipiélago Juan Fernández  ...       None          0   \n",
      "0       97      1  Archipiélago Juan Fernández  ...       None          0   \n",
      "0       97      1  Archipiélago Juan Fernández  ...    Comores          0   \n",
      "0       97      1  Archipiélago Juan Fernández  ...     France          0   \n",
      "\n",
      "  mrgid_sov3 territory3 iso_ter3 sovereign3        x_1        y_1  mrgid_eez  \\\n",
      "0          0       None     None       None  51.212181 -46.306958       8385   \n",
      "0          0       None     None       None  77.541806 -38.294309       8386   \n",
      "0          0       None     None       None  47.253953 -20.913354       8348   \n",
      "0          0       None     None       None  45.306562 -13.216977      48944   \n",
      "0          0       None     None       None  47.096897 -11.618102      48945   \n",
      "\n",
      "   area_km2  \n",
      "0    573927  \n",
      "0    511849  \n",
      "0   1199540  \n",
      "0     66990  \n",
      "0     43678  \n",
      "\n",
      "[5 rows x 67 columns]\n",
      "epsg:4326\n",
      "+proj=cea +type=crs\n"
     ]
    }
   ],
   "metadata": {}
  },
  {
   "cell_type": "code",
   "execution_count": null,
   "source": [
    "ebsa_x_country['area'] = ebsa_x_country['geometry'].area/ 10**6"
   ],
   "outputs": [],
   "metadata": {}
  },
  {
   "cell_type": "code",
   "execution_count": null,
   "source": [
    "print(ebsa_x_country.columns)"
   ],
   "outputs": [
    {
     "output_type": "stream",
     "name": "stdout",
     "text": [
      "Index(['dissolve_1', 'NAME_x', 'Workshop_1', 'EBSA_ID_1', 'GLOBAL_ID_1',\n",
      "       'valid_x', 'WDPAID', 'WDPA_PID', 'PA_DEF', 'NAME_y', 'ORIG_NAME',\n",
      "       'DESIG', 'DESIG_ENG', 'DESIG_TYPE', 'IUCN_CAT', 'INT_CRIT', 'MARINE',\n",
      "       'REP_M_AREA', 'GIS_M_AREA', 'REP_AREA', 'GIS_AREA', 'NO_TAKE',\n",
      "       'NO_TK_AREA', 'STATUS', 'STATUS_YR', 'GOV_TYPE', 'OWN_TYPE',\n",
      "       'MANG_AUTH', 'MANG_PLAN', 'VERIF', 'METADATAID', 'SUB_LOC',\n",
      "       'PARENT_ISO', 'ISO3', 'SUPP_INFO', 'CONS_OBJ', 'dissolve_2', 'NAME',\n",
      "       'Workshop_2', 'EBSA_ID_2', 'GLOBAL_ID_2', 'valid', 'geometry',\n",
      "       'index_right', 'cartodb_id', 'mrgid', 'geoname', 'mrgid_ter1',\n",
      "       'pol_type', 'mrgid_sov1', 'territory1', 'iso_ter1', 'sovereign1',\n",
      "       'mrgid_ter2', 'mrgid_sov2', 'territory2', 'iso_ter2', 'sovereign2',\n",
      "       'mrgid_ter3', 'mrgid_sov3', 'territory3', 'iso_ter3', 'sovereign3',\n",
      "       'x_1', 'y_1', 'mrgid_eez', 'area_km2', 'area'],\n",
      "      dtype='object')\n"
     ]
    }
   ],
   "metadata": {}
  },
  {
   "cell_type": "code",
   "execution_count": null,
   "source": [
    "ebsa_x_country_df = ebsa_x_country.groupby(['iso_ter1']).agg({'territory1':'first', 'area_km2': 'first', 'area':'sum'}).reset_index()"
   ],
   "outputs": [],
   "metadata": {}
  },
  {
   "cell_type": "code",
   "execution_count": null,
   "source": [
    "print(ebsa_x_country_df.head())"
   ],
   "outputs": [
    {
     "output_type": "stream",
     "name": "stdout",
     "text": [
      "  iso_ter1            territory1  area_km2          area\n",
      "0      ALB               Albania     12150  2.990944e+06\n",
      "1      ARE  United Arab Emirates     51782  2.990944e+06\n",
      "2      ATF        Crozet Islands    573927  8.972833e+06\n",
      "3      BGR              Bulgaria     34685  2.990944e+06\n",
      "4      CAN                Canada   5708318  2.990944e+06\n"
     ]
    }
   ],
   "metadata": {}
  },
  {
   "cell_type": "code",
   "execution_count": null,
   "source": [
    "ebsa_x_country_df.to_csv('ebsa_x_country.csv')"
   ],
   "outputs": [],
   "metadata": {}
  }
 ],
 "metadata": {
  "orig_nbformat": 4,
  "language_info": {
   "name": "python",
   "version": "3.7.7",
   "mimetype": "text/x-python",
   "codemirror_mode": {
    "name": "ipython",
    "version": 3
   },
   "pygments_lexer": "ipython3",
   "nbconvert_exporter": "python",
   "file_extension": ".py"
  },
  "kernelspec": {
   "name": "python3",
   "display_name": "Python 3.7.7 64-bit ('base': conda)"
  },
  "interpreter": {
   "hash": "5df9a4ef679db67a0f9a60f8b8eb235a4adefd809cf6c33ee52fa80bbe16a2b8"
  }
 },
 "nbformat": 4,
 "nbformat_minor": 2
}