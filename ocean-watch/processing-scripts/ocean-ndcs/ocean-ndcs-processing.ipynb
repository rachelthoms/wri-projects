{
 "cells": [
  {
   "cell_type": "code",
   "execution_count": 28,
   "source": [
    "from cartoframes.auth import set_default_credentials\n",
    "from cartoframes import read_carto, to_carto\n",
    "import geopandas as gpd\n",
    "import pandas as pd\n",
    "import os\n",
    "import logging \n",
    "from shapely import geometry\n",
    "import requests\n",
    "import re\n",
    "from bs4 import BeautifulSoup\n",
    "import glob\n",
    "from zipfile import ZipFile\n",
    "import shutil\n",
    "import urllib\n",
    "import json"
   ],
   "outputs": [],
   "metadata": {}
  },
  {
   "cell_type": "code",
   "execution_count": 2,
   "source": [
    "# get top-level logger object\n",
    "logger = logging.getLogger()\n",
    "for handler in logger.handlers: logger.removeHandler(handler)\n",
    "# manually set level \n",
    "logger.setLevel(logging.INFO)\n",
    "# print to console\n",
    "console = logging.StreamHandler()\n",
    "logger.addHandler(console)\n",
    "logging.basicConfig(format='%(asctime)s - %(name)s - %(levelname)s - %(message)s')"
   ],
   "outputs": [],
   "metadata": {}
  },
  {
   "cell_type": "code",
   "execution_count": 21,
   "source": [
    "data_dir = 'data'"
   ],
   "outputs": [],
   "metadata": {}
  },
  {
   "cell_type": "code",
   "execution_count": 33,
   "source": [
    "# insert the url used to download the data from the source website\n",
    "\n",
    "ids = [\"133029\",\"133026\",\"132991\",\"133048\",\"133030\",\"133017\",\"132934\",\"132906\",\"132930\"]\n",
    "\n",
    "url_template= 'https://www.climatewatchdata.org/api/v1/data/ndc_content?indicator_ids[]={}&indicator_ids[]={}&indicator_ids[]={}&indicator_ids[]={}&indicator_ids[]={}&indicator_ids[]={}&indicator_ids[]={}&indicator_ids[]={}&indicator_ids[]={}&per_page=1000'\n",
    "url = url_template.format(*tuple(ids)) + '&page={}'\n",
    "print(url)\n"
   ],
   "outputs": [
    {
     "output_type": "stream",
     "name": "stdout",
     "text": [
      "https://www.climatewatchdata.org/api/v1/data/ndc_content?indicator_ids[]=133029&indicator_ids[]=133026&indicator_ids[]=132991&indicator_ids[]=133048&indicator_ids[]=133030&indicator_ids[]=133017&indicator_ids[]=132934&indicator_ids[]=132906&indicator_ids[]=132930&per_page=1000&page={}\n"
     ]
    }
   ],
   "metadata": {}
  },
  {
   "cell_type": "code",
   "execution_count": 36,
   "source": [
    "paginated_dfs = []\n",
    "# download the cata from the source\n",
    "for i in range(1):\n",
    "    req = requests.get(url)\n",
    "    text_data= req.text\n",
    "    json_dict= json.loads(text_data)\n",
    "    df = pd.DataFrame.from_dict(json_dict['data'])\n",
    "    paginated_dfs.append(df)\n",
    "\n",
    "df = pd.concat(paginated_dfs)\n"
   ],
   "outputs": [],
   "metadata": {}
  },
  {
   "cell_type": "code",
   "execution_count": 37,
   "source": [
    "df_countries = df.groupby(['iso_code3', 'indicator_id']).agg({'country':'first', 'sector':'first', 'subsector':'first', 'indicator_name':'first','id':'count'}).reset_index()\n",
    "print(df_countries.head())"
   ],
   "outputs": [
    {
     "output_type": "stream",
     "name": "stdout",
     "text": [
      "  iso_code3                      indicator_id      country        sector  \\\n",
      "0       AFG          a_coastal_fisheries_auto  Afghanistan  Coastal Zone   \n",
      "1       AFG         a_coastal_management_auto  Afghanistan  Coastal Zone   \n",
      "2       AFG       a_coastal_zone_general_auto  Afghanistan  Coastal Zone   \n",
      "3       AFG  a_fisheries_and_aquaculture_auto  Afghanistan   Agriculture   \n",
      "4       AFG                  a_mangroves_auto  Afghanistan  Coastal Zone   \n",
      "\n",
      "                   subsector             indicator_name  id  \n",
      "0          Coastal Fisheries          Coastal Fisheries   1  \n",
      "1         Coastal management         Coastal management   1  \n",
      "2      Coastal Zone: General      Coastal Zone: General   1  \n",
      "3  Fisheries and Aquaculture  Fisheries and Aquaculture   1  \n",
      "4                  Mangroves                  Mangroves   1  \n"
     ]
    }
   ],
   "metadata": {}
  }
 ],
 "metadata": {
  "orig_nbformat": 4,
  "language_info": {
   "name": "python",
   "version": "3.7.7",
   "mimetype": "text/x-python",
   "codemirror_mode": {
    "name": "ipython",
    "version": 3
   },
   "pygments_lexer": "ipython3",
   "nbconvert_exporter": "python",
   "file_extension": ".py"
  },
  "kernelspec": {
   "name": "python3",
   "display_name": "Python 3.7.7 64-bit ('base': conda)"
  },
  "interpreter": {
   "hash": "5df9a4ef679db67a0f9a60f8b8eb235a4adefd809cf6c33ee52fa80bbe16a2b8"
  }
 },
 "nbformat": 4,
 "nbformat_minor": 2
}