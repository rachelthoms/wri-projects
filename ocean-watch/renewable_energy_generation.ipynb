{
 "cells": [
  {
   "cell_type": "markdown",
   "metadata": {},
   "source": [
    "# Ocean-Based Renewable Energy Generation"
   ]
  },
  {
   "cell_type": "markdown",
   "metadata": {},
   "source": [
    "Visualizing electricity generation from marine and offshore wind by country over time"
   ]
  },
  {
   "cell_type": "markdown",
   "metadata": {},
   "source": [
    "*Author: Rachel Thoms\n",
    "<br>Created: 04 Aug 2021\n",
    "<br>Environment: jupyterlab*"
   ]
  },
  {
   "cell_type": "markdown",
   "metadata": {},
   "source": [
    "## Style"
   ]
  },
  {
   "cell_type": "markdown",
   "metadata": {},
   "source": [
    "- Vega chart\n",
    "- Vertical stacked bar chart\n",
    "- Value is energy generation (gWh) for each technology (marine and offshore wind)\n",
    "- One bar per year"
   ]
  },
  {
   "cell_type": "markdown",
   "metadata": {},
   "source": [
    "## Data"
   ]
  },
  {
   "cell_type": "markdown",
   "metadata": {},
   "source": [
    "- Data: [ow_widget_territory](https://resourcewatch.carto.com/u/wri-rw/dataset/ow_widget_territory) (full dataset - [ene.009_renewable_generation_annually](https://resourcewatch.carto.com/u/wri-rw/dataset/ene_009_renewable_generation_annually_edit))\n",
    "- Resource Watch: [explore page](https://resourcewatch.org/data/explore/1ed420e2-9283-4ced-b7b6-d5268be7a324)\n",
    "- Source: [IRENA](https://www.irena.org/Statistics/Download-Data)"
   ]
  },
  {
   "cell_type": "markdown",
   "metadata": {},
   "source": [
    "## Preparation"
   ]
  },
  {
   "cell_type": "markdown",
   "metadata": {},
   "source": [
    "### Aliasing and Inserting Data"
   ]
  },
  {
   "cell_type": "markdown",
   "metadata": {},
   "source": [
    "#### Queries"
   ]
  },
  {
   "cell_type": "markdown",
   "metadata": {},
   "source": [
    "Individual Countries"
   ]
  },
  {
   "cell_type": "markdown",
   "metadata": {},
   "source": [
    "``` SQL\n",
    "INSERT INTO ow_widget_territory(section, widget, gid_0, name_0, variable, date, value, unit)\n",
    "SELECT 'indicator' AS section, 'renewable energy generation' AS widget, alias.iso AS gid_0, alias.name_0 AS name_0, CONCAT(data.subtechnology, ' Energy') AS variable, data.year AS date, data.generation_gwh AS value, 'gWh' AS unit  \n",
    "FROM (SELECT country_name, year, subtechnology, generation_gwh FROM \"wri-rw\".ene_009_renewable_generation_annually_edit WHERE (technology = 'Wind energy' AND subtechnology = 'Offshore Wind') OR technology = 'Marine energy') AS data\n",
    "LEFT JOIN ow_aliasing_countries AS alias ON  data.country_name = alias.alias WHERE alias.iso IS NOT NULL\n",
    "```"
   ]
  },
  {
   "cell_type": "markdown",
   "metadata": {},
   "source": [
    "- countries with data: 28\n",
    "- rows before: 152724\n",
    "- rows inserted: 392\n",
    "- rows after: 153116"
   ]
  },
  {
   "cell_type": "markdown",
   "metadata": {},
   "source": [
    "World - Ocean"
   ]
  },
  {
   "cell_type": "markdown",
   "metadata": {},
   "source": [
    "```sql\n",
    "INSERT INTO ow_widget_territory(section, widget, gid_0, name_0, variable, date, value, unit)\n",
    "SELECT 'indicator' AS section, 'renewable energy generation' AS widget, 'X01' AS gid_0, 'World' AS name_0, CONCAT(subtechnology, ' Energy') AS variable, year AS date, SUM(generation_gwh) AS value, 'gWh' AS unit FROM ene_009_renewable_generation_annually_edit WHERE (technology = 'Wind energy' AND subtechnology = 'Offshore Wind') OR technology = 'Marine energy' GROUP BY year, subtechnology\n",
    "```"
   ]
  },
  {
   "cell_type": "markdown",
   "metadata": {},
   "source": [
    "- rows before: 153116\n",
    "- rows inserted: 38\n",
    "- rows after: 153154"
   ]
  },
  {
   "cell_type": "markdown",
   "metadata": {},
   "source": [
    "World - Total"
   ]
  },
  {
   "cell_type": "markdown",
   "metadata": {},
   "source": [
    "Manually entered. Data from [Global Energy Statistical Yearbook](https://yearbook.enerdata.net/electricity/world-electricity-production-statistics.html)"
   ]
  },
  {
   "cell_type": "markdown",
   "metadata": {},
   "source": [
    "- rows before: 153154\n",
    "- rows inserted: 19\n",
    "- rows after: 153173"
   ]
  },
  {
   "cell_type": "markdown",
   "metadata": {},
   "source": [
    "### Vega"
   ]
  },
  {
   "cell_type": "code",
   "execution_count": 3,
   "metadata": {},
   "outputs": [],
   "source": [
    "import json\n",
    "from vega import Vega\n",
    "from IPython.display import display"
   ]
  },
  {
   "cell_type": "code",
   "execution_count": 4,
   "metadata": {},
   "outputs": [],
   "source": [
    "def Vega(spec):\n",
    "    bundle = {}\n",
    "    bundle['application/vnd.vega.v5+json'] = spec\n",
    "    display(bundle, raw=True)"
   ]
  },
  {
   "cell_type": "code",
   "execution_count": 5,
   "metadata": {},
   "outputs": [],
   "source": [
    "widget_width = 500\n",
    "widget_height = 200"
   ]
  },
  {
   "cell_type": "markdown",
   "metadata": {},
   "source": [
    "#### Queries"
   ]
  },
  {
   "cell_type": "markdown",
   "metadata": {},
   "source": [
    "```sql\n",
    "SELECT * FROM \"wri-rw\".ow_widget_territory WHERE section = 'indicator' AND widget = 'renewable energy generation' AND gid_0 = 'X01'\n",
    "```"
   ]
  },
  {
   "cell_type": "code",
   "execution_count": 6,
   "metadata": {},
   "outputs": [
    {
     "data": {
      "application/vnd.vega.v5+json": {
       "$schema": "https://vega.github.io/schema/vega/v5.json",
       "axes": [
        {
         "labelBaseline": "middle",
         "labelFont": "Arial",
         "labelFontSize": 10,
         "orient": "bottom",
         "scale": "x",
         "ticks": false,
         "zindex": 0
        },
        {
         "encode": {
          "labels": {
           "update": {
            "text": {
             "signal": "format(datum.value, '.2s')"
            }
           }
          }
         },
         "grid": true,
         "gridOpacity": 0.2,
         "labelAlign": "right",
         "labelBaseline": "middle",
         "labelFont": "Arial",
         "labelFontSize": 10,
         "labelPadding": 3,
         "orient": "left",
         "scale": "y",
         "title": "Energy Generation (GWh)",
         "zindex": 0
        }
       ],
       "data": [
        {
         "format": {
          "property": "rows",
          "type": "json"
         },
         "name": "table",
         "transform": [
          {
           "field": "value",
           "groupby": [
            "year"
           ],
           "sort": {
            "field": "variable",
            "order": "descending"
           },
           "type": "stack"
          }
         ],
         "url": "https://wri-rw.carto.com/api/v2/sql?q=SELECT date AS year, value, variable FROM ow_widget_territory WHERE section = 'indicator' AND widget = 'renewable energy generation' AND  variable != 'Total Energy' AND gid_0 = 'X01' ORDER BY year ASC"
        }
       ],
       "description": "A basic stacked bar chart example.",
       "height": 200,
       "legends": [
        {
         "fill": "color",
         "orient": "right",
         "title": [
          "Technology:"
         ]
        }
       ],
       "marks": [
        {
         "encode": {
          "enter": {
           "fill": {
            "field": "variable",
            "scale": "color"
           },
           "tooltip": {
            "signal": "{'Technology':datum.variable,'Energy generation':format(round(datum.value),',') + ' GWh'}"
           },
           "width": {
            "band": 1,
            "offset": -1,
            "scale": "x"
           },
           "x": {
            "field": "year",
            "scale": "x"
           },
           "y": {
            "field": "y0",
            "scale": "y"
           },
           "y2": {
            "field": "y1",
            "scale": "y"
           }
          },
          "hover": {
           "fillOpacity": {
            "value": 0.5
           }
          },
          "update": {
           "fillOpacity": {
            "value": 1
           }
          }
         },
         "from": {
          "data": "table"
         },
         "type": "rect"
        }
       ],
       "padding": 5,
       "scales": [
        {
         "domain": {
          "data": "table",
          "field": "year"
         },
         "name": "x",
         "range": "width",
         "type": "band"
        },
        {
         "domain": {
          "data": "table",
          "field": "value"
         },
         "name": "y",
         "nice": true,
         "range": "height",
         "type": "linear",
         "zero": true
        },
        {
         "domain": {
          "data": "table",
          "field": "variable"
         },
         "name": "color",
         "range": [
          "#005c7e",
          "#84c0d0"
         ],
         "type": "ordinal"
        }
       ],
       "signals": [
        {
         "name": "hover",
         "on": [
          {
           "events": "@cell:mouseover",
           "update": "datum"
          },
          {
           "events": "@cell:mouseout",
           "update": "null"
          }
         ],
         "value": null
        }
       ],
       "width": 500
      },
      "image/png": "[encoded data removed]"
     },
     "metadata": {},
     "output_type": "display_data"
    }
   ],
   "source": [
    "spec=json.loads(\"\"\"{\n",
    "  \"$schema\": \"https://vega.github.io/schema/vega/v5.json\",\n",
    "  \"description\": \"A basic stacked bar chart example.\",\n",
    "  \"width\": 500,\n",
    "  \"height\": 200,\n",
    "  \"padding\": 5,\n",
    "  \"signals\": [\n",
    "    {\n",
    "      \"name\": \"hover\",\n",
    "      \"value\": null,\n",
    "      \"on\": [\n",
    "        {\"events\": \"@cell:mouseover\", \"update\": \"datum\"},\n",
    "        {\"events\": \"@cell:mouseout\", \"update\": \"null\"}\n",
    "      ]\n",
    "    }\n",
    "  ],\n",
    "  \"data\": [\n",
    "    {\n",
    "      \"name\": \"table\",\n",
    "      \"url\": \"https://wri-rw.carto.com/api/v2/sql?q=SELECT date AS year, value, variable FROM ow_widget_territory WHERE section = 'indicator' AND widget = 'renewable energy generation' AND  variable != 'Total Energy' AND gid_0 = 'X01' ORDER BY year ASC\",\n",
    "      \"format\": {\"type\": \"json\", \"property\": \"rows\"},\n",
    "      \"transform\": [\n",
    "        {\n",
    "          \"type\": \"stack\",\n",
    "          \"groupby\": [\"year\"],\n",
    "          \"sort\": {\"field\": \"variable\", \"order\": \"descending\"},\n",
    "          \"field\": \"value\"\n",
    "        }\n",
    "      ]\n",
    "    }\n",
    "  ],\n",
    "  \"scales\": [\n",
    "    {\n",
    "      \"name\": \"x\",\n",
    "      \"type\": \"band\",\n",
    "      \"range\": \"width\",\n",
    "      \"domain\": {\"data\": \"table\", \"field\": \"year\"}\n",
    "    },\n",
    "    {\n",
    "      \"name\": \"y\",\n",
    "      \"type\": \"linear\",\n",
    "      \"range\": \"height\",\n",
    "      \"nice\": true,\n",
    "      \"zero\": true,\n",
    "      \"domain\": {\"data\": \"table\", \"field\": \"value\"}\n",
    "    },\n",
    "    {\n",
    "      \"name\": \"color\",\n",
    "      \"type\": \"ordinal\",\n",
    "      \"range\": [\"#005c7e\", \"#84c0d0\"],\n",
    "      \"domain\": {\"data\": \"table\", \"field\": \"variable\"}\n",
    "    }\n",
    "  ],\n",
    "  \"axes\": [\n",
    "    {\n",
    "      \"orient\": \"bottom\",\n",
    "      \"scale\": \"x\",\n",
    "      \"zindex\": 0,\n",
    "      \"labelBaseline\": \"middle\",\n",
    "      \"ticks\": false,\n",
    "      \"labelFontSize\": 10,\n",
    "      \"labelFont\": \"Arial\"\n",
    "    },\n",
    "    {\n",
    "      \"orient\": \"left\",\n",
    "      \"scale\": \"y\",\n",
    "      \"zindex\": 0,\n",
    "      \"title\": \"Energy Generation (GWh)\",\n",
    "      \"labelBaseline\": \"middle\",\n",
    "      \"labelAlign\": \"right\",\n",
    "      \"labelPadding\": 3,\n",
    "      \"grid\": true,\n",
    "      \"gridOpacity\": 0.2,\n",
    "      \"labelFontSize\": 10,\n",
    "      \"labelFont\": \"Arial\", \n",
    "      \"encode\":{\n",
    "        \"labels\":{\n",
    "          \"update\":{\n",
    "            \"text\": {\"signal\": \"format(datum.value, '.2s')\"}\n",
    "          }\n",
    "        }\n",
    "      }\n",
    "    }\n",
    "  ],\n",
    "  \"marks\": [\n",
    "    {\n",
    "      \"type\": \"rect\",\n",
    "      \"from\": {\"data\": \"table\"},\n",
    "      \"encode\": {\n",
    "        \"enter\": {\n",
    "          \"x\": {\"scale\": \"x\", \"field\": \"year\"},\n",
    "          \"width\": {\"scale\": \"x\", \"band\": 1, \"offset\": -1},\n",
    "          \"y\": {\"scale\": \"y\", \"field\": \"y0\"},\n",
    "          \"y2\": {\"scale\": \"y\", \"field\": \"y1\"},\n",
    "          \"fill\": {\"scale\": \"color\", \"field\": \"variable\"},\n",
    "          \"tooltip\": {\n",
    "            \"signal\": \"{'Technology':datum.variable,'Energy generation':format(round(datum.value),',') + ' GWh'}\"\n",
    "          }\n",
    "        },\n",
    "        \"update\": {\"fillOpacity\": {\"value\": 1}},\n",
    "        \"hover\": {\"fillOpacity\": {\"value\": 0.5}}\n",
    "      }\n",
    "    }\n",
    "  ],\n",
    "  \"legends\": [{\"title\": [\"Technology:\"], \"fill\": \"color\", \"orient\": \"right\"}]\n",
    "}\"\"\")\n",
    "vegaview=dict(spec)\n",
    "Vega(vegaview)"
   ]
  },
  {
   "cell_type": "code",
   "execution_count": 5,
   "metadata": {},
   "outputs": [
    {
     "data": {
      "application/vnd.vega.v5+json": {
       "$schema": "https://vega.github.io/schema/vega/v5.json",
       "axes": [
        {
         "labelBaseline": "middle",
         "labelFont": "Arial",
         "labelFontSize": 10,
         "orient": "bottom",
         "scale": "x",
         "ticks": false,
         "zindex": 0
        },
        {
         "encode": {
          "labels": {
           "update": {
            "text": {
             "signal": "format(datum.value, '.2s')"
            }
           }
          }
         },
         "grid": true,
         "gridOpacity": 0.2,
         "labelAlign": "right",
         "labelBaseline": "middle",
         "labelFont": "Arial",
         "labelFontSize": 10,
         "labelPadding": 3,
         "orient": "left",
         "scale": "y",
         "title": "Energy Generation (GWh)",
         "zindex": 0
        },
        {
         "grid": false,
         "gridOpacity": 0.2,
         "labelAlign": "left",
         "labelBaseline": "middle",
         "labelFont": "Arial",
         "labelFontSize": 10,
         "labelPadding": 5,
         "orient": "right",
         "scale": "line_y",
         "title": "% of Total Energy Generation",
         "zindex": 0
        }
       ],
       "data": [
        {
         "format": {
          "property": "rows",
          "type": "json"
         },
         "name": "table",
         "transform": [
          {
           "field": "value",
           "groupby": [
            "year"
           ],
           "sort": {
            "field": "variable",
            "order": "descending"
           },
           "type": "stack"
          }
         ],
         "url": "https://wri-rw.carto.com/api/v2/sql?q=SELECT date AS year, value, variable FROM ow_widget_territory WHERE section = 'indicator' AND widget = 'renewable energy generation' AND gid_0 = 'X01' AND variable != 'Total Energy' ORDER BY year ASC"
        },
        {
         "format": {
          "property": "rows",
          "type": "json"
         },
         "name": "total",
         "transform": [
          {
           "as": "variable",
           "expr": "replace(datum.variable, ' ', '_')",
           "type": "formula"
          },
          {
           "as": "variable",
           "expr": "replace(datum.variable, ' ', '_')",
           "type": "formula"
          },
          {
           "field": "variable",
           "groupby": [
            "year",
            "total_percent"
           ],
           "type": "pivot",
           "value": "value"
          },
          {
           "as": "percent",
           "expr": "(datum.Offshore_Wind_Energy / datum.Total_Energy)*100",
           "type": "formula"
          }
         ],
         "url": "https://wri-rw.carto.com/api/v2/sql?q=SELECT date AS year, 10 AS total_percent, value, variable FROM ow_widget_territory WHERE section = 'indicator' AND widget = 'renewable energy generation' AND (variable = 'Total Energy' OR variable = 'Offshore Wind Energy') AND gid_0 = 'X01' ORDER BY year ASC"
        }
       ],
       "description": "A basic stacked bar chart example.",
       "height": 250,
       "legends": [
        {
         "fill": "color",
         "orient": "right",
         "title": [
          "Technology:"
         ]
        }
       ],
       "marks": [
        {
         "encode": {
          "enter": {
           "fill": {
            "field": "variable",
            "scale": "color"
           },
           "tooltip": {
            "signal": "{'Technology':datum.variable,'Energy generation':format(round(datum.value),',') + ' GWh'}"
           },
           "width": {
            "band": 1,
            "offset": -1,
            "scale": "x"
           },
           "x": {
            "field": "year",
            "scale": "x"
           },
           "y": {
            "field": "y0",
            "scale": "y"
           },
           "y2": {
            "field": "y1",
            "scale": "y"
           }
          },
          "hover": {
           "fillOpacity": {
            "value": 0.5
           }
          },
          "update": {
           "fillOpacity": {
            "value": 1
           }
          }
         },
         "from": {
          "data": "table"
         },
         "type": "rect"
        },
        {
         "encode": {
          "enter": {
           "stroke": {
            "value": "gold"
           },
           "x": {
            "field": "year",
            "scale": "x"
           },
           "y": {
            "field": "percent",
            "scale": "line_y"
           }
          }
         },
         "from": {
          "data": "total"
         },
         "name": "line",
         "type": "line"
        }
       ],
       "padding": 5,
       "scales": [
        {
         "domain": {
          "data": "table",
          "field": "year"
         },
         "name": "x",
         "range": "width",
         "type": "band"
        },
        {
         "domain": {
          "data": "table",
          "field": "value"
         },
         "name": "y",
         "nice": true,
         "range": "height",
         "type": "linear",
         "zero": true
        },
        {
         "domain": {
          "data": "table",
          "field": "variable"
         },
         "name": "color",
         "range": [
          "#005c7e",
          "#84c0d0"
         ],
         "type": "ordinal"
        },
        {
         "domain": {
          "data": "total",
          "field": "percent"
         },
         "domainMax": 10,
         "name": "line_y",
         "nice": true,
         "range": "height",
         "type": "linear",
         "zero": true
        },
        {
         "domain": [
          "Offshore Wind Energy"
         ],
         "name": "line-color",
         "range": [
          "black"
         ],
         "type": "ordinal"
        },
        {
         "domain": [
          "Total Energy"
         ],
         "name": "total-color",
         "range": [
          "black"
         ],
         "type": "ordinal"
        }
       ],
       "signals": [
        {
         "name": "hover",
         "on": [
          {
           "events": "@cell:mouseover",
           "update": "datum"
          },
          {
           "events": "@cell:mouseout",
           "update": "null"
          }
         ],
         "value": null
        }
       ],
       "width": 500
      },
      "image/png": "[encoded data removed]"
     },
     "metadata": {},
     "output_type": "display_data"
    }
   ],
   "source": [
    "spec=json.loads(\"\"\"{\n",
    "  \"$schema\": \"https://vega.github.io/schema/vega/v5.json\",\n",
    "  \"description\": \"A basic stacked bar chart example.\",\n",
    "  \"width\": 500,\n",
    "  \"height\": 250,\n",
    "  \"padding\": 5,\n",
    "  \"signals\": [\n",
    "    {\n",
    "      \"name\": \"hover\",\n",
    "      \"value\": null,\n",
    "      \"on\": [\n",
    "        {\"events\": \"@cell:mouseover\", \"update\": \"datum\"},\n",
    "        {\"events\": \"@cell:mouseout\", \"update\": \"null\"}\n",
    "      ]\n",
    "    }\n",
    "  ],\n",
    "  \"data\": [\n",
    "    {\n",
    "      \"name\": \"table\",\n",
    "      \"url\": \"https://wri-rw.carto.com/api/v2/sql?q=SELECT date AS year, value, variable FROM ow_widget_territory WHERE section = 'indicator' AND widget = 'renewable energy generation' AND gid_0 = 'X01' AND variable != 'Total Energy' ORDER BY year ASC\",\n",
    "      \"format\": {\"type\": \"json\", \"property\": \"rows\"},\n",
    "      \"transform\": [\n",
    "        {\n",
    "          \"type\": \"stack\",\n",
    "          \"groupby\": [\"year\"],\n",
    "          \"sort\": {\"field\": \"variable\", \"order\": \"descending\"},\n",
    "          \"field\": \"value\"\n",
    "        }\n",
    "      ]\n",
    "    },\n",
    "    {\n",
    "      \"name\": \"total\",\n",
    "      \"url\": \"https://wri-rw.carto.com/api/v2/sql?q=SELECT date AS year, 10 AS total_percent, value, variable FROM ow_widget_territory WHERE section = 'indicator' AND widget = 'renewable energy generation' AND (variable = 'Total Energy' OR variable = 'Offshore Wind Energy') AND gid_0 = 'X01' ORDER BY year ASC\",\n",
    "      \"format\": {\"type\": \"json\", \"property\": \"rows\"},\n",
    "      \"transform\": [\n",
    "        {\n",
    "          \"type\": \"formula\",\n",
    "          \"expr\": \"replace(datum.variable, ' ', '_')\",\n",
    "          \"as\": \"variable\"\n",
    "        },\n",
    "        {\n",
    "          \"type\": \"formula\",\n",
    "          \"expr\": \"replace(datum.variable, ' ', '_')\",\n",
    "          \"as\": \"variable\"\n",
    "        },\n",
    "        {\n",
    "          \"type\": \"pivot\",\n",
    "          \"groupby\": [\"year\", \"total_percent\"],\n",
    "          \"field\": \"variable\",\n",
    "          \"value\": \"value\"\n",
    "        },\n",
    "        {\n",
    "          \"type\": \"formula\",\n",
    "          \"expr\": \"(datum.Offshore_Wind_Energy / datum.Total_Energy)*100\",\n",
    "          \"as\": \"percent\"\n",
    "        }\n",
    "      ]\n",
    "    }\n",
    "  ],\n",
    "  \"scales\": [\n",
    "    {\n",
    "      \"name\": \"x\",\n",
    "      \"type\": \"band\",\n",
    "      \"range\": \"width\",\n",
    "      \"domain\": {\"data\": \"table\", \"field\": \"year\"}\n",
    "    },\n",
    "    {\n",
    "      \"name\": \"y\",\n",
    "      \"type\": \"linear\",\n",
    "      \"range\": \"height\",\n",
    "      \"nice\": true,\n",
    "      \"zero\": true,\n",
    "      \"domain\": {\"data\": \"table\", \"field\": \"value\"}\n",
    "    },\n",
    "    {\n",
    "      \"name\": \"color\",\n",
    "      \"type\": \"ordinal\",\n",
    "      \"range\": [\"#005c7e\", \"#84c0d0\"],\n",
    "      \"domain\": {\"data\": \"table\", \"field\": \"variable\"}\n",
    "    },\n",
    "    {\n",
    "      \"name\": \"line_y\",\n",
    "      \"type\": \"linear\",\n",
    "      \"range\": \"height\",\n",
    "      \"nice\": true,\n",
    "      \"zero\": true,\n",
    "      \"domain\": {\"data\": \"total\", \"field\": \"percent\"},\n",
    "      \"domainMax\": 10\n",
    "    },\n",
    "    {\n",
    "      \"name\": \"line-color\",\n",
    "      \"type\": \"ordinal\",\n",
    "      \"domain\": [\"Offshore Wind Energy\"],\n",
    "      \"range\": [\"black\"]\n",
    "    },\n",
    "    {\n",
    "      \"name\": \"total-color\",\n",
    "      \"type\": \"ordinal\",\n",
    "      \"domain\": [\"Total Energy\"],\n",
    "      \"range\": [\"black\"]\n",
    "    }\n",
    "  ],\n",
    "  \"axes\": [\n",
    "    {\n",
    "      \"orient\": \"bottom\",\n",
    "      \"scale\": \"x\",\n",
    "      \"zindex\": 0,\n",
    "      \"labelBaseline\": \"middle\",\n",
    "      \"ticks\": false,\n",
    "      \"labelFontSize\": 10,\n",
    "      \"labelFont\": \"Arial\"\n",
    "    },\n",
    "    {\n",
    "      \"orient\": \"left\",\n",
    "      \"scale\": \"y\",\n",
    "      \"zindex\": 0,\n",
    "      \"title\": \"Energy Generation (GWh)\",\n",
    "      \"labelBaseline\": \"middle\",\n",
    "      \"labelAlign\": \"right\",\n",
    "      \"labelPadding\": 3,\n",
    "      \"grid\": true,\n",
    "      \"gridOpacity\": 0.2,\n",
    "      \"labelFontSize\": 10,\n",
    "      \"labelFont\": \"Arial\",\n",
    "      \"encode\":{\n",
    "        \"labels\":{\n",
    "          \"update\":{\n",
    "            \"text\": {\"signal\": \"format(datum.value, '.2s')\"}\n",
    "          }\n",
    "        }\n",
    "      }\n",
    "    },\n",
    "    {\n",
    "      \"orient\": \"right\",\n",
    "      \"scale\": \"line_y\",\n",
    "      \"zindex\": 0,\n",
    "      \"title\": \"% of Total Energy Generation\",\n",
    "      \"labelBaseline\": \"middle\",\n",
    "      \"labelAlign\": \"left\",\n",
    "      \"labelPadding\": 5,\n",
    "      \"grid\": false,\n",
    "      \"gridOpacity\": 0.2,\n",
    "      \"labelFontSize\": 10,\n",
    "      \"labelFont\": \"Arial\"\n",
    "    }\n",
    "  ],\n",
    "  \"marks\": [\n",
    "    {\n",
    "      \"type\": \"rect\",\n",
    "      \"from\": {\"data\": \"table\"},\n",
    "      \"encode\": {\n",
    "        \"enter\": {\n",
    "          \"x\": {\"scale\": \"x\", \"field\": \"year\"},\n",
    "          \"width\": {\"scale\": \"x\", \"band\": 1, \"offset\": -1},\n",
    "          \"y\": {\"scale\": \"y\", \"field\": \"y0\"},\n",
    "          \"y2\": {\"scale\": \"y\", \"field\": \"y1\"},\n",
    "          \"fill\": {\"scale\": \"color\", \"field\": \"variable\"},\n",
    "          \"tooltip\": {\n",
    "            \"signal\": \"{'Technology':datum.variable,'Energy generation':format(round(datum.value),',') + ' GWh'}\"\n",
    "          }\n",
    "        },\n",
    "        \"update\": {\"fillOpacity\": {\"value\": 1}},\n",
    "        \"hover\": {\"fillOpacity\": {\"value\": 0.5}}\n",
    "      }\n",
    "    },\n",
    "    {\n",
    "      \"name\": \"line\",\n",
    "      \"from\": {\"data\": \"total\"},\n",
    "      \"type\": \"line\",\n",
    "      \"encode\": {\n",
    "        \"enter\": {\n",
    "          \"x\": {\"scale\": \"x\", \"field\": \"year\"},\n",
    "          \"y\": {\"scale\": \"line_y\", \"field\": \"percent\"},\n",
    "          \"stroke\": {\"value\": \"gold\"}\n",
    "        }\n",
    "      }\n",
    "    }\n",
    "  ],\n",
    "  \"legends\": [{\"title\": [\"Technology:\"], \"fill\": \"color\", \"orient\": \"right\"}]\n",
    "}\"\"\")\n",
    "vegaview=dict(spec)\n",
    "Vega(vegaview)"
   ]
  },
  {
   "cell_type": "code",
   "execution_count": 28,
   "metadata": {},
   "outputs": [
    {
     "data": {
      "application/vnd.vega.v5+json": {
       "$schema": "https://vega.github.io/schema/vega/v5.json",
       "axes": [
        {
         "orient": "bottom",
         "scale": "xscale"
        },
        {
         "orient": "left",
         "scale": "yscale"
        }
       ],
       "data": [
        {
         "name": "table",
         "values": [
          {
           "amount": 28,
           "category": "A"
          },
          {
           "amount": 55,
           "category": "B"
          },
          {
           "amount": 43,
           "category": "C"
          },
          {
           "amount": 91,
           "category": "D"
          },
          {
           "amount": 81,
           "category": "E"
          },
          {
           "amount": 53,
           "category": "F"
          },
          {
           "amount": 19,
           "category": "G"
          },
          {
           "amount": 87,
           "category": "H"
          }
         ]
        }
       ],
       "height": 200,
       "marks": [
        {
         "encode": {
          "enter": {
           "width": {
            "band": 1,
            "scale": "xscale"
           },
           "x": {
            "field": "category",
            "scale": "xscale"
           },
           "y": {
            "field": "amount",
            "scale": "yscale"
           },
           "y2": {
            "scale": "yscale",
            "value": 0
           }
          },
          "hover": {
           "fill": {
            "value": "red"
           }
          },
          "update": {
           "fill": {
            "value": "steelblue"
           }
          }
         },
         "from": {
          "data": "table"
         },
         "type": "rect"
        },
        {
         "encode": {
          "enter": {
           "align": {
            "value": "center"
           },
           "baseline": {
            "value": "bottom"
           },
           "fill": {
            "value": "#333"
           }
          },
          "update": {
           "fillOpacity": [
            {
             "test": "datum === tooltip",
             "value": 0
            },
            {
             "value": 1
            }
           ],
           "text": {
            "signal": "tooltip.amount"
           },
           "x": {
            "band": 0.5,
            "scale": "xscale",
            "signal": "tooltip.category"
           },
           "y": {
            "offset": -2,
            "scale": "yscale",
            "signal": "tooltip.amount"
           }
          }
         },
         "type": "text"
        }
       ],
       "padding": 5,
       "scales": [
        {
         "domain": {
          "data": "table",
          "field": "category"
         },
         "name": "xscale",
         "padding": 0.05,
         "range": "width",
         "round": true,
         "type": "band"
        },
        {
         "domain": {
          "data": "table",
          "field": "amount"
         },
         "name": "yscale",
         "nice": true,
         "range": "height"
        }
       ],
       "signals": [
        {
         "name": "tooltip",
         "on": [
          {
           "events": "rect:mouseover",
           "update": "datum"
          },
          {
           "events": "rect:mouseout",
           "update": "{}"
          }
         ],
         "value": {}
        }
       ],
       "width": 400
      },
      "image/png": "[encoded data removed]"
     },
     "metadata": {},
     "output_type": "display_data"
    }
   ],
   "source": [
    "Vega({\n",
    "  \"$schema\": \"https://vega.github.io/schema/vega/v5.json\",\n",
    "  \"width\": 400,\n",
    "  \"height\": 200,\n",
    "  \"padding\": 5,\n",
    "\n",
    "  \"data\": [\n",
    "    {\n",
    "      \"name\": \"table\",\n",
    "      \"values\": [\n",
    "        {\"category\": \"A\", \"amount\": 28},\n",
    "        {\"category\": \"B\", \"amount\": 55},\n",
    "        {\"category\": \"C\", \"amount\": 43},\n",
    "        {\"category\": \"D\", \"amount\": 91},\n",
    "        {\"category\": \"E\", \"amount\": 81},\n",
    "        {\"category\": \"F\", \"amount\": 53},\n",
    "        {\"category\": \"G\", \"amount\": 19},\n",
    "        {\"category\": \"H\", \"amount\": 87}\n",
    "      ]\n",
    "    }\n",
    "  ],\n",
    "\n",
    "  \"signals\": [\n",
    "    {\n",
    "      \"name\": \"tooltip\",\n",
    "      \"value\": {},\n",
    "      \"on\": [\n",
    "        {\"events\": \"rect:mouseover\", \"update\": \"datum\"},\n",
    "        {\"events\": \"rect:mouseout\",  \"update\": \"{}\"}\n",
    "      ]\n",
    "    }\n",
    "  ],\n",
    "\n",
    "  \"scales\": [\n",
    "    {\n",
    "      \"name\": \"xscale\",\n",
    "      \"type\": \"band\",\n",
    "      \"domain\": {\"data\": \"table\", \"field\": \"category\"},\n",
    "      \"range\": \"width\",\n",
    "      \"padding\": 0.05,\n",
    "      \"round\": True\n",
    "    },\n",
    "    {\n",
    "      \"name\": \"yscale\",\n",
    "      \"domain\": {\"data\": \"table\", \"field\": \"amount\"},\n",
    "      \"nice\": True,\n",
    "      \"range\": \"height\"\n",
    "    }\n",
    "  ],\n",
    "\n",
    "  \"axes\": [\n",
    "    { \"orient\": \"bottom\", \"scale\": \"xscale\" },\n",
    "    { \"orient\": \"left\", \"scale\": \"yscale\" }\n",
    "  ],\n",
    "\n",
    "  \"marks\": [\n",
    "    {\n",
    "      \"type\": \"rect\",\n",
    "      \"from\": {\"data\":\"table\"},\n",
    "      \"encode\": {\n",
    "        \"enter\": {\n",
    "          \"x\": {\"scale\": \"xscale\", \"field\": \"category\"},\n",
    "          \"width\": {\"scale\": \"xscale\", \"band\": 1},\n",
    "          \"y\": {\"scale\": \"yscale\", \"field\": \"amount\"},\n",
    "          \"y2\": {\"scale\": \"yscale\", \"value\": 0}\n",
    "        },\n",
    "        \"update\": {\n",
    "          \"fill\": {\"value\": \"steelblue\"}\n",
    "        },\n",
    "        \"hover\": {\n",
    "          \"fill\": {\"value\": \"red\"}\n",
    "        }\n",
    "      }\n",
    "    },\n",
    "    {\n",
    "      \"type\": \"text\",\n",
    "      \"encode\": {\n",
    "        \"enter\": {\n",
    "          \"align\": {\"value\": \"center\"},\n",
    "          \"baseline\": {\"value\": \"bottom\"},\n",
    "          \"fill\": {\"value\": \"#333\"}\n",
    "        },\n",
    "        \"update\": {\n",
    "          \"x\": {\"scale\": \"xscale\", \"signal\": \"tooltip.category\", \"band\": 0.5},\n",
    "          \"y\": {\"scale\": \"yscale\", \"signal\": \"tooltip.amount\", \"offset\": -2},\n",
    "          \"text\": {\"signal\": \"tooltip.amount\"},\n",
    "          \"fillOpacity\": [\n",
    "            {\"test\": \"datum === tooltip\", \"value\": 0},\n",
    "            {\"value\": 1}\n",
    "          ]\n",
    "        }\n",
    "      }\n",
    "    }\n",
    "  ]\n",
    "})\n"
   ]
  },
  {
   "cell_type": "code",
   "execution_count": null,
   "metadata": {},
   "outputs": [],
   "source": []
  },
  {
   "cell_type": "code",
   "execution_count": null,
   "metadata": {},
   "outputs": [],
   "source": []
  }
 ],
 "metadata": {
  "kernelspec": {
   "display_name": "Python 3",
   "language": "python",
   "name": "python3"
  },
  "language_info": {
   "codemirror_mode": {
    "name": "ipython",
    "version": 3
   },
   "file_extension": ".py",
   "mimetype": "text/x-python",
   "name": "python",
   "nbconvert_exporter": "python",
   "pygments_lexer": "ipython3",
   "version": "3.7.7"
  }
 },
 "nbformat": 4,
 "nbformat_minor": 4
}
