{
 "cells": [
  {
   "cell_type": "markdown",
   "metadata": {},
   "source": [
    "# Fishing Effort"
   ]
  },
  {
   "cell_type": "markdown",
   "metadata": {},
   "source": [
    "Description"
   ]
  },
  {
   "cell_type": "markdown",
   "metadata": {},
   "source": [
    "*Author: Rachel Thoms\n",
    "<br>Created: DD MMM YYYY\n",
    "<br>Environment: jupyterlab*"
   ]
  },
  {
   "cell_type": "markdown",
   "metadata": {},
   "source": [
    "## Style"
   ]
  },
  {
   "cell_type": "markdown",
   "metadata": {},
   "source": [
    "- Vega chart\n",
    "- Chart type\n",
    "- Value "
   ]
  },
  {
   "cell_type": "markdown",
   "metadata": {},
   "source": [
    "## Data"
   ]
  },
  {
   "cell_type": "markdown",
   "metadata": {},
   "source": [
    "- Data: [ow_widget_territory](https://resourcewatch.carto.com/u/wri-rw/dataset/ow_widget_territory) (full dataset - []())\n",
    "- Resource Watch: [explore page](https://resourcewatch.org/data/explore/)\n",
    "- Source: []()"
   ]
  },
  {
   "cell_type": "markdown",
   "metadata": {},
   "source": [
    "## Preparation"
   ]
  },
  {
   "cell_type": "markdown",
   "metadata": {},
   "source": [
    "## Vega"
   ]
  },
  {
   "cell_type": "code",
   "execution_count": 1,
   "metadata": {},
   "outputs": [],
   "source": [
    "import json\n",
    "from vega import Vega\n",
    "from IPython.display import display"
   ]
  },
  {
   "cell_type": "code",
   "execution_count": 2,
   "metadata": {},
   "outputs": [],
   "source": [
    "def Vega(spec):\n",
    "    bundle = {}\n",
    "    bundle['application/vnd.vega.v5+json'] = spec\n",
    "    display(bundle, raw=True)"
   ]
  },
  {
   "cell_type": "code",
   "execution_count": 3,
   "metadata": {},
   "outputs": [
    {
     "ename": "SyntaxError",
     "evalue": "invalid syntax (<ipython-input-3-a4dbda25b940>, line 1)",
     "output_type": "error",
     "traceback": [
      "\u001b[0;36m  File \u001b[0;32m\"<ipython-input-3-a4dbda25b940>\"\u001b[0;36m, line \u001b[0;32m1\u001b[0m\n\u001b[0;31m    widget_width =\u001b[0m\n\u001b[0m                   ^\u001b[0m\n\u001b[0;31mSyntaxError\u001b[0m\u001b[0;31m:\u001b[0m invalid syntax\n"
     ]
    }
   ],
   "source": [
    "widget_width = \n",
    "widget_height = "
   ]
  },
  {
   "cell_type": "markdown",
   "metadata": {},
   "source": [
    "### Queries"
   ]
  },
  {
   "cell_type": "markdown",
   "metadata": {},
   "source": [
    "#### Testing Version"
   ]
  },
  {
   "cell_type": "markdown",
   "metadata": {},
   "source": [
    "```gadm.geostore_prod ILIKE 'ca5bfde08587530e76c17fe48362a01d'``` used as stand-in for parameterized ```{{{geostore_env}}='{{geostore_id}}'``` in production version"
   ]
  },
  {
   "cell_type": "markdown",
   "metadata": {},
   "source": [
    "```sql\n",
    "```"
   ]
  },
  {
   "cell_type": "markdown",
   "metadata": {},
   "source": [
    "#### Parameterized Version"
   ]
  },
  {
   "cell_type": "markdown",
   "metadata": {},
   "source": [
    "```sql\n",
    "\n",
    "```"
   ]
  },
  {
   "cell_type": "markdown",
   "metadata": {},
   "source": [
    "### Visualization"
   ]
  },
  {
   "cell_type": "code",
   "execution_count": null,
   "metadata": {},
   "outputs": [],
   "source": [
    "spec=json.loads(\"\"\"{}\"\"\")\n",
    "vegaview=dict(spec)\n",
    "Vega(vegaview)"
   ]
  },
  {
   "cell_type": "markdown",
   "metadata": {},
   "source": [
    "# Indicator Value"
   ]
  },
  {
   "cell_type": "markdown",
   "metadata": {},
   "source": [
    "Description:"
   ]
  },
  {
   "cell_type": "markdown",
   "metadata": {},
   "source": [
    "#### Raw:\n",
    "`https://wri-rw.carto.com/api/v2/sql?q=SELECT iso, SUM(hours) AS value FROM (SELECT CASE WHEN pol_type = 'Overlapping claim' THEN 'DISP' WHEN pol_type = '200NM' AND iso_ter1 is null then iso_sov1 ELSE iso_ter1 END AS iso, pol_type, year, CASE WHEN pol_type = 'Joint Regime' THEN CAST(value AS numeric)/2 ELSE CAST(value AS numeric) END AS hours FROM com_030d_fishing_effort_by_zone WHERE pol_type IN ('200NM', 'Overlapping claim', 'Joint regime') UNION SELECT * FROM (SELECT pol_type, iso_ter2 AS iso, year, CAST(value AS numeric)/2 AS hours FROM com_030d_fishing_effort_by_zone WHERE pol_type = 'Joint Regime') AS joint ) data INNER JOIN gadm36_0 gadm on iso = gid_0 WHERE year = 2021 AND {{geostore_env}} ILIKE '{{geostore_id}}' GROUP BY iso` \n",
    "\n",
    "#### Formatted:\n",
    "``` sql\n",
    "SELECT iso, SUM(hours) AS value \n",
    "FROM (\n",
    "    SELECT CASE \n",
    "        WHEN pol_type = 'Overlapping claim' THEN 'DISP'\n",
    "        WHEN pol_type = '200NM' AND iso_ter1 is null then iso_sov1\n",
    "        ELSE iso_ter1 END AS iso, \n",
    "    pol_type, year, CASE\n",
    "        WHEN pol_type = 'Joint Regime' THEN CAST(value AS numeric)/2\n",
    "        ELSE CAST(value AS numeric) \n",
    "        END AS hours\n",
    "     FROM com_030d_fishing_effort_by_zone\n",
    "     WHERE pol_type IN ('200NM', 'Overlapping claim', 'Joint regime') \n",
    "UNION \n",
    "SELECT * \n",
    "FROM (\n",
    "  SELECT pol_type, iso_ter2 AS iso, year, CAST(value AS numeric)/2 AS hours \n",
    "  FROM com_030d_fishing_effort_by_zone\n",
    "  WHERE pol_type = 'Joint Regime') AS joint \n",
    "  ) data \n",
    "INNER JOIN gadm36_0 gadm on iso = gid_0 \n",
    "WHERE year = 2021 AND {{geostore_env}} ILIKE '{{geostore_id}}' GROUP BY iso \n",
    "```\n",
    "\n",
    "#### [Demo](https://wri-rw.carto.com/api/v2/sql?q=SELECT%20iso,%20SUM(hours)%20AS%20value%20FROM%20(SELECT%20CASE%20WHEN%20pol_type%20=%20%27Overlapping%20claim%27%20THEN%20%27DISP%27%20WHEN%20pol_type%20=%20%27200NM%27%20AND%20iso_ter1%20is%20null%20then%20iso_sov1%20ELSE%20iso_ter1%20END%20AS%20iso,%20pol_type,%20year,%20CASE%20WHEN%20pol_type%20=%20%27Joint%20Regime%27%20THEN%20CAST(value%20AS%20numeric)/2%20ELSE%20CAST(value%20AS%20numeric)%20END%20AS%20hours%20FROM%20com_030d_fishing_effort_by_zone%20WHERE%20pol_type%20IN%20(%27200NM%27,%20%27Overlapping%20claim%27,%20%27Joint%20regime%27)%20UNION%20SELECT%20*%20FROM%20(SELECT%20pol_type,%20iso_ter2%20AS%20iso,%20year,%20CAST(value%20AS%20numeric)/2%20AS%20hours%20FROM%20com_030d_fishing_effort_by_zone%20WHERE%20pol_type%20=%20%27Joint%20Regime%27)%20AS%20joint%20)%20data%20INNER%20JOIN%20gadm36_0%20gadm%20on%20iso%20=%20gid_0%20WHERE%20year%20=%202021%20AND%20geostore_prod%20ILIKE%20%27f653d0a434168104f4bdcdf8c712d079%27%20GROUP%20BY%20iso):\n",
    "`https://wri-rw.carto.com/api/v2/sql?q=SELECT iso, SUM(hours) AS value FROM (SELECT CASE WHEN pol_type = 'Overlapping claim' THEN 'DISP' WHEN pol_type = '200NM' AND iso_ter1 is null then iso_sov1 ELSE iso_ter1 END AS iso, pol_type, year, CASE WHEN pol_type = 'Joint Regime' THEN CAST(value AS numeric)/2 ELSE CAST(value AS numeric) END AS hours FROM com_030d_fishing_effort_by_zone WHERE pol_type IN ('200NM', 'Overlapping claim', 'Joint regime') UNION SELECT * FROM (SELECT pol_type, iso_ter2 AS iso, year, CAST(value AS numeric)/2 AS hours FROM com_030d_fishing_effort_by_zone WHERE pol_type = 'Joint Regime') AS joint ) data INNER JOIN gadm36_0 gadm on iso = gid_0 WHERE year = 2021 AND geostore_prod ILIKE 'f653d0a434168104f4bdcdf8c712d079' GROUP BY iso`"
   ]
  },
  {
   "cell_type": "markdown",
   "metadata": {},
   "source": [
    "## RW Backoffice and API"
   ]
  },
  {
   "cell_type": "markdown",
   "metadata": {},
   "source": [
    "- [back office](https://resourcewatch.org/admin/data/widgets/{}/edit?dataset={})\n",
    "- parent dataset [{}](https://resourcewatch.org/data/explore/{}) \n",
    "- dataset id ```{}```\n",
    "- widget id: ```{}```\n",
    "- [api widget](https://api.resourcewatch.org/v1/widget/{}?env=production)"
   ]
  }
 ],
 "metadata": {
  "kernelspec": {
   "display_name": "Python 3",
   "language": "python",
   "name": "python3"
  },
  "language_info": {
   "codemirror_mode": {
    "name": "ipython",
    "version": 3
   },
   "file_extension": ".py",
   "mimetype": "text/x-python",
   "name": "python",
   "nbconvert_exporter": "python",
   "pygments_lexer": "ipython3",
   "version": "3.7.7"
  }
 },
 "nbformat": 4,
 "nbformat_minor": 4
}
