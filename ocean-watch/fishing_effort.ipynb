{
 "cells": [
  {
   "cell_type": "markdown",
   "metadata": {},
   "source": [
    "# Fishing Effort"
   ]
  },
  {
   "cell_type": "markdown",
   "metadata": {},
   "source": [
    "Description"
   ]
  },
  {
   "cell_type": "markdown",
   "metadata": {},
   "source": [
    "*Author: Rachel Thoms\n",
    "<br>Created: DD MMM YYYY\n",
    "<br>Environment: jupyterlab*"
   ]
  },
  {
   "cell_type": "markdown",
   "metadata": {},
   "source": [
    "## Style"
   ]
  },
  {
   "cell_type": "markdown",
   "metadata": {},
   "source": [
    "- Vega chart\n",
    "- Chart type\n",
    "- Value "
   ]
  },
  {
   "cell_type": "markdown",
   "metadata": {},
   "source": [
    "## Data"
   ]
  },
  {
   "cell_type": "markdown",
   "metadata": {},
   "source": [
    "- Data: [ow_widget_territory](https://resourcewatch.carto.com/u/wri-rw/dataset/ow_widget_territory) (full dataset - []())\n",
    "- Resource Watch: [explore page](https://resourcewatch.org/data/explore/)\n",
    "- Source: []()"
   ]
  },
  {
   "cell_type": "markdown",
   "metadata": {},
   "source": [
    "## Preparation"
   ]
  },
  {
   "cell_type": "markdown",
   "metadata": {},
   "source": [
    "## Vega"
   ]
  },
  {
   "cell_type": "code",
   "execution_count": 1,
   "metadata": {},
   "outputs": [],
   "source": [
    "import json\n",
    "from vega import Vega\n",
    "from IPython.display import display"
   ]
  },
  {
   "cell_type": "code",
   "execution_count": 2,
   "metadata": {},
   "outputs": [],
   "source": [
    "def Vega(spec):\n",
    "    bundle = {}\n",
    "    bundle['application/vnd.vega.v5+json'] = spec\n",
    "    display(bundle, raw=True)"
   ]
  },
  {
   "cell_type": "code",
   "execution_count": 3,
   "metadata": {},
   "outputs": [
    {
     "ename": "SyntaxError",
     "evalue": "invalid syntax (<ipython-input-3-a4dbda25b940>, line 1)",
     "output_type": "error",
     "traceback": [
      "\u001b[0;36m  File \u001b[0;32m\"<ipython-input-3-a4dbda25b940>\"\u001b[0;36m, line \u001b[0;32m1\u001b[0m\n\u001b[0;31m    widget_width =\u001b[0m\n\u001b[0m                   ^\u001b[0m\n\u001b[0;31mSyntaxError\u001b[0m\u001b[0;31m:\u001b[0m invalid syntax\n"
     ]
    }
   ],
   "source": [
    "widget_width = \n",
    "widget_height = "
   ]
  },
  {
   "cell_type": "markdown",
   "metadata": {},
   "source": [
    "### Queries"
   ]
  },
  {
   "cell_type": "markdown",
   "metadata": {},
   "source": [
    "#### Testing Version"
   ]
  },
  {
   "cell_type": "markdown",
   "metadata": {},
   "source": [
    "```gadm.geostore_prod ILIKE 'ca5bfde08587530e76c17fe48362a01d'``` used as stand-in for parameterized ```{{{geostore_env}}='{{geostore_id}}'``` in production version"
   ]
  },
  {
   "cell_type": "markdown",
   "metadata": {},
   "source": [
    "```sql\n",
    "```"
   ]
  },
  {
   "cell_type": "markdown",
   "metadata": {},
   "source": [
    "#### Parameterized Version"
   ]
  },
  {
   "cell_type": "markdown",
   "metadata": {},
   "source": [
    "```sql\n",
    "\n",
    "```"
   ]
  },
  {
   "cell_type": "markdown",
   "metadata": {},
   "source": [
    "### Visualization"
   ]
  },
  {
   "cell_type": "code",
   "execution_count": null,
   "metadata": {},
   "outputs": [],
   "source": [
    "spec=json.loads(\"\"\"{}\"\"\")\n",
    "vegaview=dict(spec)\n",
    "Vega(vegaview)"
   ]
  },
  {
   "cell_type": "markdown",
   "metadata": {},
   "source": [
    "# Indicator Value"
   ]
  },
  {
   "cell_type": "markdown",
   "metadata": {},
   "source": [
    "#### Raw:\n",
    "`https://wri-rw.carto.com/api/v2/sql?q=SELECT pol_type, gadm.gid_0, year, SUM(value::NUMERIC) AS value FROM ( SELECT *, CASE WHEN iso_ter1 IS NULL THEN iso_sov1 ELSE iso_ter1 END AS gid_0 FROM com_030d_fishing_effort_by_zone) AS data LEFT OUTER JOIN gadm36_0 AS gadm ON data.gid_0 = gadm.gid_0 WHERE pol_type = '200NM' AND year = 2020 AND gadm.{{geostore_env}}='{{geostore_id}}' GROUP BY pol_type, gadm.gid_0, year`\n",
    "#### Formatted:\n",
    "``` sql\n",
    "SELECT pol_type, gadm.gid_0, year, SUM(value::NUMERIC) AS value FROM (\n",
    "  SELECT *,\n",
    "    CASE WHEN iso_ter1 IS NULL THEN iso_sov1 ELSE iso_ter1 END AS gid_0\n",
    "  FROM com_030d_fishing_effort_by_zone) AS data\n",
    "LEFT OUTER JOIN gadm36_0 AS gadm ON data.gid_0 = gadm.gid_0\n",
    "WHERE pol_type = '200NM'\n",
    "AND year = 2020\n",
    "AND gadm.{{geostore_env}}='{{geostore_id}}'\n",
    "GROUP BY pol_type, gadm.gid_0, year\n",
    "```\n",
    "\n",
    "#### [Demo](https://wri-rw.carto.com/api/v2/sql?q=SELECT%20pol_type,%20gadm.gid_0,%20year,%20SUM(value::NUMERIC)%20AS%20value%20FROM%20(SELECT%20*,%20CASE%20WHEN%20iso_ter1%20IS%20NULL%20THEN%20iso_sov1%20ELSE%20iso_ter1%20END%20AS%20gid_0%20FROM%20com_030d_fishing_effort_by_zone)%20AS%20data%20LEFT%20OUTER%20JOIN%20gadm36_0%20AS%20gadm%20ON%20data.gid_0%20=%20gadm.gid_0%20WHERE%20pol_type%20=%20%27200NM%27%20AND%20year%20=%202020%20AND%20gadm.geostore_prod=%27cb7969c52812b9cd965dc2d052ff50ed%27%20GROUP%20BY%20pol_type,%20gadm.gid_0,%20year):\n",
    "`https://wri-rw.carto.com/api/v2/sql?q=SELECT pol_type, gadm.gid_0, year, SUM(value::NUMERIC) AS value FROM (SELECT *, CASE WHEN iso_ter1 IS NULL THEN iso_sov1 ELSE iso_ter1 END AS gid_0 FROM com_030d_fishing_effort_by_zone) AS data LEFT OUTER JOIN gadm36_0 AS gadm ON data.gid_0 = gadm.gid_0 WHERE pol_type = '200NM' AND year = 2020 AND gadm.geostore_prod='cb7969c52812b9cd965dc2d052ff50ed' GROUP BY pol_type, gadm.gid_0, year`"
   ]
  },
  {
   "cell_type": "markdown",
   "metadata": {},
   "source": [
    "## RW Backoffice and API"
   ]
  },
  {
   "cell_type": "markdown",
   "metadata": {},
   "source": [
    "- [back office](https://resourcewatch.org/admin/data/widgets/{}/edit?dataset={})\n",
    "- parent dataset [{}](https://resourcewatch.org/data/explore/{}) \n",
    "- dataset id ```{}```\n",
    "- widget id: ```{}```\n",
    "- [api widget](https://api.resourcewatch.org/v1/widget/{}?env=production)"
   ]
  }
 ],
 "metadata": {
  "kernelspec": {
   "display_name": "Python 3",
   "language": "python",
   "name": "python3"
  },
  "language_info": {
   "codemirror_mode": {
    "name": "ipython",
    "version": 3
   },
   "file_extension": ".py",
   "mimetype": "text/x-python",
   "name": "python",
   "nbconvert_exporter": "python",
   "pygments_lexer": "ipython3",
   "version": "3.7.7"
  }
 },
 "nbformat": 4,
 "nbformat_minor": 4
}
