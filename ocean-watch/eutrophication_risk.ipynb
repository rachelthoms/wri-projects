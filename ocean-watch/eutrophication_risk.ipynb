{
 "cells": [
  {
   "cell_type": "markdown",
   "metadata": {},
   "source": [
    "# Eutrophication Risk"
   ]
  },
  {
   "cell_type": "markdown",
   "metadata": {},
   "source": [
    "Visualizing the number of at risk basins per country"
   ]
  },
  {
   "cell_type": "markdown",
   "metadata": {},
   "source": [
    "*Author: Rachel Thoms\n",
    "<br>Created: 27 Aug 2021\n",
    "<br>Environment: jupyterlab*"
   ]
  },
  {
   "cell_type": "markdown",
   "metadata": {},
   "source": [
    "## Style"
   ]
  },
  {
   "cell_type": "markdown",
   "metadata": {},
   "source": [
    "- Vega chart\n",
    "- Chart type: bar graph\n",
    "- Value: number of basins "
   ]
  },
  {
   "cell_type": "markdown",
   "metadata": {},
   "source": [
    "## Data"
   ]
  },
  {
   "cell_type": "markdown",
   "metadata": {},
   "source": [
    "- Data: [ocn_calcs_014_eutrophication_risk](https://resourcewatch.carto.com/u/wri-rw/dataset/ocn_calcs_014_eutrophication_risk) (full dataset - [wat_059_aqueduct_coastal_eutrophication_potential](https://resourcewatch.carto.com/u/wri-rw/dataset/wat_059_aqueduct_coastal_eutrophication_potential))\n",
    "- Resource Watch: [explore page](https://resourcewatch.org/data/explore/wat059-Aqueduct-Coastal-Eutrophication-Potential)\n",
    "- Source: [Aqueduct](https://files.wri.org/d8/s3fs-public/aqueduct-30-updated-decision-relevant-global-water-risk-indicators_1.pdf)"
   ]
  },
  {
   "cell_type": "markdown",
   "metadata": {},
   "source": [
    "## Preparation"
   ]
  },
  {
   "cell_type": "markdown",
   "metadata": {},
   "source": [
    "Data was processed using a [python script](https://github.com/rachelthoms/wri-projects/blob/main/ocean-watch/processing-scripts/eutrophication-risk)"
   ]
  },
  {
   "cell_type": "markdown",
   "metadata": {},
   "source": [
    "### Aliasing and Inserting Data"
   ]
  },
  {
   "cell_type": "markdown",
   "metadata": {},
   "source": [
    "### Vega"
   ]
  },
  {
   "cell_type": "code",
   "execution_count": 1,
   "metadata": {},
   "outputs": [],
   "source": [
    "import json\n",
    "from vega import Vega\n",
    "from IPython.display import display"
   ]
  },
  {
   "cell_type": "code",
   "execution_count": 2,
   "metadata": {},
   "outputs": [],
   "source": [
    "def Vega(spec):\n",
    "    bundle = {}\n",
    "    bundle['application/vnd.vega.v5+json'] = spec\n",
    "    display(bundle, raw=True)"
   ]
  },
  {
   "cell_type": "code",
   "execution_count": 3,
   "metadata": {},
   "outputs": [],
   "source": [
    "widget_width = 400\n",
    "widget_height = 200"
   ]
  },
  {
   "cell_type": "markdown",
   "metadata": {},
   "source": [
    "## Visualization"
   ]
  },
  {
   "cell_type": "markdown",
   "metadata": {},
   "source": [
    "### Queries"
   ]
  },
  {
   "cell_type": "markdown",
   "metadata": {},
   "source": [
    "#### Testing"
   ]
  },
  {
   "cell_type": "markdown",
   "metadata": {},
   "source": [
    "```\"data\" : \"table\"```\n",
    "```sql\n",
    "SELECT gadm.gid_0, gadm.name_0, cep_label, count, proportion FROM ocn_calcs_014_eutrophication_risk AS data LEFT OUTER JOIN gadm36_0 gadm ON data.gid_0 = gadm.gid_0 WHERE gadm.geostore_prod ILIKE '4c97375ec074beb743fd972130cb1d3b' UNION SELECT gid_0, name_0, cep_label, count, proportion FROM ocn_calcs_014_eutrophication_risk WHERE gid_0= 'GLB'\n",
    "```\n",
    "```\"data\" : \"country\"```\n",
    "```sql\n",
    "SELECT gadm.gid_0, gadm.name_0, cep_label, count, proportion FROM ocn_calcs_014_eutrophication_risk AS data LEFT OUTER JOIN gadm36_0 gadm ON data.gid_0 = gadm.gid_0 WHERE gadm.geostore_prod ILIKE '4c97375ec074beb743fd972130cb1d3b'\n",
    "```"
   ]
  },
  {
   "cell_type": "markdown",
   "metadata": {},
   "source": [
    "#### Parameterized"
   ]
  },
  {
   "cell_type": "markdown",
   "metadata": {},
   "source": [
    "```\"data\" : \"table\"```\n",
    "```sql\n",
    "SELECT gadm.gid_0, gadm.name_0, cep_label, count, proportion FROM ocn_calcs_014_eutrophication_risk AS data LEFT OUTER JOIN gadm36_0 gadm ON data.gid_0 = gadm.gid_0 WHERE gadm.{{geostore_env}} ILIKE '{{geostore_id}}' UNION SELECT gid_0, name_0, cep_label, count, proportion FROM ocn_calcs_014_eutrophication_risk WHERE gid_0= 'GLB\n",
    "```\n",
    "```\"data\" : \"country\"```\n",
    "```sql\n",
    "SELECT gadm.gid_0, gadm.name_0, cep_label, count, proportion FROM ocn_calcs_014_eutrophication_risk AS data LEFT OUTER JOIN gadm36_0 gadm ON data.gid_0 = gadm.gid_0 WHERE gadm.{{geostore_env}} ILIKE '{{geostore_id}}'\n",
    "```"
   ]
  },
  {
   "cell_type": "code",
   "execution_count": 9,
   "metadata": {},
   "outputs": [
    {
     "data": {
      "application/vnd.vega.v5+json": {
       "$schema": "https://vega.github.io/schema/vega/v5.json",
       "axes": [
        {
         "labelBaseline": "middle",
         "labelFont": "Arial",
         "labelFontSize": 11,
         "labelOverlap": true,
         "orient": "bottom",
         "scale": "xscale",
         "title": "Index of Coastal Eutrophication Potential",
         "titleFont": "Arial",
         "titleFontStyle": "normal",
         "titleFontWeight": 600,
         "titlePadding": 5,
         "zindex": 4
        },
        {
         "grid": true,
         "gridOpacity": 0.2,
         "labelAlign": "right",
         "labelBaseline": "middle",
         "labelFont": "Arial",
         "labelPadding": 5,
         "orient": "left",
         "scale": "yscale",
         "title": "Proportion of River Basins",
         "titleFont": "Arial",
         "titleFontStyle": "normal",
         "titleFontWeight": 600,
         "titlePadding": 5,
         "zindex": 0
        }
       ],
       "data": [
        {
         "format": {
          "property": "rows",
          "type": "json"
         },
         "name": "table",
         "transform": [
          {
           "as": "range",
           "expr": "split((split(datum.cep_label, '(')[1]),')')[0]",
           "type": "formula"
          },
          {
           "as": "label",
           "expr": "split(datum.cep_label, '(')[0]",
           "type": "formula"
          },
          {
           "as": "order",
           "expr": "datum.range === '<-5' ? 1 : datum.range === '-5 to 0' ? 2:  datum.range === '0 to 1' ? 3: datum.range === '1 to 5' ? 4:  datum.range === '>5' ? 5: 6 ",
           "type": "formula"
          },
          {
           "as": "label",
           "expr": "datum.order == 2 ? 'Low to Med': datum.order == 3 ? 'Med to High' : datum.label ",
           "type": "formula"
          },
          {
           "sort": {
            "field": [
             "order"
            ],
            "order": [
             "ascending"
            ]
           },
           "type": "collect"
          }
         ],
         "url": "https://wri-rw.carto.com/api/v2/sql?q= SELECT gadm.gid_0, gadm.name_0, cep_label, count, proportion FROM ocn_calcs_014_eutrophication_risk AS data LEFT OUTER JOIN gadm36_0 gadm ON data.gid_0 = gadm.gid_0 WHERE gadm.geostore_prod ILIKE '4c97375ec074beb743fd972130cb1d3b' UNION SELECT gid_0, name_0, cep_label, count, proportion FROM ocn_calcs_014_eutrophication_risk WHERE gid_0= 'GLB'"
        },
        {
         "format": {
          "property": "rows",
          "type": "json"
         },
         "name": "world",
         "transform": [
          {
           "as": "range",
           "expr": "split((split(datum.cep_label, '(')[1]),')')[0]",
           "type": "formula"
          },
          {
           "as": "label",
           "expr": "split(datum.cep_label, '(')[0]",
           "type": "formula"
          },
          {
           "as": "order",
           "expr": "datum.range === '<-5' ? 1 : datum.range === '-5 to 0' ? 2:  datum.range === '0 to 1' ? 3: datum.range === '1 to 5' ? 4:  datum.range === '>5' ? 5: 6 ",
           "type": "formula"
          },
          {
           "as": "label",
           "expr": "datum.order == 2 ? 'Low to Med': datum.order == 3 ? 'Med to High' : datum.label ",
           "type": "formula"
          },
          {
           "sort": {
            "field": [
             "order"
            ],
            "order": [
             "ascending"
            ]
           },
           "type": "collect"
          }
         ],
         "url": "https://wri-rw.carto.com/api/v2/sql?q=SELECT gid_0, name_0, cep_label, count, proportion FROM ocn_calcs_014_eutrophication_risk WHERE gid_0= 'GLB'"
        },
        {
         "format": {
          "property": "rows",
          "type": "json"
         },
         "name": "country",
         "transform": [
          {
           "as": "range",
           "expr": "split((split(datum.cep_label, '(')[1]),')')[0]",
           "type": "formula"
          },
          {
           "as": "label",
           "expr": "split(datum.cep_label, '(')[0]",
           "type": "formula"
          },
          {
           "as": "order",
           "expr": "datum.range === '<-5' ? 1 : datum.range === '-5 to 0' ? 2:  datum.range === '0 to 1' ? 3: datum.range === '1 to 5' ? 4:  datum.range === '>5' ? 5: 6 ",
           "type": "formula"
          },
          {
           "as": "label",
           "expr": "datum.order == 2 ? 'Low to Med': datum.order == 3 ? 'Med to High' : datum.label ",
           "type": "formula"
          },
          {
           "sort": {
            "field": [
             "order"
            ],
            "order": [
             "ascending"
            ]
           },
           "type": "collect"
          }
         ],
         "url": "https://wri-rw.carto.com/api/v2/sql?q= SELECT gadm.gid_0, gadm.name_0, cep_label, count, proportion FROM ocn_calcs_014_eutrophication_risk AS data LEFT OUTER JOIN gadm36_0 gadm ON data.gid_0 = gadm.gid_0 WHERE gadm.geostore_prod ILIKE '4c97375ec074beb743fd972130cb1d3b'"
        }
       ],
       "height": 200,
       "legends": [
        {
         "encode": {
          "symbols": {
           "update": {
            "shape": {
             "value": "stroke"
            },
            "size": {
             "value": 80
            },
            "stroke": {
             "value": "grey"
            },
            "strokeDash": {
             "value": [
              4,
              2
             ]
            }
           }
          }
         },
         "fill": "line-color",
         "orient": "top-right"
        }
       ],
       "marks": [
        {
         "encode": {
          "enter": {
           "align": {
            "value": "center"
           },
           "baseline": {
            "value": "bottom"
           },
           "fill": {
            "value": "#333"
           }
          },
          "update": {
           "fillOpacity": [
            {
             "test": "datum === tooltip",
             "value": 0
            },
            {
             "value": 1
            }
           ],
           "text": {
            "signal": "isNumber(tooltip.proportion) ? format(tooltip.proportion, '.2f'): ' ' "
           },
           "x": {
            "band": 0.5,
            "scale": "xscale",
            "signal": "tooltip.label"
           },
           "y": {
            "offset": -2,
            "scale": "yscale",
            "signal": "tooltip.proportion"
           }
          }
         },
         "type": "text",
         "zindex": 2
        },
        {
         "encode": {
          "enter": {
           "stroke": {
            "value": "grey",
            "zindex": 0
           },
           "strokeDash": {
            "value": [
             4,
             2
            ]
           },
           "strokeWidth": {
            "value": 0.7
           },
           "tooltip": {
            "signal": "{'Country': datum.name_0, 'Risk level': datum.label, 'ICEP Range' : datum.range, 'Number of basins': datum.count}"
           },
           "width": {
            "band": 1,
            "scale": "xscale"
           },
           "x": {
            "field": "label",
            "scale": "xscale"
           },
           "y": {
            "field": "proportion",
            "scale": "yscale"
           },
           "y2": {
            "scale": "yscale",
            "value": "0"
           }
          },
          "hover": {
           "stroke": {
            "value": "gold"
           }
          },
          "update": {
           "stroke": {
            "value": "grey"
           }
          }
         },
         "from": {
          "data": "world"
         },
         "type": "rect",
         "zindex": 1
        },
        {
         "encode": {
          "enter": {
           "fill": {
            "field": "label",
            "scale": "color"
           },
           "stroke": {
            "field": "label",
            "scale": "color"
           },
           "tooltip": {
            "signal": "{'Country': datum.name_0, 'Risk level': datum.label, 'ICEP Range' : datum.range, 'Number of basins': datum.count}"
           },
           "width": {
            "band": 1,
            "scale": "xscale"
           },
           "x": {
            "field": "label",
            "scale": "xscale"
           },
           "y": {
            "field": "proportion",
            "scale": "yscale"
           },
           "y2": {
            "scale": "yscale",
            "value": 0
           }
          },
          "hover": {
           "stroke": {
            "value": "gold"
           }
          },
          "update": {
           "stroke": {
            "field": "label",
            "scale": "color"
           }
          }
         },
         "from": {
          "data": "country"
         },
         "type": "rect"
        }
       ],
       "padding": 5,
       "scales": [
        {
         "domain": {
          "data": "table",
          "field": "label"
         },
         "name": "xscale",
         "padding": 0.1,
         "range": "width",
         "round": true,
         "type": "band"
        },
        {
         "domain": {
          "data": "table",
          "field": "proportion"
         },
         "name": "yscale",
         "nice": true,
         "range": "height"
        },
        {
         "domain": {
          "data": "world",
          "field": "label"
         },
         "name": "color",
         "range": [
          "#ffff99",
          "#ffe600",
          "#ff9900",
          "#E13737",
          "#bb1133",
          "#4e4e4e"
         ],
         "type": "ordinal"
        },
        {
         "domain": [
          "Global Average"
         ],
         "name": "line-color",
         "type": "ordinal"
        }
       ],
       "signals": [
        {
         "name": "tooltip",
         "on": [
          {
           "events": "rect:mouseover",
           "update": "datum"
          },
          {
           "events": "rect:mouseout",
           "update": "{}"
          }
         ],
         "value": {}
        },
        {
         "name": "gid_0",
         "value": "IND"
        }
       ],
       "width": 400
      },
      "image/png": "[encoded data removed]"
     },
     "metadata": {},
     "output_type": "display_data"
    }
   ],
   "source": [
    "spec=json.loads(\"\"\"{\n",
    "  \"$schema\": \"https://vega.github.io/schema/vega/v5.json\",\n",
    "  \"width\": 400,\n",
    "  \"height\": 200,\n",
    "  \"padding\": 5,\n",
    "\n",
    "  \"data\": [{\n",
    "      \"name\": \"table\",\n",
    "      \"url\": \"https://wri-rw.carto.com/api/v2/sql?q= SELECT gadm.gid_0, gadm.name_0, cep_label, count, proportion FROM ocn_calcs_014_eutrophication_risk AS data LEFT OUTER JOIN gadm36_0 gadm ON data.gid_0 = gadm.gid_0 WHERE gadm.geostore_prod ILIKE '4c97375ec074beb743fd972130cb1d3b' UNION SELECT gid_0, name_0, cep_label, count, proportion FROM ocn_calcs_014_eutrophication_risk WHERE gid_0= 'GLB'\",\n",
    "      \"format\": {\"type\": \"json\", \"property\": \"rows\"},\n",
    "      \"transform\": [\n",
    "        {\"type\": \"formula\",\n",
    "        \"expr\": \"split((split(datum.cep_label, '(')[1]),')')[0]\",\n",
    "        \"as\": \"range\"},\n",
    "        {\"type\": \"formula\",\n",
    "        \"expr\": \"split(datum.cep_label, '(')[0]\",\n",
    "        \"as\": \"label\"},\n",
    "        \n",
    "        {\"type\": \"formula\",\n",
    "        \"expr\": \"datum.range === '<-5' ? 1 : datum.range === '-5 to 0' ? 2:  datum.range === '0 to 1' ? 3: datum.range === '1 to 5' ? 4:  datum.range === '>5' ? 5: 6 \",\n",
    "        \"as\": \"order\"},\n",
    "        {\"type\": \"formula\",\n",
    "        \"expr\": \"datum.order == 2 ? 'Low to Med': datum.order == 3 ? 'Med to High' : datum.label \",\n",
    "        \"as\": \"label\" },\n",
    "        {\"type\": \"collect\", \n",
    "        \"sort\": \n",
    "          {\"field\": [\"order\"],\"order\": [\"ascending\"]}}]},\n",
    "        {\"name\": \"world\",\n",
    "        \"url\": \"https://wri-rw.carto.com/api/v2/sql?q=SELECT gid_0, name_0, cep_label, count, proportion FROM ocn_calcs_014_eutrophication_risk WHERE gid_0= 'GLB'\",\n",
    "      \"format\": {\"type\": \"json\", \"property\": \"rows\"},\n",
    "        \"transform\": [\n",
    "        {\"type\": \"formula\",\n",
    "        \"expr\": \"split((split(datum.cep_label, '(')[1]),')')[0]\",\n",
    "        \"as\": \"range\"},\n",
    "        {\"type\": \"formula\",\n",
    "        \"expr\": \"split(datum.cep_label, '(')[0]\",\n",
    "        \"as\": \"label\"},\n",
    "        \n",
    "        {\"type\": \"formula\",\n",
    "        \"expr\": \"datum.range === '<-5' ? 1 : datum.range === '-5 to 0' ? 2:  datum.range === '0 to 1' ? 3: datum.range === '1 to 5' ? 4:  datum.range === '>5' ? 5: 6 \",\n",
    "        \"as\": \"order\"},\n",
    "        {\"type\": \"formula\",\n",
    "        \"expr\": \"datum.order == 2 ? 'Low to Med': datum.order == 3 ? 'Med to High' : datum.label \",\n",
    "        \"as\": \"label\" },\n",
    "        {\"type\": \"collect\", \n",
    "        \"sort\": \n",
    "          {\"field\": [\"order\"],\"order\": [\"ascending\"]}}]},\n",
    "        {\"name\": \"country\",\n",
    "        \"url\": \"https://wri-rw.carto.com/api/v2/sql?q= SELECT gadm.gid_0, gadm.name_0, cep_label, count, proportion FROM ocn_calcs_014_eutrophication_risk AS data LEFT OUTER JOIN gadm36_0 gadm ON data.gid_0 = gadm.gid_0 WHERE gadm.geostore_prod ILIKE '4c97375ec074beb743fd972130cb1d3b'\",\n",
    "      \"format\": {\"type\": \"json\", \"property\": \"rows\"},\n",
    "        \"transform\": [\n",
    "        {\"type\": \"formula\",\n",
    "        \"expr\": \"split((split(datum.cep_label, '(')[1]),')')[0]\",\n",
    "        \"as\": \"range\"},\n",
    "        {\"type\": \"formula\",\n",
    "        \"expr\": \"split(datum.cep_label, '(')[0]\",\n",
    "        \"as\": \"label\"},\n",
    "        \n",
    "        {\"type\": \"formula\",\n",
    "        \"expr\": \"datum.range === '<-5' ? 1 : datum.range === '-5 to 0' ? 2:  datum.range === '0 to 1' ? 3: datum.range === '1 to 5' ? 4:  datum.range === '>5' ? 5: 6 \",\n",
    "        \"as\": \"order\"},\n",
    "        {\"type\": \"formula\",\n",
    "        \"expr\": \"datum.order == 2 ? 'Low to Med': datum.order == 3 ? 'Med to High' : datum.label \",\n",
    "        \"as\": \"label\" },\n",
    "        {\"type\": \"collect\", \n",
    "        \"sort\": \n",
    "          {\"field\": [\"order\"],\"order\": [\"ascending\"]}}]}\n",
    "  ],\n",
    "\n",
    "  \"signals\": [\n",
    "    {\n",
    "      \"name\": \"tooltip\",\n",
    "      \"value\": {},\n",
    "      \"on\": [\n",
    "        {\"events\": \"rect:mouseover\", \"update\": \"datum\"},\n",
    "        {\"events\": \"rect:mouseout\",  \"update\": \"{}\"}\n",
    "      ]\n",
    "    },\n",
    "    {\"name\": \"gid_0\",\n",
    "    \"value\": \"IND\"}\n",
    "  ],\n",
    "\n",
    "  \"scales\": [\n",
    "    {\n",
    "      \"name\": \"xscale\",\n",
    "      \"type\": \"band\",\n",
    "      \"domain\": {\"data\": \"table\", \"field\": \"label\"},\n",
    "      \"range\": \"width\",\n",
    "      \"padding\": 0.1,\n",
    "      \"round\": true\n",
    "    },\n",
    "    {\n",
    "      \"name\": \"yscale\",\n",
    "      \"domain\": {\"data\": \"table\", \"field\": \"proportion\"},\n",
    "      \"nice\": true,\n",
    "      \"range\": \"height\"\n",
    "    },\n",
    "    {\n",
    "      \"name\": \"color\",\n",
    "      \"type\": \"ordinal\",\n",
    "      \"domain\": {\"data\": \"world\", \"field\": \"label\"},\n",
    "      \"range\": [\"#ffff99\", \"#ffe600\", \"#ff9900\", \"#E13737\", \"#bb1133\", \"#4e4e4e\"]\n",
    "    },\n",
    "    {\n",
    "      \"name\": \"line-color\",\n",
    "      \"type\": \"ordinal\",\n",
    "      \"domain\": [\n",
    "        \"Global Average\"\n",
    "      ]}\n",
    "  ],\n",
    "\n",
    "  \"axes\": [\n",
    "    { \"orient\": \"bottom\", \n",
    "    \"scale\": \"xscale\",\n",
    "    \"title\": \"Index of Coastal Eutrophication Potential\",\n",
    "    \"titleFont\": \"Arial\",\n",
    "    \"titleFontStyle\": \"normal\",\n",
    "    \"titleFontWeight\": 600,\n",
    "    \"titlePadding\": 5,\n",
    "    \"labelFont\": \"Arial\",\n",
    "    \"labelFontSize\": 11,\n",
    "    \"labelOverlap\": true,\n",
    "    \"labelBaseline\": \"middle\",\n",
    "    \"zindex\": 4},\n",
    "    { \"orient\": \"left\", \n",
    "    \"scale\": \"yscale\",\n",
    "    \"title\": \"Proportion of River Basins\",\n",
    "    \"titleFont\": \"Arial\",\n",
    "    \"titleFontStyle\": \"normal\",\n",
    "    \"titleFontWeight\": 600,\n",
    "    \"titlePadding\": 5,\n",
    "    \"labelFont\": \"Arial\",\n",
    "    \"labelBaseline\": \"middle\",\n",
    "    \"labelAlign\": \"right\",\n",
    "    \"labelPadding\": 5,\n",
    "    \"grid\": true,\n",
    "    \"gridOpacity\": 0.2,\n",
    "    \"zindex\": 0}\n",
    "  ],\n",
    "\n",
    "  \"marks\": [ \n",
    "    {\n",
    "      \"type\": \"text\",\n",
    "      \"zindex\": 2,\n",
    "      \"encode\": {\n",
    "        \"enter\": {\n",
    "          \"align\": {\"value\": \"center\"},\n",
    "          \"baseline\": {\"value\": \"bottom\"},\n",
    "          \"fill\": {\"value\": \"#333\"}\n",
    "        },\n",
    "        \"update\": {\n",
    "          \"x\": {\"scale\": \"xscale\", \"signal\": \"tooltip.label\", \"band\": 0.5},\n",
    "          \"y\": {\"scale\": \"yscale\", \"signal\": \"tooltip.proportion\", \"offset\": -2},\n",
    "          \"text\": {\"signal\": \"isNumber(tooltip.proportion) ? format(tooltip.proportion, '.2f'): ' ' \"},\n",
    "          \"fillOpacity\": [\n",
    "            {\"test\": \"datum === tooltip\", \"value\": 0},\n",
    "            {\"value\": 1}\n",
    "          ]\n",
    "        }\n",
    "      }\n",
    "    },\n",
    "    {\n",
    "      \"type\": \"rect\",\n",
    "      \"zindex\": 1,\n",
    "      \"from\": {\"data\":\"world\"},\n",
    "      \"encode\": {\n",
    "        \"enter\": {\n",
    "          \"x\": {\"scale\": \"xscale\", \"field\": \"label\"},\n",
    "          \"width\": {\"scale\": \"xscale\", \"band\": 1},\n",
    "          \"y\": {\"scale\": \"yscale\", \"field\": \"proportion\"},\n",
    "          \"y2\": {\"scale\": \"yscale\", \"value\": \"0\"},\n",
    "          \"stroke\": {\"value\": \"grey\", \"zindex\": 0},\n",
    "          \"strokeDash\":{\"value\": [4,2]},\n",
    "          \"strokeWidth\": {\"value\": 0.7},\n",
    "          \"tooltip\": {\n",
    "            \"signal\": \"{'Country': datum.name_0, 'Risk level': datum.label, 'ICEP Range' : datum.range, 'Number of basins': datum.count}\"\n",
    "          }\n",
    "        },\n",
    "        \"update\": {\n",
    "          \"stroke\": {\"value\": \"grey\"}\n",
    "        },\n",
    "        \"hover\": {\n",
    "          \"stroke\": {\"value\": \"gold\"}\n",
    "       }\n",
    "      }\n",
    "    },\n",
    "    \n",
    "    {\n",
    "      \"type\": \"rect\",\n",
    "      \"from\": {\"data\":\"country\"},\n",
    "      \"encode\": {\n",
    "        \"enter\": {\n",
    "          \"x\": {\"scale\": \"xscale\", \"field\": \"label\"},\n",
    "          \"width\": {\"scale\": \"xscale\", \"band\": 1},\n",
    "          \"y\": {\"scale\": \"yscale\", \"field\": \"proportion\"},\n",
    "          \"y2\": {\"scale\": \"yscale\", \"value\": 0},\n",
    "          \"fill\": {\"scale\": \"color\", \"field\": \"label\"},\n",
    "          \"stroke\": {\"scale\": \"color\", \"field\": \"label\"},\n",
    "          \"tooltip\": {\n",
    "            \"signal\": \"{'Country': datum.name_0, 'Risk level': datum.label, 'ICEP Range' : datum.range, 'Number of basins': datum.count}\"\n",
    "          }\n",
    "        },\n",
    "        \"update\": {\n",
    "          \"stroke\": {\"scale\": \"color\", \"field\": \"label\"}\n",
    "        },\n",
    "        \"hover\": {\n",
    "          \"stroke\": {\"value\": \"gold\"}\n",
    "       }\n",
    "      }\n",
    "    }\n",
    "  ],\n",
    "  \"legends\": [\n",
    "    \n",
    "    {\n",
    "      \"fill\": \"line-color\",\n",
    "      \"orient\": \"top-right\",\n",
    "      \"encode\": {\n",
    "        \"symbols\": {\n",
    "          \"update\": {\n",
    "            \"size\": {\"value\": 80},\n",
    "            \"stroke\": {\"value\": \"grey\"},\n",
    "            \"strokeDash\":{\"value\": [4,2]},\n",
    "            \"shape\": {\n",
    "              \"value\": \"stroke\"\n",
    "            }\n",
    "          }\n",
    "        }\n",
    "      }\n",
    "    }\n",
    "  ]\n",
    "}\n",
    "\"\"\")\n",
    "vegaview=dict(spec)\n",
    "Vega(vegaview)"
   ]
  },
  {
   "cell_type": "markdown",
   "metadata": {},
   "source": [
    "# RW API"
   ]
  },
  {
   "cell_type": "markdown",
   "metadata": {},
   "source": [
    "- [back office](https://resourcewatch.org/admin/data/widgets/34611389-153b-4f24-a687-418e073dd6e0/edit?dataset=d5e7884d-e4dd-47dd-8f28-c5b9c2318a9f)\n",
    "- parent dataset[]() \n",
    "- dataset id ```d5e7884d-e4dd-47dd-8f28-c5b9c2318a9f```\n",
    "- widget id: ```34611389-153b-4f24-a687-418e073dd6e0```"
   ]
  },
  {
   "cell_type": "code",
   "execution_count": null,
   "metadata": {},
   "outputs": [],
   "source": []
  }
 ],
 "metadata": {
  "kernelspec": {
   "display_name": "Python 3",
   "language": "python",
   "name": "python3"
  },
  "language_info": {
   "codemirror_mode": {
    "name": "ipython",
    "version": 3
   },
   "file_extension": ".py",
   "mimetype": "text/x-python",
   "name": "python",
   "nbconvert_exporter": "python",
   "pygments_lexer": "ipython3",
   "version": "3.7.7"
  }
 },
 "nbformat": 4,
 "nbformat_minor": 4
}
