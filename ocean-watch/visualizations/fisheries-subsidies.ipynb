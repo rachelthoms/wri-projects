{
 "cells": [
  {
   "cell_type": "markdown",
   "metadata": {},
   "source": [
    "# Fisheries Subsidies"
   ]
  },
  {
   "cell_type": "markdown",
   "metadata": {},
   "source": [
    "Description"
   ]
  },
  {
   "cell_type": "markdown",
   "metadata": {},
   "source": [
    "*Author: Rachel Thoms\n",
    "<br>Created: 14 Sept 2021\n",
    "<br>Environment: jupyterlab*"
   ]
  },
  {
   "cell_type": "markdown",
   "metadata": {},
   "source": [
    "## Style"
   ]
  },
  {
   "cell_type": "markdown",
   "metadata": {},
   "source": [
    "- Vega chart\n",
    "- Chart type\n",
    "- Value "
   ]
  },
  {
   "cell_type": "markdown",
   "metadata": {},
   "source": [
    "## Data"
   ]
  },
  {
   "cell_type": "markdown",
   "metadata": {},
   "source": [
    "- Data: [ow_widget_territory](https://resourcewatch.carto.com/u/wri-rw/dataset/ow_widget_territory) (full dataset - []())\n",
    "- Resource Watch: [explore page](https://resourcewatch.org/data/explore/)\n",
    "- Source: []()"
   ]
  },
  {
   "cell_type": "markdown",
   "metadata": {},
   "source": [
    "## Preparation"
   ]
  },
  {
   "cell_type": "markdown",
   "metadata": {},
   "source": [
    "### Aliasing and Inserting Data"
   ]
  },
  {
   "cell_type": "markdown",
   "metadata": {},
   "source": [
    "#### Queries"
   ]
  },
  {
   "cell_type": "markdown",
   "metadata": {},
   "source": [
    "Query 1"
   ]
  },
  {
   "cell_type": "markdown",
   "metadata": {},
   "source": [
    "``` SQL\n",
    "```"
   ]
  },
  {
   "cell_type": "markdown",
   "metadata": {},
   "source": [
    "- countries with data: \n",
    "- rows before: \n",
    "- rows inserted: \n",
    "- rows after: "
   ]
  },
  {
   "cell_type": "markdown",
   "metadata": {},
   "source": [
    "```sql\n",
    "\n",
    "```"
   ]
  },
  {
   "cell_type": "markdown",
   "metadata": {},
   "source": [
    "## Vega"
   ]
  },
  {
   "cell_type": "code",
   "execution_count": 1,
   "metadata": {},
   "outputs": [],
   "source": [
    "import json\n",
    "from vega import Vega\n",
    "from IPython.display import display"
   ]
  },
  {
   "cell_type": "code",
   "execution_count": 2,
   "metadata": {},
   "outputs": [],
   "source": [
    "def Vega(spec):\n",
    "    bundle = {}\n",
    "    bundle['application/vnd.vega.v5+json'] = spec\n",
    "    display(bundle, raw=True)"
   ]
  },
  {
   "cell_type": "code",
   "execution_count": 3,
   "metadata": {},
   "outputs": [
    {
     "ename": "SyntaxError",
     "evalue": "invalid syntax (<ipython-input-3-a4dbda25b940>, line 1)",
     "output_type": "error",
     "traceback": [
      "\u001b[0;36m  File \u001b[0;32m\"<ipython-input-3-a4dbda25b940>\"\u001b[0;36m, line \u001b[0;32m1\u001b[0m\n\u001b[0;31m    widget_width =\u001b[0m\n\u001b[0m                   ^\u001b[0m\n\u001b[0;31mSyntaxError\u001b[0m\u001b[0;31m:\u001b[0m invalid syntax\n"
     ]
    }
   ],
   "source": [
    "widget_width = \n",
    "widget_height = "
   ]
  },
  {
   "cell_type": "markdown",
   "metadata": {},
   "source": [
    "### Queries"
   ]
  },
  {
   "cell_type": "markdown",
   "metadata": {},
   "source": [
    "#### Testing Version"
   ]
  },
  {
   "cell_type": "markdown",
   "metadata": {},
   "source": [
    "```gadm.geostore_prod ILIKE 'ca5bfde08587530e76c17fe48362a01d'``` used as stand-in for parameterized ```{{{geostore_env}}='{{geostore_id}}'``` in production version"
   ]
  },
  {
   "cell_type": "markdown",
   "metadata": {},
   "source": [
    "```sql\n",
    "```"
   ]
  },
  {
   "cell_type": "markdown",
   "metadata": {},
   "source": [
    "#### Parameterized Version"
   ]
  },
  {
   "cell_type": "markdown",
   "metadata": {},
   "source": [
    "```sql\n",
    "\n",
    "```"
   ]
  },
  {
   "cell_type": "markdown",
   "metadata": {},
   "source": [
    "### Visualization"
   ]
  },
  {
   "cell_type": "code",
   "execution_count": null,
   "metadata": {},
   "outputs": [],
   "source": [
    "spec=json.loads(\"\"\"{}\"\"\")\n",
    "vegaview=dict(spec)\n",
    "Vega(vegaview)"
   ]
  },
  {
   "cell_type": "markdown",
   "metadata": {},
   "source": [
    "# Indicator "
   ]
  },
  {
   "cell_type": "markdown",
   "metadata": {},
   "source": [
    "Total dollar value of harmful subsidies"
   ]
  },
  {
   "cell_type": "markdown",
   "metadata": {},
   "source": [
    "## Rank"
   ]
  },
  {
   "cell_type": "markdown",
   "metadata": {},
   "source": [
    "```sql\n",
    "SELECT CONCAT(rank, ' of ', max_rank) FROM (SELECT \n",
    "    *, MAX(rank) OVER (PARTITION BY true) AS max_rank\n",
    "FROM(\n",
    "    SELECT \n",
    "        *,\n",
    "        RANK() OVER(ORDER BY value DESC) AS rank\n",
    "    FROM (\n",
    "        SELECT \n",
    "          country, \n",
    "          SUM(constant_2018_usd) as value \n",
    "        FROM ocn_022_rw0_fisheries_subsidies_edit \n",
    "        WHERE category = 'Capacity-enhancing'\n",
    "        GROUP BY country\n",
    "            ) data\n",
    "    WHERE value is not null\n",
    "        ) ranked \n",
    "LEFT JOIN ow_aliasing_countries AS alias ON alias.alias = ranked.country \n",
    "LEFT JOIN gadm36_0 gadm ON alias.iso = gadm.gid_0 WHERE coastal = true ) max_rank \n",
    "WHERE {{geostore_env}} ILIKE '{{geostore_id}}'\n",
    "```"
   ]
  },
  {
   "cell_type": "markdown",
   "metadata": {},
   "source": [
    "[https://wri-rw.carto.com/api/v2/sql?q=SELECT CONCAT(rank, ' of ', max_rank) FROM (SELECT *, MAX(rank) OVER (PARTITION BY true) AS max_rank FROM(SELECT *,RANK() OVER(ORDER BY value DESC) AS rank FROM (SELECT country, SUM(constant_2018_usd) as value FROM ocn_022_rw0_fisheries_subsidies_edit WHERE category = 'Capacity-enhancing' GROUP BY country) data WHERE value is not null) ranked LEFT JOIN ow_aliasing_countries AS alias ON alias.alias = ranked.country LEFT JOIN gadm36_0 gadm ON alias.iso = gadm.gid_0 WHERE coastal = true ) max_rank WHERE {{geostore_env}} ILIKE '{{geostore_id}}'](https://wri-rw.carto.com/api/v2/sql?q=SELECT%20CONCAT(rank,%20%27%20of%20%27,%20max_rank)%20FROM%20(SELECT%20*,%20MAX(rank)%20OVER%20(PARTITION%20BY%20true)%20AS%20max_rank%20FROM(SELECT%20*,RANK()%20OVER(ORDER%20BY%20value%20DESC)%20AS%20rank%20FROM%20(SELECT%20country,%20SUM(constant_2018_usd)%20as%20value%20FROM%20ocn_022_rw0_fisheries_subsidies_edit%20WHERE%20category%20=%20%27Capacity-enhancing%27%20GROUP%20BY%20country)%20data%20WHERE%20value%20is%20not%20null)%20ranked%20LEFT%20JOIN%20ow_aliasing_countries%20AS%20alias%20ON%20alias.alias%20=%20ranked.country%20LEFT%20JOIN%20gadm36_0%20gadm%20ON%20alias.iso%20=%20gadm.gid_0%20WHERE%20coastal%20=%20true%20)%20max_rank%20WHERE%20gid_0%20ILIKE%20%27MEX%27)"
   ]
  },
  {
   "cell_type": "markdown",
   "metadata": {},
   "source": [
    "## Value"
   ]
  },
  {
   "cell_type": "markdown",
   "metadata": {},
   "source": [
    "``` sql\n",
    "SELECT \n",
    "    CASE  \n",
    "    WHEN value > 1000000000 THEN CONCAT('$',SUBSTRING(CAST(ROUND(value) AS text), 0,4), 'B')\n",
    "    WHEN value > 1000000 THEN CONCAT('$',SUBSTRING(CAST(ROUND(value) AS text), 0,4), 'M')\n",
    "    ELSE CONCAT('$', CAST(ROUND(value) AS text)) END AS value\n",
    "FROM (\n",
    "    SELECT \n",
    "      country, \n",
    "      SUM(constant_2018_usd) as value \n",
    "    FROM ocn_022_rw0_fisheries_subsidies_edit \n",
    "    WHERE category = 'Capacity-enhancing'\n",
    "    GROUP BY country\n",
    "        ) data\n",
    "INNER JOIN ow_aliasing_countries AS alias ON alias.alias = data.country \n",
    "INNER JOIN gadm36_0 gadm ON alias.iso = gadm.gid_0 \n",
    "WHERE gadm.{{geostore_env}} ILIKE '{{geostore_id}}'\n",
    "```"
   ]
  },
  {
   "cell_type": "markdown",
   "metadata": {},
   "source": [
    "### Raw Query\n",
    "`https://wri-rw.carto.com/api/v2/sql?q=SELECT CASE WHEN value > 1000000000 THEN CONCAT('$',SUBSTRING(CAST(ROUND(value) AS text), 0,4), 'B') WHEN value > 1000000 THEN CONCAT('$',SUBSTRING(CAST(ROUND(value) AS text), 0,4), 'M') ELSE CONCAT('$', CAST(ROUND(value) AS text)) END AS value FROM (SELECT country, SUM(constant_2018_usd) as value FROM ocn_022_rw0_fisheries_subsidies_edit WHERE category = 'Capacity-enhancing' GROUP BY country) data INNER JOIN ow_aliasing_countries AS alias ON alias.alias = data.country INNER JOIN gadm36_0 gadm ON alias.iso = gadm.gid_0  WHERE gadm.{{geostore_env}} ILIKE '{{geostore_id}}'`\n",
    "### Example Query\n",
    "[query](https://wri-rw.carto.com/api/v2/sql?q=SELECT%20CASE%20WHEN%20value%20%3E%201000000000%20THEN%20CONCAT(%27$%27,SUBSTRING(CAST(ROUND(value)%20AS%20text),%200,4),%20%27B%27)%20WHEN%20value%20%3E%201000000%20THEN%20CONCAT(%27$%27,SUBSTRING(CAST(ROUND(value)%20AS%20text),%200,4),%20%27M%27)%20ELSE%20CONCAT(%27$%27,%20CAST(ROUND(value)%20AS%20text))%20END%20AS%20value%20FROM%20(SELECT%20country,%20SUM(constant_2018_usd)%20as%20value%20FROM%20ocn_022_rw0_fisheries_subsidies_edit%20WHERE%20category%20=%20%27Capacity-enhancing%27%20GROUP%20BY%20country)%20data%20INNER%20JOIN%20ow_aliasing_countries%20AS%20alias%20ON%20alias.alias%20=%20data.country%20INNER%20JOIN%20gadm36_0%20gadm%20ON%20alias.iso%20=%20gadm.gid_0%20%20WHERE%20gadm.gid_0%20ILIKE%20%27BRA%27): `https://wri-rw.carto.com/api/v2/sql?q=SELECT CASE WHEN value > 1000000000 THEN CONCAT('$',SUBSTRING(CAST(ROUND(value) AS text), 0,4), 'B') WHEN value > 1000000 THEN CONCAT('$',SUBSTRING(CAST(ROUND(value) AS text), 0,4), 'M') ELSE CONCAT('$', CAST(ROUND(value) AS text)) END AS value FROM (SELECT country, SUM(constant_2018_usd) as value FROM ocn_022_rw0_fisheries_subsidies_edit WHERE category = 'Capacity-enhancing' GROUP BY country) data INNER JOIN ow_aliasing_countries AS alias ON alias.alias = data.country INNER JOIN gadm36_0 gadm ON alias.iso = gadm.gid_0  WHERE gadm.gid_0 ILIKE 'BRA'`"
   ]
  },
  {
   "cell_type": "markdown",
   "metadata": {},
   "source": []
  },
  {
   "cell_type": "markdown",
   "metadata": {},
   "source": [
    "## RW Backoffice and API"
   ]
  },
  {
   "cell_type": "markdown",
   "metadata": {},
   "source": [
    "- [back office](https://resourcewatch.org/admin/data/widgets/{}/edit?dataset={})\n",
    "- parent dataset [{}](https://resourcewatch.org/data/explore/{}) \n",
    "- dataset id ```{}```\n",
    "- widget id: ```{}```\n",
    "- [api widget](https://api.resourcewatch.org/v1/widget/{}?env=production)"
   ]
  }
 ],
 "metadata": {
  "kernelspec": {
   "display_name": "Python 3",
   "language": "python",
   "name": "python3"
  },
  "language_info": {
   "codemirror_mode": {
    "name": "ipython",
    "version": 3
   },
   "file_extension": ".py",
   "mimetype": "text/x-python",
   "name": "python",
   "nbconvert_exporter": "python",
   "pygments_lexer": "ipython3",
   "version": "3.7.7"
  }
 },
 "nbformat": 4,
 "nbformat_minor": 4
}
