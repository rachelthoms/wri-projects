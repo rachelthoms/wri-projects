{
 "cells": [
  {
   "cell_type": "markdown",
   "metadata": {},
   "source": [
    "# Import Export Ratio"
   ]
  },
  {
   "cell_type": "markdown",
   "metadata": {},
   "source": [
    "Description"
   ]
  },
  {
   "cell_type": "markdown",
   "metadata": {},
   "source": [
    "*Author: Rachel Thoms\n",
    "<br>Created: 15 Sept 2021\n",
    "<br>Environment: jupyterlab*"
   ]
  },
  {
   "cell_type": "markdown",
   "metadata": {},
   "source": [
    "## Style"
   ]
  },
  {
   "cell_type": "markdown",
   "metadata": {},
   "source": [
    "- Vega chart\n",
    "- Chart type\n",
    "- Value "
   ]
  },
  {
   "cell_type": "markdown",
   "metadata": {},
   "source": [
    "## Data"
   ]
  },
  {
   "cell_type": "markdown",
   "metadata": {},
   "source": [
    "- Data: [ow_widget_territory](https://resourcewatch.carto.com/u/wri-rw/dataset/ow_widget_territory) (full dataset - []())\n",
    "- Resource Watch: [explore page](https://resourcewatch.org/data/explore/)\n",
    "- Source: []()"
   ]
  },
  {
   "cell_type": "markdown",
   "metadata": {},
   "source": [
    "## Preparation"
   ]
  },
  {
   "cell_type": "markdown",
   "metadata": {},
   "source": [
    "### Aliasing and Inserting Data"
   ]
  },
  {
   "cell_type": "markdown",
   "metadata": {},
   "source": [
    "#### Queries"
   ]
  },
  {
   "cell_type": "markdown",
   "metadata": {},
   "source": [
    "Query 1"
   ]
  },
  {
   "cell_type": "markdown",
   "metadata": {},
   "source": [
    "``` SQL\n",
    "```"
   ]
  },
  {
   "cell_type": "markdown",
   "metadata": {},
   "source": [
    "- countries with data: \n",
    "- rows before: \n",
    "- rows inserted: \n",
    "- rows after: "
   ]
  },
  {
   "cell_type": "markdown",
   "metadata": {},
   "source": [
    "```sql\n",
    "\n",
    "```"
   ]
  },
  {
   "cell_type": "markdown",
   "metadata": {},
   "source": [
    "## Vega"
   ]
  },
  {
   "cell_type": "code",
   "execution_count": 1,
   "metadata": {},
   "outputs": [],
   "source": [
    "import json\n",
    "from vega import Vega\n",
    "from IPython.display import display"
   ]
  },
  {
   "cell_type": "code",
   "execution_count": 2,
   "metadata": {},
   "outputs": [],
   "source": [
    "def Vega(spec):\n",
    "    bundle = {}\n",
    "    bundle['application/vnd.vega.v5+json'] = spec\n",
    "    display(bundle, raw=True)"
   ]
  },
  {
   "cell_type": "code",
   "execution_count": 3,
   "metadata": {},
   "outputs": [
    {
     "ename": "SyntaxError",
     "evalue": "invalid syntax (<ipython-input-3-a4dbda25b940>, line 1)",
     "output_type": "error",
     "traceback": [
      "\u001b[0;36m  File \u001b[0;32m\"<ipython-input-3-a4dbda25b940>\"\u001b[0;36m, line \u001b[0;32m1\u001b[0m\n\u001b[0;31m    widget_width =\u001b[0m\n\u001b[0m                   ^\u001b[0m\n\u001b[0;31mSyntaxError\u001b[0m\u001b[0;31m:\u001b[0m invalid syntax\n"
     ]
    }
   ],
   "source": [
    "widget_width = \n",
    "widget_height = "
   ]
  },
  {
   "cell_type": "markdown",
   "metadata": {},
   "source": [
    "### Queries"
   ]
  },
  {
   "cell_type": "markdown",
   "metadata": {},
   "source": [
    "#### Testing Version"
   ]
  },
  {
   "cell_type": "markdown",
   "metadata": {},
   "source": [
    "```gadm.geostore_prod ILIKE 'ca5bfde08587530e76c17fe48362a01d'``` used as stand-in for parameterized ```{{{geostore_env}}='{{geostore_id}}'``` in production version"
   ]
  },
  {
   "cell_type": "markdown",
   "metadata": {},
   "source": [
    "```sql\n",
    "```"
   ]
  },
  {
   "cell_type": "markdown",
   "metadata": {},
   "source": [
    "#### Parameterized Version"
   ]
  },
  {
   "cell_type": "markdown",
   "metadata": {},
   "source": [
    "```sql\n",
    "\n",
    "```"
   ]
  },
  {
   "cell_type": "markdown",
   "metadata": {},
   "source": [
    "### Visualization"
   ]
  },
  {
   "cell_type": "code",
   "execution_count": null,
   "metadata": {},
   "outputs": [],
   "source": [
    "spec=json.loads(\"\"\"{}\"\"\")\n",
    "vegaview=dict(spec)\n",
    "Vega(vegaview)"
   ]
  },
  {
   "cell_type": "markdown",
   "metadata": {},
   "source": [
    "# Indicator Value"
   ]
  },
  {
   "cell_type": "markdown",
   "metadata": {},
   "source": [
    "Description: import-export ratio"
   ]
  },
  {
   "cell_type": "markdown",
   "metadata": {},
   "source": [
    "# Rank"
   ]
  },
  {
   "cell_type": "markdown",
   "metadata": {},
   "source": [
    "```sql\n",
    "SELECT CONCAT(rank, ' of ', max_rank) FROM (SELECT *, MAX(rank) OVER (PARTITION BY true) AS max_rank\n",
    "FROM(\n",
    "    SELECT area, RANK() OVER(ORDER BY ratio ASC) \n",
    "    FROM(\n",
    "        SELECT area,\n",
    "        SUM(\n",
    "            CASE WHEN element = 'Import Quantity' THEN value ELSE 0 END)\n",
    "        / \n",
    "        NULLIF(\n",
    "            SUM(\n",
    "                CASE WHEN element ='Export Quantity' THEN value ELSE 0 END) ,0) \n",
    "            ratio\n",
    "        FROM foo_061_rw0_blue_food_supply_edit \n",
    "        WHERE element in ('Import Quantity','Export Quantity') \n",
    "        AND type = 'Ocean-Sourced Food' AND year = 2018 \n",
    "        GROUP BY area ) data \n",
    "    ) ranked\n",
    "LEFT JOIN (SELECT alias, iso FROM ow_aliasing_countries) alias ON alias.alias = ranked.area\n",
    "LEFT JOIN gadm36_0 gadm ON alias.iso = gadm.gid_0\n",
    "WHERE coastal = true) max_rank WHERE \n",
    "WHERE gadm.{{geostore_env}} ILIKE '{{geostore_id}}'\n",
    "```"
   ]
  },
  {
   "cell_type": "markdown",
   "metadata": {},
   "source": [
    "- ```query```: [https://wri-rw.carto.com/api/v2/sql?q=SELECT CONCAT(rank, ' of ', max_rank) FROM (SELECT *, MAX(rank) OVER (PARTITION BY true) AS max_rank FROM(SELECT area, RANK() OVER(ORDER BY ratio ASC) FROM(SELECT area,SUM(CASE WHEN element = 'Import Quantity' THEN value ELSE 0 END)/ NULLIF(SUM(CASE WHEN element ='Export Quantity' THEN value ELSE 0 END) ,0) ratio FROM foo_061_rw0_blue_food_supply_edit WHERE element in ('Import Quantity','Export Quantity') AND type = 'Ocean-Sourced Food' AND year = 2018 GROUP BY area ) data ) ranked LEFT JOIN (SELECT alias, iso FROM ow_aliasing_countries) alias ON alias.alias = ranked.area LEFT JOIN gadm36_0 gadm ON alias.iso = gadm.gid_0 WHERE coastal = true) max_rank WHERE gadm.{{geostore_env}} ILIKE '{{geostore_id}}'](https://wri-rw.carto.com/api/v2/sql?q=SELECT%20CONCAT(rank,%20%27%20of%20%27,%20max_rank)%20FROM%20(SELECT%20*,%20MAX(rank)%20OVER%20(PARTITION%20BY%20true)%20AS%20max_rank%20FROM(SELECT%20area,%20RANK()%20OVER(ORDER%20BY%20ratio%20ASC)%20FROM(SELECT%20area,SUM(CASE%20WHEN%20element%20=%20%27Import%20Quantity%27%20THEN%20value%20ELSE%200%20END)/%20NULLIF(SUM(CASE%20WHEN%20element%20=%27Export%20Quantity%27%20THEN%20value%20ELSE%200%20END)%20,0)%20ratio%20FROM%20foo_061_rw0_blue_food_supply_edit%20WHERE%20element%20in%20(%27Import%20Quantity%27,%27Export%20Quantity%27)%20AND%20type%20=%20%27Ocean-Sourced%20Food%27%20AND%20year%20=%202018%20GROUP%20BY%20area%20)%20data%20)%20ranked%20LEFT%20JOIN%20(SELECT%20alias,%20iso%20FROM%20ow_aliasing_countries)%20alias%20ON%20alias.alias%20=%20ranked.area%20LEFT%20JOIN%20gadm36_0%20gadm%20ON%20alias.iso%20=%20gadm.gid_0%20WHERE%20coastal%20=%20true)%20max_rank%20WHERE%20geostore_prod%20ILIKE%20%27f4599aaeedacb9e6ddca177a93795e4c%27)\n"
   ]
  },
  {
   "cell_type": "markdown",
   "metadata": {},
   "source": [
    "# Value"
   ]
  },
  {
   "cell_type": "markdown",
   "metadata": {},
   "source": [
    "Query:\n",
    "``` sql\n",
    "SELECT \n",
    "    ratio AS value \n",
    "FROM(\n",
    "    SELECT\n",
    "        SUM(\n",
    "            CASE WHEN element = 'Import Quantity' THEN value ELSE 0 END)\n",
    "            /NULLIF(\n",
    "                SUM(\n",
    "                    CASE WHEN element ='Export Quantity' THEN value ELSE 0 END), 0) \n",
    "            value\n",
    "    FROM foo_061_rw0_blue_food_supply_edit \n",
    "    LEFT JOIN ow_aliasing_countries AS alias ON alias.alias = area\n",
    "    LEFT JOIN gadm36_0 gadm ON alias.iso = gadm.gid_0\n",
    "    WHERE element in ('Import Quantity','Export Quantity') \n",
    "    AND type = 'Ocean-Sourced Food' AND year = 2018 \n",
    "    AND gadm.{{geostore_env}} ILIKE '{{geostore_id}}'\n",
    "    GROUP BY area\n",
    ") data\n",
    "\n",
    "```"
   ]
  },
  {
   "cell_type": "markdown",
   "metadata": {},
   "source": [
    "- ```description```:\n",
    "- ```query```: [https://wri-rw.carto.com/api/v2/sql?q=SELECT ratio AS value FROM (SELECT SUM(CASE WHEN element = 'Import Quantity' THEN value ELSE 0 END)/NULLIF(SUM(CASE WHEN element ='Export Quantity' THEN value ELSE 0 END), 0) ratio FROM foo_061_rw0_blue_food_supply_edit LEFT JOIN ow_aliasing_countries AS alias ON alias.alias = area LEFT JOIN gadm36_0 gadm ON alias.iso = gadm.gid_0 WHERE element in ('Import Quantity','Export Quantity') AND type = 'Ocean-Sourced Food' AND year = 2018 AND gadm.{{geostore_env}} ILIKE '{{geostore_id}}' GROUP BY area) data ](https://wri-rw.carto.com/api/v2/sql?q=SELECT%20ratio%20AS%20value%20FROM%20(SELECT%20SUM(CASE%20WHEN%20element%20=%20%27Import%20Quantity%27%20THEN%20value%20ELSE%200%20END)/NULLIF(SUM(CASE%20WHEN%20element%20=%27Export%20Quantity%27%20THEN%20value%20ELSE%200%20END),%200)%20ratio%20FROM%20foo_061_rw0_blue_food_supply_edit%20LEFT%20JOIN%20ow_aliasing_countries%20AS%20alias%20ON%20alias.alias%20=%20area%20LEFT%20JOIN%20gadm36_0%20gadm%20ON%20alias.iso%20=%20gadm.gid_0%20WHERE%20element%20in%20(%27Import%20Quantity%27,%27Export%20Quantity%27)%20AND%20type%20=%20%27Ocean-Sourced%20Food%27%20AND%20year%20=%202018%20AND%20gadm.gid_0%20ILIKE%20%27MEX%27%20GROUP%20BY%20area)data)\n",
    "- ```format```: ```.2f```"
   ]
  },
  {
   "cell_type": "markdown",
   "metadata": {},
   "source": [
    "Unit: NA"
   ]
  },
  {
   "cell_type": "markdown",
   "metadata": {},
   "source": [
    "## RW Backoffice and API"
   ]
  },
  {
   "cell_type": "markdown",
   "metadata": {},
   "source": [
    "- [back office](https://resourcewatch.org/admin/data/widgets/{}/edit?dataset={})\n",
    "- parent dataset [{}](https://resourcewatch.org/data/explore/{}) \n",
    "- dataset id ```{}```\n",
    "- widget id: ```{}```\n",
    "- [api widget](https://api.resourcewatch.org/v1/widget/{}?env=production)"
   ]
  }
 ],
 "metadata": {
  "kernelspec": {
   "display_name": "Python 3",
   "language": "python",
   "name": "python3"
  },
  "language_info": {
   "codemirror_mode": {
    "name": "ipython",
    "version": 3
   },
   "file_extension": ".py",
   "mimetype": "text/x-python",
   "name": "python",
   "nbconvert_exporter": "python",
   "pygments_lexer": "ipython3",
   "version": "3.7.7"
  }
 },
 "nbformat": 4,
 "nbformat_minor": 4
}
