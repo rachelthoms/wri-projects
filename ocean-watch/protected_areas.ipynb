{
 "cells": [
  {
   "cell_type": "markdown",
   "metadata": {},
   "source": [
    "# Protected Areas"
   ]
  },
  {
   "cell_type": "markdown",
   "metadata": {},
   "source": [
    "Visualizing % of Exclusive Economic Zones (EEZs) protected over time "
   ]
  },
  {
   "cell_type": "markdown",
   "metadata": {},
   "source": [
    "*Author: Rachel Thoms\n",
    "<br>Created: 08 24 2021\n",
    "<br>Environment: jupyterlab*"
   ]
  },
  {
   "cell_type": "markdown",
   "metadata": {},
   "source": [
    "## Style"
   ]
  },
  {
   "cell_type": "markdown",
   "metadata": {},
   "source": [
    "- Vega chart\n",
    "- Chart type\n",
    "- Value "
   ]
  },
  {
   "cell_type": "markdown",
   "metadata": {},
   "source": [
    "## Data"
   ]
  },
  {
   "cell_type": "markdown",
   "metadata": {},
   "source": [
    "- Data: [ow_widget_territory](https://resourcewatch.carto.com/u/wri-rw/dataset/ow_widget_territory) (full dataset - [ocn_023_rw0_marine_protection](https://resourcewatch.carto.com/u/wri-rw/dataset/ocn_023_rw0_marine_protection_edit))\n",
    "- Resource Watch: [explore page](https://resourcewatch.org/data/explore/)\n",
    "- Source: [OECD](https://data.oecd.org/biodiver/protected-areas.htm)"
   ]
  },
  {
   "cell_type": "markdown",
   "metadata": {},
   "source": [
    "## Preparation"
   ]
  },
  {
   "cell_type": "markdown",
   "metadata": {},
   "source": [
    "### Aliasing and Inserting Data"
   ]
  },
  {
   "cell_type": "markdown",
   "metadata": {},
   "source": [
    "#### Queries"
   ]
  },
  {
   "cell_type": "markdown",
   "metadata": {},
   "source": [
    "not inserted into master table"
   ]
  },
  {
   "cell_type": "markdown",
   "metadata": {},
   "source": [
    "### Vega"
   ]
  },
  {
   "cell_type": "code",
   "execution_count": 2,
   "metadata": {},
   "outputs": [],
   "source": [
    "import json\n",
    "from vega import Vega\n",
    "from IPython.display import display"
   ]
  },
  {
   "cell_type": "code",
   "execution_count": 3,
   "metadata": {},
   "outputs": [],
   "source": [
    "def Vega(spec):\n",
    "    bundle = {}\n",
    "    bundle['application/vnd.vega.v5+json'] = spec\n",
    "    display(bundle, raw=True)"
   ]
  },
  {
   "cell_type": "code",
   "execution_count": 4,
   "metadata": {},
   "outputs": [],
   "source": [
    "widget_width = 500\n",
    "widget_height = 200"
   ]
  },
  {
   "cell_type": "markdown",
   "metadata": {},
   "source": [
    "## Visualization"
   ]
  },
  {
   "cell_type": "markdown",
   "metadata": {},
   "source": [
    "### Queries"
   ]
  },
  {
   "cell_type": "markdown",
   "metadata": {},
   "source": [
    "#### Testing version"
   ]
  },
  {
   "cell_type": "markdown",
   "metadata": {},
   "source": [
    "```gadm.geostore_prod ILIKE 'f4599aaeedacb9e6ddca177a93795e4c'``` used as stand-in for parameterized ```{{geostore_env}}='{{geostore_id}}'``` in production version"
   ]
  },
  {
   "cell_type": "markdown",
   "metadata": {},
   "source": [
    "```sql\n",
    "adm.gid_0, country, year AS date, value FROM \n",
    "(SELECT iso, country, year, value FROM ocn_023_rw0_marine_protection_edit \n",
    "UNION SELECT 'GLB' AS iso, 'Global' as country, year, value FROM ocn_023_rw0_marine_protection_edit \n",
    "WHERE iso='WLD' \n",
    "UNION SELECT 'GLB' AS iso, country, year, value FROM ocn_023_rw0_marine_protection_edit \n",
    "WHERE iso='ABNJ') AS data \n",
    "LEFT OUTER JOIN gadm36_0 gadm ON data.iso = gadm.gid_0 \n",
    "WHERE gadm.geostore_prod = 'f4599aaeedacb9e6ddca177a93795e4c' \n",
    "ORDER BY date ASC, name_0 ASC\n",
    "```"
   ]
  },
  {
   "cell_type": "markdown",
   "metadata": {},
   "source": [
    "#### Parameterized version"
   ]
  },
  {
   "cell_type": "markdown",
   "metadata": {},
   "source": [
    "```sql\n",
    "SELECT gadm.gid_0, country, year AS date, value FROM \n",
    "(SELECT iso, country, year, value FROM ocn_023_rw0_marine_protection_edit \n",
    "UNION SELECT 'GLB' AS iso, 'Global' as country, year, value FROM ocn_023_rw0_marine_protection_edit \n",
    "WHERE iso='WLD' \n",
    "UNION SELECT 'GLB' AS iso, country, year, value FROM ocn_023_rw0_marine_protection_edit \n",
    "WHERE iso='ABNJ') AS data \n",
    "LEFT OUTER JOIN gadm36_0 gadm ON data.iso = gadm.gid_0 WHERE gadm.{{geostore_env}} = '{{geostore_id}}' \n",
    "ORDER BY date ASC, name_0 ASC\n",
    "```"
   ]
  },
  {
   "cell_type": "code",
   "execution_count": 6,
   "metadata": {},
   "outputs": [],
   "source": [
    "spec=json.loads(\"\"\"{\n",
    "  \"$schema\": \"https://vega.github.io/schema/vega/v5.json\",\n",
    "  \"width\": 500,\n",
    "  \"height\": 200,\n",
    "  \"padding\": 5,\n",
    "  \"data\": [\n",
    "    {\n",
    "      \"name\": \"table\",\n",
    "      \"url\": \"https://wri-rw.carto.com/api/v2/sql?q= SELECT gadm.gid_0, country, year AS date, value FROM (SELECT iso, country, year, value FROM ocn_023_rw0_marine_protection_edit UNION SELECT 'GLB' AS iso, 'Global' as country, year, value FROM ocn_023_rw0_marine_protection_edit WHERE iso='WLD' UNION SELECT 'GLB' AS iso, country, year, value FROM ocn_023_rw0_marine_protection_edit WHERE iso='ABNJ') AS data LEFT OUTER JOIN gadm36_0 gadm ON data.iso = gadm.gid_0 WHERE gadm.{{geostore_env}}= '{{geostore_id}}' ORDER BY date ASC, name_0 ASC\",\n",
    "      \"format\": {\"type\": \"json\", \"property\": \"rows\"}},\n",
    "      {\"name\": \"maximum\",\n",
    "    \"source\": \"table\",\n",
    "    \"transform\": [{\"type\": \"collect\", \"sort\": {\"field\": \"value\",\"order\": \"descending\"}}\n",
    "  ]},\n",
    "      {\"name\": \"mpa\",\n",
    "      \"source\": \"table\",\n",
    "      \"transform\": [ {\n",
    "          \"type\":\"formula\",\n",
    "          \"expr\": \"'30%'\",\n",
    "          \"as\": \"goal\"\n",
    "        },\n",
    "        {\n",
    "          \"type\":\"formula\",\n",
    "          \"expr\": \"datum.value/100\",\n",
    "          \"as\": \"value\"\n",
    "        },\n",
    "        {\n",
    "          \"type\": \"stack\",\n",
    "          \"groupby\": [\"date\"],\n",
    "          \"sort\": {\"field\": \"country\"},\n",
    "          \"field\": \"value\"\n",
    "        },\n",
    "        {\"type\": \"formula\",\n",
    "        \"expr\": \"datum.y0 + datum.y1\",\n",
    "        \"as\": \"total\"},\n",
    "        {\"type\": \"collect\", \"sort\": {\"field\": [\"date\",\"country\"],\"order\": [\"ascending\", \"ascending\"]}}\n",
    "      ]\n",
    "    },\n",
    "    {\n",
    "      \"name\": \"highlightedPoint\",\n",
    "      \"source\": \"mpa\",\n",
    "      \"transform\": [\n",
    "        {\n",
    "          \"type\": \"filter\",\n",
    "          \"expr\": \"(point_hover && point_hover.datum.date === datum.date) \"\n",
    "        }\n",
    "      ]\n",
    "    }],\n",
    "  \"signals\": [\n",
    "    {\n",
    "      \"name\": \"point_hover\",\n",
    "      \"value\": null,\n",
    "      \"on\": [\n",
    "        {\"events\": \"@points_voronoi:mouseover\", \"update\": \"datum\"},\n",
    "        {\"events\": \"@points_voronoi:mouseout\", \"update\": \"null\"}\n",
    "      ]\n",
    "    },\n",
    "    {\"name\": \"gid\", \"update\": \"data('mpa')[0]['gid_0']\"},\n",
    "    {\"name\": \"max\", \"update\": \"data('maximum')[0]['value']/100\"}\n",
    "  ],\n",
    "  \"scales\": [\n",
    "    {\n",
    "      \"name\": \"x\",\n",
    "      \"type\": \"point\",\n",
    "      \"range\": \"width\",\n",
    "      \"domain\": {\"data\": \"mpa\", \"field\": \"date\"}\n",
    "    },\n",
    "    {\n",
    "      \"name\": \"y\",\n",
    "      \"type\": \"linear\",\n",
    "      \"range\": \"height\",\n",
    "      \"nice\": true,\n",
    "      \"zero\": true,\n",
    "      \"domain\": {\"data\": \"mpa\", \"field\": \"value\"},\n",
    "      \"domainMax\": {\"signal\": \"gid === 'GLB' ? 0.30 : max < 0.80 ? max + 0.10 : 1\"}\n",
    "    },\n",
    "    {\n",
    "      \"name\": \"colors\",\n",
    "      \"type\": \"ordinal\",\n",
    "      \"range\": [\"#84c0d0\",\"#005c7e\"],\n",
    "      \"domain\": {\"data\": \"mpa\", \"field\": \"country\"}\n",
    "    \n",
    "    },\n",
    "    {\n",
    "      \"name\": \"color\",\n",
    "      \"type\": \"ordinal\",\n",
    "      \"range\": [\"#005c7e\"],\n",
    "      \"domain\": {\"data\": \"mpa\", \"field\": \"country\"}\n",
    "    }\n",
    "  ],\n",
    "  \"axes\": [\n",
    "    {\n",
    "      \"orient\": \"bottom\",\n",
    "      \"scale\": \"x\",\n",
    "      \"labelBaseline\": \"middle\",\n",
    "      \"labelOverlap\": true,\n",
    "      \"labelFontSize\": 10\n",
    "    },\n",
    "    {\n",
    "      \"orient\": \"left\",\n",
    "      \"scale\": \"y\",\n",
    "      \"labelBaseline\": \"middle\",\n",
    "      \"labelAlign\": \"right\",\n",
    "      \"labelPadding\": 3,\n",
    "      \"grid\": true,\n",
    "      \"gridOpacity\": 0.1,\n",
    "      \"labelFontSize\": 10,\n",
    "      \"format\": \"%\"\n",
    "    }\n",
    "  ],\n",
    "  \"marks\": [\n",
    "    {\n",
    "      \"type\": \"group\",\n",
    "      \"from\": {\"facet\": {\"name\": \"series\", \"data\": \"mpa\", \"groupby\": \"country\"}},\n",
    "      \"marks\": [\n",
    "        {\n",
    "          \"type\": \"line\",\n",
    "          \"from\": {\"data\": \"series\"},\n",
    "          \"encode\": {\n",
    "            \"enter\": {\n",
    "              \"x\": {\"scale\": \"x\", \"field\": \"date\"},\n",
    "              \"y\": {\"scale\": \"y\", \"field\": \"y0\"},\n",
    "              \"stroke\": {\"value\": \"#84c0d0\"},\n",
    "              \"strokeWidth\": {\"value\": 2}\n",
    "            },\n",
    "            \"update\": {\n",
    "              \"interpolate\": {\"value\": \"monotone\"},\n",
    "              \"strokeOpacity\": {\"value\": 1}\n",
    "            },\n",
    "            \"hover\": {\"strokeOpacity\": {\"value\": 0.5}}\n",
    "          }\n",
    "        },\n",
    "        {\n",
    "          \"type\": \"line\",\n",
    "          \"from\": {\"data\": \"series\"},\n",
    "          \"encode\": {\n",
    "            \"enter\": {\n",
    "              \"x\": {\"scale\": \"x\", \"field\": \"date\"},\n",
    "              \"y\": {\"scale\": \"y\", \"field\": \"y1\"},\n",
    "              \"stroke\": {\"value\": \"#005c7e\"},\n",
    "              \"strokeWidth\": {\"value\": 2}\n",
    "            },\n",
    "            \"update\": {\n",
    "              \"interpolate\": {\"value\": \"monotone\"},\n",
    "              \"strokeOpacity\": {\"value\": 1}\n",
    "            }\n",
    "          }\n",
    "        },\n",
    "        {\n",
    "          \"type\": \"area\",\n",
    "          \"from\": {\"data\": \"series\"},\n",
    "          \"encode\": {\n",
    "            \"enter\": {\n",
    "              \"x\": {\"scale\": \"x\", \"field\": \"date\"},\n",
    "              \"y\": {\"scale\": \"y\", \"field\": \"y0\"},\n",
    "              \"y2\": {\"scale\": \"y\",\"field\": \"y1\"},\n",
    "              \"fill\": {\"scale\": {\"signal\": \"(datum.gid_0=== 'GLB' ? 'colors' : 'color')\"}, \"field\": \"country\"}\n",
    "            },\n",
    "            \"update\": {\n",
    "              \"interpolate\": {\"value\": \"monotone\"},\n",
    "              \"fillOpacity\": {\"value\": 0.8}\n",
    "            },\n",
    "            \"hover\": {\"fillOpacity\": {\"value\": 0.3}}\n",
    "          }\n",
    "        },\n",
    "        {\n",
    "          \"name\": \"points\",\n",
    "          \"type\": \"symbol\",\n",
    "          \"from\": {\"data\": \"mpa\"},\n",
    "          \"encode\": {\n",
    "            \"update\": {\n",
    "              \"x\": {\"scale\": \"x\", \"field\": \"date\"},\n",
    "              \"y\": {\"scale\": \"y\", \"field\": \"y1\"},\n",
    "              \"size\": {\"value\": 6},\n",
    "              \"shape\": {\"value\": \"circle\"},\n",
    "              \"strokeWidth\": {\"value\": 2},\n",
    "              \"opacity\": {\"value\": 1},\n",
    "              \"stroke\": {\"value\": \"transparent\"},\n",
    "              \"fill\": {\"value\": \"transparent\"}\n",
    "            }\n",
    "          }\n",
    "        },\n",
    "        {\n",
    "          \"name\": \"points_voronoi\",\n",
    "          \"type\": \"path\",\n",
    "          \"from\": {\"data\": \"points\"},\n",
    "          \"encode\": {\n",
    "            \"update\": {\n",
    "              \"fill\": {\"value\": \"transparent\"},\n",
    "              \"strokeWidth\": {\"value\": 0.35},\n",
    "              \"stroke\": {\"value\": \"transparent\"},\n",
    "              \"strokeOpacity\": {\"value\": 0.2},\n",
    "              \"isVoronoi\": {\"value\": true}\n",
    "            }\n",
    "          },\n",
    "          \"transform\": [\n",
    "            {\n",
    "              \"type\": \"voronoi\",\n",
    "              \"x\": \"datum.x\",\n",
    "              \"y\": \"datum.y\",\n",
    "              \"extent\": {\"signal\": \"[[0, scale('y', max)],[width, height]]\"}\n",
    "            }\n",
    "          ]\n",
    "        },\n",
    "        {\n",
    "          \"from\": {\"data\": \"highlightedPoint\"},\n",
    "          \"type\": \"symbol\",\n",
    "          \"interactive\": false,\n",
    "          \"encode\": {\n",
    "            \"update\": {\n",
    "              \"x\": {\"scale\": \"x\", \"field\": \"date\"},\n",
    "              \"y\": {\"scale\": \"y\", \"field\": \"y1\"},\n",
    "              \"stroke\": {\"scale\": {\"signal\": \"(datum.gid_0=== 'GLB' ? 'colors' : 'color')\"}, \"field\": \"country\"},\n",
    "              \"strokeWidth\": {\"value\": 1},\n",
    "              \"fill\": {\"scale\": {\"signal\": \"(datum.gid_0=== 'GLB' ? 'colors' : 'color')\"}, \"field\": \"country\"},\n",
    "              \"size\": {\"value\": 150},\n",
    "              \"fillOpacity\": {\"value\": 0.7}\n",
    "            }\n",
    "          }\n",
    "        }\n",
    "      ]\n",
    "    },\n",
    "        {\n",
    "          \"name\": \"line\",\n",
    "          \"from\": {\"data\": \"mpa\"},\n",
    "          \"type\": \"line\",\n",
    "          \"zindex\": 1,\n",
    "          \"encode\": {\n",
    "            \"enter\": {\n",
    "              \"x\": {\"scale\": \"x\", \"field\": \"date\"},\n",
    "              \"y\": {\"scale\": \"y\", \"value\": 0.3},\n",
    "              \"strokeOpacity\": [{\"test\": \"gid === 'GLB'\", \"value\": 1 },{\"value\": 0}],\n",
    "              \"stroke\": [{\"test\": \"gid === 'GLB'\", \"value\": \"gold\" },{\"value\": \"transparent\"}],\n",
    "              \"strokeWidth\":{\"value\": 3},\n",
    "              \"strokeDash\": {\"value\": [8, 4]}\n",
    "            },\n",
    "            \"update\":{\n",
    "              \"strokeOpacity\":{\"value\": 1}\n",
    "            },\n",
    "          \"hover\":{\n",
    "            \"strokeOpacity\":{\"value\": 0.5}\n",
    "          }\n",
    "          }\n",
    "        }\n",
    "  ],\n",
    "    \"interaction_config\": [\n",
    "    {\n",
    "      \"name\": \"tooltip\",\n",
    "      \"config\": {\n",
    "        \"fields\": [\n",
    "          {\n",
    "            \"column\": \"datum.country\",\n",
    "            \"property\": \"Area\",\n",
    "            \"type\": \"text\",\n",
    "            \"format\": \"\"\n",
    "          },\n",
    "          {\n",
    "            \"column\": \"datum.date\",\n",
    "            \"property\": \"Year\",\n",
    "            \"type\": \"text\",\n",
    "            \"format\": \"\"\n",
    "          },\n",
    "          {\n",
    "            \"column\": \"datum.value\",\n",
    "            \"property\": \"Proportion Protected\",\n",
    "            \"type\": \"number\",\n",
    "            \"format\": \".1%\"\n",
    "          },\n",
    "          {\n",
    "            \"column\": \"goal\",\n",
    "            \"property\": \"Post-2020 global biodiversity framework target\",\n",
    "            \"type\": \"text\",\n",
    "            \"format\": \"\"\n",
    "          }\n",
    "\n",
    "        ]\n",
    "      }\n",
    "    }\n",
    "  ]\n",
    "}\"\"\")"
   ]
  },
  {
   "cell_type": "code",
   "execution_count": 7,
   "metadata": {},
   "outputs": [
    {
     "data": {
      "application/vnd.vega.v5+json": {
       "$schema": "https://vega.github.io/schema/vega/v5.json",
       "axes": [
        {
         "labelBaseline": "middle",
         "labelFontSize": 10,
         "labelOverlap": true,
         "orient": "bottom",
         "scale": "x"
        },
        {
         "format": "%",
         "grid": true,
         "gridOpacity": 0.1,
         "labelAlign": "right",
         "labelBaseline": "middle",
         "labelFontSize": 10,
         "labelPadding": 3,
         "orient": "left",
         "scale": "y"
        }
       ],
       "data": [
        {
         "format": {
          "property": "rows",
          "type": "json"
         },
         "name": "table",
         "url": "https://wri-rw.carto.com/api/v2/sql?q= SELECT gadm.gid_0, country, year AS date, value FROM (SELECT iso, country, year, value FROM ocn_023_rw0_marine_protection_edit UNION SELECT 'GLB' AS iso, 'Global' as country, year, value FROM ocn_023_rw0_marine_protection_edit WHERE iso='WLD' UNION SELECT 'GLB' AS iso, country, year, value FROM ocn_023_rw0_marine_protection_edit WHERE iso='ABNJ') AS data LEFT OUTER JOIN gadm36_0 gadm ON data.iso = gadm.gid_0 WHERE gadm.geostore_prod= 'fe855e0073d3a7c45ccd5f653841bb8d' ORDER BY date ASC, name_0 ASC"
        },
        {
         "name": "maximum",
         "source": "table",
         "transform": [
          {
           "sort": {
            "field": "value",
            "order": "descending"
           },
           "type": "collect"
          }
         ]
        },
        {
         "name": "mpa",
         "source": "table",
         "transform": [
          {
           "as": "goal",
           "expr": "'30%'",
           "type": "formula"
          },
          {
           "as": "value",
           "expr": "datum.value/100",
           "type": "formula"
          },
          {
           "field": "value",
           "groupby": [
            "date"
           ],
           "sort": {
            "field": "country"
           },
           "type": "stack"
          },
          {
           "as": "total",
           "expr": "datum.y0 + datum.y1",
           "type": "formula"
          },
          {
           "sort": {
            "field": [
             "date",
             "country"
            ],
            "order": [
             "ascending",
             "ascending"
            ]
           },
           "type": "collect"
          }
         ]
        },
        {
         "name": "highlightedPoint",
         "source": "mpa",
         "transform": [
          {
           "expr": "(point_hover && point_hover.datum.date === datum.date) ",
           "type": "filter"
          }
         ]
        }
       ],
       "height": 200,
       "interaction_config": [
        {
         "config": {
          "fields": [
           {
            "column": "datum.country",
            "format": "",
            "property": "Area",
            "type": "text"
           },
           {
            "column": "datum.date",
            "format": "",
            "property": "Year",
            "type": "text"
           },
           {
            "column": "datum.value",
            "format": ".1%",
            "property": "Proportion Protected",
            "type": "number"
           },
           {
            "column": "goal",
            "format": "",
            "property": "Post-2020 global biodiversity framework target",
            "type": "text"
           }
          ]
         },
         "name": "tooltip"
        }
       ],
       "marks": [
        {
         "from": {
          "facet": {
           "data": "mpa",
           "groupby": "country",
           "name": "series"
          }
         },
         "marks": [
          {
           "encode": {
            "enter": {
             "stroke": {
              "value": "#84c0d0"
             },
             "strokeWidth": {
              "value": 2
             },
             "x": {
              "field": "date",
              "scale": "x"
             },
             "y": {
              "field": "y0",
              "scale": "y"
             }
            },
            "hover": {
             "strokeOpacity": {
              "value": 0.5
             }
            },
            "update": {
             "interpolate": {
              "value": "monotone"
             },
             "strokeOpacity": {
              "value": 1
             }
            }
           },
           "from": {
            "data": "series"
           },
           "type": "line"
          },
          {
           "encode": {
            "enter": {
             "stroke": {
              "value": "#005c7e"
             },
             "strokeWidth": {
              "value": 2
             },
             "x": {
              "field": "date",
              "scale": "x"
             },
             "y": {
              "field": "y1",
              "scale": "y"
             }
            },
            "update": {
             "interpolate": {
              "value": "monotone"
             },
             "strokeOpacity": {
              "value": 1
             }
            }
           },
           "from": {
            "data": "series"
           },
           "type": "line"
          },
          {
           "encode": {
            "enter": {
             "fill": {
              "field": "country",
              "scale": {
               "signal": "(datum.gid_0=== 'GLB' ? 'colors' : 'color')"
              }
             },
             "x": {
              "field": "date",
              "scale": "x"
             },
             "y": {
              "field": "y0",
              "scale": "y"
             },
             "y2": {
              "field": "y1",
              "scale": "y"
             }
            },
            "hover": {
             "fillOpacity": {
              "value": 0.3
             }
            },
            "update": {
             "fillOpacity": {
              "value": 0.8
             },
             "interpolate": {
              "value": "monotone"
             }
            }
           },
           "from": {
            "data": "series"
           },
           "type": "area"
          },
          {
           "encode": {
            "update": {
             "fill": {
              "value": "transparent"
             },
             "opacity": {
              "value": 1
             },
             "shape": {
              "value": "circle"
             },
             "size": {
              "value": 6
             },
             "stroke": {
              "value": "transparent"
             },
             "strokeWidth": {
              "value": 2
             },
             "x": {
              "field": "date",
              "scale": "x"
             },
             "y": {
              "field": "y1",
              "scale": "y"
             }
            }
           },
           "from": {
            "data": "mpa"
           },
           "name": "points",
           "type": "symbol"
          },
          {
           "encode": {
            "update": {
             "fill": {
              "value": "transparent"
             },
             "isVoronoi": {
              "value": true
             },
             "stroke": {
              "value": "transparent"
             },
             "strokeOpacity": {
              "value": 0.2
             },
             "strokeWidth": {
              "value": 0.35
             }
            }
           },
           "from": {
            "data": "points"
           },
           "name": "points_voronoi",
           "transform": [
            {
             "extent": {
              "signal": "[[0, scale('y', max)],[width, height]]"
             },
             "type": "voronoi",
             "x": "datum.x",
             "y": "datum.y"
            }
           ],
           "type": "path"
          },
          {
           "encode": {
            "update": {
             "fill": {
              "field": "country",
              "scale": {
               "signal": "(datum.gid_0=== 'GLB' ? 'colors' : 'color')"
              }
             },
             "fillOpacity": {
              "value": 0.7
             },
             "size": {
              "value": 150
             },
             "stroke": {
              "field": "country",
              "scale": {
               "signal": "(datum.gid_0=== 'GLB' ? 'colors' : 'color')"
              }
             },
             "strokeWidth": {
              "value": 1
             },
             "x": {
              "field": "date",
              "scale": "x"
             },
             "y": {
              "field": "y1",
              "scale": "y"
             }
            }
           },
           "from": {
            "data": "highlightedPoint"
           },
           "interactive": false,
           "type": "symbol"
          }
         ],
         "type": "group"
        },
        {
         "encode": {
          "enter": {
           "stroke": [
            {
             "test": "gid === 'GLB'",
             "value": "gold"
            },
            {
             "value": "transparent"
            }
           ],
           "strokeDash": {
            "value": [
             8,
             4
            ]
           },
           "strokeOpacity": [
            {
             "test": "gid === 'GLB'",
             "value": 1
            },
            {
             "value": 0
            }
           ],
           "strokeWidth": {
            "value": 3
           },
           "x": {
            "field": "date",
            "scale": "x"
           },
           "y": {
            "scale": "y",
            "value": 0.3
           }
          },
          "hover": {
           "strokeOpacity": {
            "value": 0.5
           }
          },
          "update": {
           "strokeOpacity": {
            "value": 1
           }
          }
         },
         "from": {
          "data": "mpa"
         },
         "name": "line",
         "type": "line",
         "zindex": 1
        }
       ],
       "padding": 5,
       "scales": [
        {
         "domain": {
          "data": "mpa",
          "field": "date"
         },
         "name": "x",
         "range": "width",
         "type": "point"
        },
        {
         "domain": {
          "data": "mpa",
          "field": "value"
         },
         "domainMax": {
          "signal": "gid === 'GLB' ? 0.30 : max < 0.80 ? max + 0.10 : 1"
         },
         "name": "y",
         "nice": true,
         "range": "height",
         "type": "linear",
         "zero": true
        },
        {
         "domain": {
          "data": "mpa",
          "field": "country"
         },
         "name": "colors",
         "range": [
          "#84c0d0",
          "#005c7e"
         ],
         "type": "ordinal"
        },
        {
         "domain": {
          "data": "mpa",
          "field": "country"
         },
         "name": "color",
         "range": [
          "#005c7e"
         ],
         "type": "ordinal"
        }
       ],
       "signals": [
        {
         "name": "point_hover",
         "on": [
          {
           "events": "@points_voronoi:mouseover",
           "update": "datum"
          },
          {
           "events": "@points_voronoi:mouseout",
           "update": "null"
          }
         ],
         "value": null
        },
        {
         "name": "gid",
         "update": "data('mpa')[0]['gid_0']"
        },
        {
         "name": "max",
         "update": "data('maximum')[0]['value']/100"
        }
       ],
       "width": 500
      },
      "image/png": "[encoded data removed]"
     },
     "metadata": {},
     "output_type": "display_data"
    }
   ],
   "source": [
    "vega_view=dict(spec)\n",
    "vega_view['data'][0]['url']= vega_view['data'][0]['url'].replace('{{geostore_env}}','geostore_prod')\n",
    "vega_view['data'][0]['url'] = vega_view['data'][0]['url'].replace('{{geostore_id}}','fe855e0073d3a7c45ccd5f653841bb8d')\n",
    "Vega(vega_view)"
   ]
  },
  {
   "cell_type": "markdown",
   "metadata": {},
   "source": [
    "[Open the Chart in the Vega Editor](https://vega.github.io/editor/#/url/vega/N4IgJAzgxgFgpgWwIYgFwhgF0wBwqgegIDc4BzJAOjIEtMYBXAI0poHsDp5kTykSArJQBWENgDsQAGhAB3GgBN6aAQAZVM+DTJY0AJnUycSBQpriyKmQqSYUqANqhxSBHDQg7TADbuZDACdvDyxcfCJZAJoAWgDZSigkAMw2BLYEAiQcGhI9TgBHbwB+fIBeAAIAZQBRABlqgGEAFXKKBQRqRQB9DXKoNgZxTACATylykbgk8oBBSvKbTDhx4iRvBjhygDEAJQB5AFlygAoa+ubymjFx-sHhsYmpgJW1je39o7YocR69AGYunFVF1kFFxHAujgAmwllBMOwfnAzJhygBVAByAEk9uiqnVGi0AOQAcVqACFCbN5lc2OMSd42Ew1pSkBA+gMhqNxpMki91ptdodyl8fqp-oDZMDQeYIVCYXA4Qiuki6OUAOoACWqO2qlzEpUJatqABFKRjsbizgTyiTyZS5nraey7lzHrzyqt+e8hSLfgCgSCkjLIdDYfCJMrkeqtTrHQaZmT0QApQkASipC1sSHK9S2LT2qKa2vKSb2mNxbQQfwAbD1WiYEOUcZm7KwxOUKpXOgo65rtbqu7Qe6oOzbSRSmztjcWyQBNFubOYNcYuNx1pfSEAAMzYAWQmDQoEwIxw7nQogkm7lp+SIw80NkEBAAF9n1JnK4zyBkAAPGgIBgEE3MRAigL8vF8TdhiQcQIB3Pc0CcTwTy-fpvF8OFgN3A9UFALcaDgbwFA8T0Nk3XcFDgAIPEo6A4HEMwLBfZ8AF03w-NwPAQYwsNA8CkB8PxPACGC4N3IDHCPFCPHggDvBQGQ4B-KEaNsQDKFIuACAARnUTdWRI153HY5DTw8CA7CgABrTcyGhBgcCYO9HBARZ3BYmQxGSQ9twIoiPFuTk7zfXzCOI9BNJfd9TK-WSGHkzclJU9BFnUkYRwAahbNLtP0p90BSOxghM48zPQNCMIPTzsJ8-CwsQ1zbCEwL7hADyQAoqiGtZMCGPMSwZB6+jGMsNjWJM1cvxgbQYG8GalgUAAFNhzCqkAQICMCuJ4mRoNg2TEKksrfO8JZqMU5TqPQY4cBWoYuhgNhSACcoADJXvKW7Voep6qMoVKOjcjtSgqAH-qa9MXzY9qIG0FxvHypDJo8L77se57N0i1BxHi7wZEvSSQDgUghnykAAAFUcwCAumIXcJBW1AEAGCA4F+86QActzVMwQCotAYn6OpjxKbu6nafp8RGeZhhWYGNauaajwcfQqGJs-Dwh03RWlh5pBjkJbikDTBxVBYhxCSHHpCRY-mQGR9Bf21nBuZSrMDd-f9AJNs2Lc0m2oc8xJfERjivx-KDpPQKnNxEiwv3kJQYE3BR0iQcwfMWexvx20L-Ld3XX2ih2QDvXao5AObwSSWOYLIKa4HmzdxBoLbUGGDYZAALyotg0A75ZXLTjPcMauxtoUvPwpASKQtT5BzAOJAI9H2GyHhzXFGBipbQnIpylUSg-hHVByl-coAB5D4ADhHffz6yw+DHKU-cqLsOArYBkAifcvjoo8waxa7xwagAYmvgAFigKoBQqhNygPUAIKAAB2dy1hh6SFHlnCem46r5xAC1UYzFi4a3Kl-Xckd-4BEYkAmQcd65gMQSgtBQ8F6YNANgx2uc8HT0IcFVig0fxwFDh1KIQsPBMBhCkICQc1jh03PJJghEySskIjKLiigFCQRkIowiexnryRwP3AIndK4CUIlsCQmBKg0B7mgXSOjzHeEsUMDwMwohAJMruAirj0C+C3GtaAciPBlzMUo7wKjWZVy-AgTR2iwmERmHNde94m6OPCYtEwI00B-BkHZRQxjTH5IUHsYwUA6DOSfukixVibF2NQA4hJzirFuI8cEGQslbAeAAKSB2-EkKyIjSpfjsgMIxHToQSTwkgMCOEP7oFZmI3+Y9s5G1svZRyzkCEclakXfpARBmHRih4aJuDJmZyzOZKiBEnwhXov0SiPkhZdVHivUAQTILoAjh0vy09uYhWcu84OX5Qk8JCXAkKFloRWTPKALGIBwFQJgRCzyww2AwrVIoZQo8sZ6D2TrWFIBVpUVuvJXWOKjJcQZikcEUV1pophaUmZFSfJY20ns9GLz3kMrgEy8px5WWUtQIfAQr537HL8eoiZ6QLnjwWdc4RdL7lsEeaPZ5V1QBvPWsCjw3yp482MjIQF2rgnoFBb8kJb9UXQsJfChBqgkGoLpVC9FcBMVJ0FfyfQ+KXZK1HsSgIpK-VwqFd+alEhDX0ptXyllFKvUNI5ezHyLrGVlNjSG+NIqxUlQrkkKYZyZVYMufKpZSrxAPMJeqnyWqPnyJ+fVAukbjW1pCbgi1ZqUWlz0MmnVZq20NtLlak6wRV69veXDIB10wZW1UCDHe45KT70JGhXcEBKSn2XeQgIaY6VgrIS6fh-hfXktAAGoNJ6Z6huZlLGlkb8LoRjQKuNZFhWUGQYmjGo973eEfcarGh8-jZpIZxaOYtlnDPMiMBAkj2nbnOUWuVOcUB3PLSqwlBLq09tNSAPVe6x5Nqw580u-b8EjCHbDepGaX3VkhTALItrQ3lM2pBSFPL3XYqo2ePF+M01Ps4-Y1jNrPUvuEqJYwARxEhW-cJ8CccIDick2K4DX4qY0zptCKWNBKEqdsMnaVUyVkozA2WitPkMNfpoKrZ9smxN5tcYJ117Hk7WbQAB0V1rXUyY8HteTdmDwOdTcyvjl7M2UG40SiAAA1SWK0vPtxMXAEKKQv7wiMavCdI6QDAEJO4qYhJUBgzBnwuks4nj5cK2pQGTUpCEm6Z9UMCoFr5c6ZgY4FXeYdE0jVsL3S0zPmYkluTB1CYQYijFrTMgV5j3UnqrZYNQlKSWL48d69J0gAcKbcYZspAOETvQcYWgdCYGiIdrAAAqQ+qhtIsVtq+Ni0UtzwY4cWjAM1klYCRMtVadLRvrSgzBzcAaZnwlIGgLcaxWaKVQ6q0A5nNWEbrfqxtdLm29uI-W0j5GeUI+TRljwbXKvdh6HOscdpyhLpXT-ddNpKc7qk+27ZB7nVsaxc5-jCaflWaBaalbG8p2E5nST3ei6adbrXS-UX386cY94TsohkLbEMfjdpNQ9OH28b-UKw+76xX3fmZXKVcHC3PcQ2spLFdTnd3MJRFe2koembVUMLlOGcdfJI38pWALXfo5Cy+gDAXeUa9x6tzLQ5t6k73uUbSEvO0pqVyJsgX9iIB6c3FwDHmYXGlZGz33Z4HDXykBAsaR7XbcujUHlzHPPBsBSzQNLvO1vZeWhZaIBhn5kAZEybw5QmDsDMM9WGx5yiPc-LIXcVlyh2ACPXTA1PCTH16-1j9zu4+-ri1m3Xz4gA)"
   ]
  },
  {
   "cell_type": "markdown",
   "metadata": {},
   "source": [
    "# Indicator"
   ]
  },
  {
   "cell_type": "markdown",
   "metadata": {},
   "source": [
    "% of EEZ that is currently protected"
   ]
  },
  {
   "cell_type": "markdown",
   "metadata": {},
   "source": [
    "## Country"
   ]
  },
  {
   "cell_type": "markdown",
   "metadata": {},
   "source": [
    "```sql\n",
    "SELECT value FROM ocn_023_rw0_marine_protection_edit \n",
    "INNER JOIN gadm36_0 gadm ON iso = gadm.gid_0 \n",
    "WHERE year = 2018 \n",
    "AND gadm.{{geostore_env}} ILIKE '{{geostore_id}}'\n",
    "```"
   ]
  },
  {
   "cell_type": "markdown",
   "metadata": {},
   "source": [
    "- ```description```: Proportion of the marine environment that is protected\n",
    "- ```query```: [https://wri-rw.carto.com/api/v2/sql?q=SELECT ROUND(value) FROM ocn_023_rw0_marine_protection_edit INNER JOIN gadm36_0 gadm ON iso = gadm.gid_0 WHERE year = 2021 AND gadm.{{geostore_env}} ILIKE '{{geostore_id}}'](https://wri-rw.carto.com/api/v2/sql?q=SELECT%20ROUND(value)%20FROM%20ocn_023_rw0_marine_protection_edit%20INNER%20JOIN%20gadm36_0%20gadm%20ON%20iso%20=%20gadm.gid_0%20WHERE%20year%20=%202021%20AND%20gadm.gid_0%20ILIKE%20%27MEX%27)\n",
    "- ```format```: ```.2f```\n",
    "- ```unit```: ```%```\n"
   ]
  },
  {
   "cell_type": "markdown",
   "metadata": {},
   "source": [
    "## World"
   ]
  },
  {
   "cell_type": "code",
   "execution_count": null,
   "metadata": {},
   "outputs": [],
   "source": [
    "```sql\n",
    "SELECT SUM(value) FROM ocn_023_rw0_marine_protection_edit  \n",
    "WHERE year = 2021\n",
    "AND iso IN ('ABNJ','WLD')\n",
    "```"
   ]
  },
  {
   "cell_type": "markdown",
   "metadata": {},
   "source": [
    "- ```description```: Proportion of the marine environment that is protected\n",
    "- ```query```: [https://wri-rw.carto.com/api/v2/sql?q=SELECT ROUND(SUM(value)) FROM ocn_023_rw0_marine_protection_edit WHERE year = 20 AND iso IN ('ABNJ','WLD')](https://wri-rw.carto.com/api/v2/sql?q=SELECT%20ROUND(SUM(value))%20FROM%20ocn_023_rw0_marine_protection_edit%20WHERE%20year%20=%202021%20AND%20iso%20IN%20(%27ABNJ%27,%27WLD%27))\n",
    "- ```unit```: ```%```\n"
   ]
  },
  {
   "cell_type": "code",
   "execution_count": null,
   "metadata": {},
   "outputs": [],
   "source": []
  },
  {
   "cell_type": "markdown",
   "metadata": {},
   "source": [
    "## RW Backoffice"
   ]
  },
  {
   "cell_type": "markdown",
   "metadata": {},
   "source": [
    "- [back office](https://resourcewatch.org/admin/data/widgets/92e5286e-b40a-4a6f-a3e5-84ac9b49d459/edit?dataset=40c8d7b8-36b6-4f07-8941-cc61dc62fc12)\n",
    "- parent dataset [ocn.023](https://resourcewatch.org/data/explore/40c8d7b8-36b6-4f07-8941-cc61dc62fc12) (unpublished)\n",
    "- dataset id ```40c8d7b8-36b6-4f07-8941-cc61dc62fc12```\n",
    "- widget id: ```92e5286e-b40a-4a6f-a3e5-84ac9b49d459```\n",
    "- [api widget](https://api.resourcewatch.org/v1/widget/92e5286e-b40a-4a6f-a3e5-84ac9b49d459?env=production)"
   ]
  },
  {
   "cell_type": "code",
   "execution_count": null,
   "metadata": {},
   "outputs": [],
   "source": []
  },
  {
   "cell_type": "code",
   "execution_count": null,
   "metadata": {},
   "outputs": [],
   "source": []
  }
 ],
 "metadata": {
  "kernelspec": {
   "display_name": "Python 3",
   "language": "python",
   "name": "python3"
  },
  "language_info": {
   "codemirror_mode": {
    "name": "ipython",
    "version": 3
   },
   "file_extension": ".py",
   "mimetype": "text/x-python",
   "name": "python",
   "nbconvert_exporter": "python",
   "pygments_lexer": "ipython3",
   "version": "3.7.7"
  }
 },
 "nbformat": 4,
 "nbformat_minor": 4
}
