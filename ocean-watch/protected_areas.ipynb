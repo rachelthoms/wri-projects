{
 "cells": [
  {
   "cell_type": "markdown",
   "metadata": {},
   "source": [
    "# Protected Areas"
   ]
  },
  {
   "cell_type": "markdown",
   "metadata": {},
   "source": [
    "Visualizing % of Exclusive Economic Zones (EEZs) protected over time "
   ]
  },
  {
   "cell_type": "markdown",
   "metadata": {},
   "source": [
    "*Author: Rachel Thoms\n",
    "<br>Created: 08 24 2021\n",
    "<br>Environment: jupyterlab*"
   ]
  },
  {
   "cell_type": "markdown",
   "metadata": {},
   "source": [
    "## Style"
   ]
  },
  {
   "cell_type": "markdown",
   "metadata": {},
   "source": [
    "- Vega chart\n",
    "- Chart type\n",
    "- Value "
   ]
  },
  {
   "cell_type": "markdown",
   "metadata": {},
   "source": [
    "## Data"
   ]
  },
  {
   "cell_type": "markdown",
   "metadata": {},
   "source": [
    "- Data: [ow_widget_territory](https://resourcewatch.carto.com/u/wri-rw/dataset/ow_widget_territory) (full dataset - [ocn_023_rw0_marine_protection](https://resourcewatch.carto.com/u/wri-rw/dataset/ocn_023_rw0_marine_protection_edit))\n",
    "- Resource Watch: [explore page](https://resourcewatch.org/data/explore/)\n",
    "- Source: [OECD](https://data.oecd.org/biodiver/protected-areas.htm)"
   ]
  },
  {
   "cell_type": "markdown",
   "metadata": {},
   "source": [
    "## Preparation"
   ]
  },
  {
   "cell_type": "markdown",
   "metadata": {},
   "source": [
    "### Aliasing and Inserting Data"
   ]
  },
  {
   "cell_type": "markdown",
   "metadata": {},
   "source": [
    "#### Queries"
   ]
  },
  {
   "cell_type": "markdown",
   "metadata": {},
   "source": [
    "not inserted into master table"
   ]
  },
  {
   "cell_type": "markdown",
   "metadata": {},
   "source": [
    "### Vega"
   ]
  },
  {
   "cell_type": "code",
   "execution_count": 1,
   "metadata": {},
   "outputs": [],
   "source": [
    "import json\n",
    "from vega import Vega\n",
    "from IPython.display import display"
   ]
  },
  {
   "cell_type": "code",
   "execution_count": 2,
   "metadata": {},
   "outputs": [],
   "source": [
    "def Vega(spec):\n",
    "    bundle = {}\n",
    "    bundle['application/vnd.vega.v5+json'] = spec\n",
    "    display(bundle, raw=True)"
   ]
  },
  {
   "cell_type": "code",
   "execution_count": 3,
   "metadata": {},
   "outputs": [],
   "source": [
    "widget_width = 500\n",
    "widget_height = 200"
   ]
  },
  {
   "cell_type": "markdown",
   "metadata": {},
   "source": [
    "## Visualization"
   ]
  },
  {
   "cell_type": "markdown",
   "metadata": {},
   "source": [
    "### Queries"
   ]
  },
  {
   "cell_type": "markdown",
   "metadata": {},
   "source": [
    "#### Testing version"
   ]
  },
  {
   "cell_type": "markdown",
   "metadata": {},
   "source": [
    "```sql\n",
    "SELECT gadm.gid_0, gadm.name_0, year AS date, value FROM (SELECT iso, country, year, value FROM ocn_023_rw0_marine_protection_edit \n",
    "UNION SELECT 'GLB' AS iso, 'Global' as country, year, value FROM ocn_023_rw0_marine_protection_edit WHERE iso='WLD' \n",
    "UNION SELECT 'GLB' AS iso, country, year, value FROM ocn_023_rw0_marine_protection_edit WHERE iso='ABNJ') AS data\n",
    "LEFT OUTER JOIN gadm36_0 gadm ON data.iso = gadm.gid_0  \n",
    "WHERE gadm.geostore_prod = 'f4599aaeedacb9e6ddca177a93795e4c' ORDER BY date ASC, name_0 ASC\n",
    "```"
   ]
  },
  {
   "cell_type": "markdown",
   "metadata": {},
   "source": [
    "#### Parameterized version"
   ]
  },
  {
   "cell_type": "markdown",
   "metadata": {},
   "source": [
    "```sql\n",
    "SELECT gadm.gid_0, gadm.name_0, year AS date, value FROM \n",
    "(SELECT iso, country, year, value FROM ocn_023_rw0_marine_protection_edit UNION SELECT 'GLB' AS iso, 'Global' as country, year, value FROM ocn_023_rw0_marine_protection_edit \n",
    "WHERE iso='WLD' \n",
    "UNION SELECT 'GLB' AS iso, country, year, value FROM ocn_023_rw0_marine_protection_edit WHERE iso='ABNJ') AS data \n",
    "LEFT OUTER JOIN gadm36_0 gadm ON data.iso = gadm.gid_0 WHERE gadm.{{geostore_env}} = '{{geostore_id}}' \n",
    "ORDER BY date ASC, name_0 ASC\n",
    "```"
   ]
  },
  {
   "cell_type": "code",
   "execution_count": 4,
   "metadata": {},
   "outputs": [
    {
     "data": {
      "application/vnd.vega.v5+json": {
       "$schema": "https://vega.github.io/schema/vega/v5.json",
       "axes": [
        {
         "labelBaseline": "middle",
         "labelFont": "Arial",
         "labelFontSize": 10,
         "labelOverlap": true,
         "orient": "bottom",
         "scale": "x"
        },
        {
         "grid": true,
         "gridOpacity": 0.2,
         "labelAlign": "right",
         "labelBaseline": "middle",
         "labelFont": "Arial",
         "labelFontSize": 10,
         "labelPadding": 3,
         "orient": "left",
         "scale": "y",
         "title": "% Protected"
        }
       ],
       "data": [
        {
         "format": {
          "property": "rows",
          "type": "json"
         },
         "name": "table",
         "url": "https://wri-rw.carto.com/api/v2/sql?q= SELECT * from (SELECT alias.iso AS gid_0, alias.name_0 AS name_0, year as date, value FROM ocn_023_rw0_marine_protection_edit AS data INNER JOIN ow_aliasing_countries AS alias ON alias.iso = data.iso UNION SELECT 'X01' AS gid_0, 'World EEZs' as name_0, year as date, value FROM ocn_023_rw0_marine_protection_edit WHERE iso='WLD' UNION SELECT 'X01' AS gid_0, country as name_0, year as date, value FROM ocn_023_rw0_marine_protection_edit WHERE iso='ABNJ') query WHERE gid_0 = 'X01' ORDER BY date ASC, name_0 ASC"
        },
        {
         "name": "maximum",
         "source": "table",
         "transform": [
          {
           "sort": {
            "field": "value",
            "order": "descending"
           },
           "type": "collect"
          }
         ]
        },
        {
         "name": "mpa",
         "source": "table",
         "transform": [
          {
           "field": "value",
           "groupby": [
            "date"
           ],
           "sort": {
            "field": "name_0"
           },
           "type": "stack"
          },
          {
           "as": "total",
           "expr": "datum.y0 + datum.y1",
           "type": "formula"
          },
          {
           "sort": {
            "field": [
             "date",
             "name_0"
            ],
            "order": [
             "ascending",
             "ascending"
            ]
           },
           "type": "collect"
          }
         ]
        },
        {
         "name": "highlightedPoint",
         "source": "mpa",
         "transform": [
          {
           "expr": "(point_hover && point_hover.datum.date === datum.date) ",
           "type": "filter"
          }
         ]
        }
       ],
       "description": "A basic line chart example.",
       "height": 200,
       "marks": [
        {
         "from": {
          "facet": {
           "data": "mpa",
           "groupby": "name_0",
           "name": "series"
          }
         },
         "marks": [
          {
           "encode": {
            "enter": {
             "stroke": {
              "value": "#84c0d0"
             },
             "strokeWidth": {
              "value": 2
             },
             "x": {
              "field": "date",
              "scale": "x"
             },
             "y": {
              "field": "y0",
              "scale": "y"
             }
            },
            "hover": {
             "strokeOpacity": {
              "value": 0.5
             }
            },
            "update": {
             "interpolate": {
              "value": "monotone"
             },
             "strokeOpacity": {
              "value": 1
             }
            }
           },
           "from": {
            "data": "series"
           },
           "type": "line"
          },
          {
           "encode": {
            "enter": {
             "stroke": {
              "value": "#005c7e"
             },
             "strokeWidth": {
              "value": 2
             },
             "x": {
              "field": "date",
              "scale": "x"
             },
             "y": {
              "field": "y1",
              "scale": "y"
             }
            },
            "hover": {
             "strokeOpacity": {
              "value": 0.5
             }
            },
            "update": {
             "interpolate": {
              "value": "monotone"
             },
             "strokeOpacity": {
              "value": 1
             }
            }
           },
           "from": {
            "data": "series"
           },
           "type": "line"
          },
          {
           "encode": {
            "enter": {
             "fill": {
              "field": "name_0",
              "scale": {
               "signal": "(datum.gid_0=== 'X01' ? 'colors' : 'color')"
              }
             },
             "x": {
              "field": "date",
              "scale": "x"
             },
             "y": {
              "field": "y0",
              "scale": "y"
             },
             "y2": {
              "field": "y1",
              "scale": "y"
             }
            },
            "hover": {
             "fillOpacity": {
              "value": 0.5
             }
            },
            "update": {
             "fillOpacity": {
              "value": 0.7
             },
             "interpolate": {
              "value": "monotone"
             }
            }
           },
           "from": {
            "data": "series"
           },
           "type": "area"
          },
          {
           "encode": {
            "update": {
             "fill": {
              "value": "transparent"
             },
             "opacity": {
              "value": 1
             },
             "shape": {
              "value": "circle"
             },
             "size": {
              "value": 6
             },
             "stroke": {
              "value": "transparent"
             },
             "strokeWidth": {
              "value": 2
             },
             "x": {
              "field": "date",
              "scale": "x"
             },
             "y": {
              "field": "y1",
              "scale": "y"
             }
            }
           },
           "from": {
            "data": "mpa"
           },
           "name": "points",
           "type": "symbol"
          },
          {
           "encode": {
            "update": {
             "fill": {
              "value": "transparent"
             },
             "isVoronoi": {
              "value": true
             },
             "stroke": {
              "value": "transparent"
             },
             "strokeOpacity": {
              "value": 0.2
             },
             "strokeWidth": {
              "value": 0.35
             },
             "tooltip": {
              "signal": "{'Area':datum.datum.name_0, 'Year':datum.datum.date,'% protected':format(datum.datum.value,'.1f') + '%'}"
             }
            }
           },
           "from": {
            "data": "points"
           },
           "name": "points_voronoi",
           "transform": [
            {
             "extent": {
              "signal": "[[0, 0],[width, height]]"
             },
             "type": "voronoi",
             "x": "datum.x",
             "y": "datum.y"
            }
           ],
           "type": "path"
          },
          {
           "encode": {
            "update": {
             "fill": {
              "value": "white"
             },
             "size": {
              "value": 150
             },
             "stroke": {
              "field": "name_0",
              "scale": {
               "signal": "(datum.gid_0=== 'X01' ? 'colors' : 'color')"
              }
             },
             "strokeOpacity": {
              "value": 0.8
             },
             "strokeWidth": {
              "value": 4
             },
             "x": {
              "field": "date",
              "scale": "x"
             },
             "y": {
              "field": "y1",
              "scale": "y"
             }
            }
           },
           "from": {
            "data": "highlightedPoint"
           },
           "interactive": false,
           "type": "symbol"
          },
          {
           "encode": {
            "enter": {
             "stroke": {
              "value": "gold"
             },
             "strokeDash": {
              "value": [
               8,
               4
              ]
             },
             "strokeOpacity": {
              "signal": "gid === 'X01' ? 1 : 0"
             },
             "tooltip": {
              "signal": "{'Post-2020 global biodiversity framework target' : '30%'}"
             },
             "x": {
              "field": "date",
              "scale": "x"
             },
             "y": {
              "scale": "y",
              "value": "max"
             }
            }
           },
           "from": {
            "data": "mpa"
           },
           "name": "line",
           "type": "line"
          }
         ],
         "type": "group"
        }
       ],
       "padding": 5,
       "scales": [
        {
         "domain": {
          "data": "mpa",
          "field": "date"
         },
         "name": "x",
         "range": "width",
         "type": "point"
        },
        {
         "domain": {
          "data": "mpa",
          "field": "value"
         },
         "domainMax": {
          "signal": "gid === 'X01' ? 30 : max <80 ? max + 20 : 100"
         },
         "name": "y",
         "nice": true,
         "range": "height",
         "type": "linear",
         "zero": true
        },
        {
         "domain": {
          "data": "mpa",
          "field": "name_0"
         },
         "name": "colors",
         "range": [
          "#84c0d0",
          "#005c7e"
         ],
         "type": "ordinal"
        },
        {
         "domain": {
          "data": "mpa",
          "field": "name_0"
         },
         "name": "color",
         "range": [
          "#005c7e"
         ],
         "type": "ordinal"
        }
       ],
       "signals": [
        {
         "name": "point_hover",
         "on": [
          {
           "events": "@points_voronoi:mouseover",
           "update": "datum"
          },
          {
           "events": "@points_voronoi:mouseout",
           "update": "null"
          }
         ],
         "value": null
        },
        {
         "name": "gid",
         "update": "data('mpa')[0]['gid_0']"
        },
        {
         "name": "max",
         "update": "data('maximum')[0]['value']"
        }
       ],
       "width": 500
      },
      "image/png": "[encoded data removed]"
     },
     "metadata": {},
     "output_type": "display_data"
    }
   ],
   "source": [
    "spec=json.loads(\"\"\"{\n",
    "  \"$schema\": \"https://vega.github.io/schema/vega/v5.json\",\n",
    "  \"description\": \"A basic line chart example.\",\n",
    "  \"width\": 500,\n",
    "  \"height\": 200,\n",
    "  \"padding\": 5,\n",
    "  \"data\": [\n",
    "    {\n",
    "      \"name\": \"table\",\n",
    "      \"url\": \"https://wri-rw.carto.com/api/v2/sql?q= SELECT * from (SELECT alias.iso AS gid_0, alias.name_0 AS name_0, year as date, value FROM ocn_023_rw0_marine_protection_edit AS data INNER JOIN ow_aliasing_countries AS alias ON alias.iso = data.iso UNION SELECT 'X01' AS gid_0, 'World EEZs' as name_0, year as date, value FROM ocn_023_rw0_marine_protection_edit WHERE iso='WLD' UNION SELECT 'X01' AS gid_0, country as name_0, year as date, value FROM ocn_023_rw0_marine_protection_edit WHERE iso='ABNJ') query WHERE gid_0 = 'X01' ORDER BY date ASC, name_0 ASC\",\n",
    "      \"format\": {\"type\": \"json\", \"property\": \"rows\"}},\n",
    "      {\"name\": \"maximum\",\n",
    "    \"source\": \"table\",\n",
    "    \"transform\": [{\"type\": \"collect\", \"sort\": {\"field\": \"value\",\"order\": \"descending\"}}\n",
    "  ]},\n",
    "      {\"name\": \"mpa\",\n",
    "      \"source\": \"table\",\n",
    "      \"transform\": [\n",
    "        {\n",
    "          \"type\": \"stack\",\n",
    "          \"groupby\": [\"date\"],\n",
    "          \"sort\": {\"field\": \"name_0\"},\n",
    "          \"field\": \"value\"\n",
    "        },\n",
    "        {\"type\": \"formula\",\n",
    "        \"expr\": \"datum.y0 + datum.y1\",\n",
    "        \"as\": \"total\"},\n",
    "        {\"type\": \"collect\", \"sort\": {\"field\": [\"date\",\"name_0\"],\"order\": [\"ascending\", \"ascending\"]}}\n",
    "      ]\n",
    "    },\n",
    "    {\n",
    "      \"name\": \"highlightedPoint\",\n",
    "      \"source\": \"mpa\",\n",
    "      \"transform\": [\n",
    "        {\n",
    "          \"type\": \"filter\",\n",
    "          \"expr\": \"(point_hover && point_hover.datum.date === datum.date) \"\n",
    "        }\n",
    "      ]\n",
    "    }],\n",
    "  \"signals\": [\n",
    "    {\n",
    "      \"name\": \"point_hover\",\n",
    "      \"value\": null,\n",
    "      \"on\": [\n",
    "        {\"events\": \"@points_voronoi:mouseover\", \"update\": \"datum\"},\n",
    "        {\"events\": \"@points_voronoi:mouseout\", \"update\": \"null\"}\n",
    "      ]\n",
    "    },\n",
    "    {\"name\": \"gid\", \"update\": \"data('mpa')[0]['gid_0']\"},\n",
    "    {\"name\": \"max\", \"update\": \"data('maximum')[0]['value']\"}\n",
    "  ],\n",
    "  \"scales\": [\n",
    "    {\n",
    "      \"name\": \"x\",\n",
    "      \"type\": \"point\",\n",
    "      \"range\": \"width\",\n",
    "      \"domain\": {\"data\": \"mpa\", \"field\": \"date\"}\n",
    "    },\n",
    "    {\n",
    "      \"name\": \"y\",\n",
    "      \"type\": \"linear\",\n",
    "      \"range\": \"height\",\n",
    "      \"nice\": true,\n",
    "      \"zero\": true,\n",
    "      \"domain\": {\"data\": \"mpa\", \"field\": \"value\"},\n",
    "      \"domainMax\": {\"signal\": \"gid === 'X01' ? 30 : max <80 ? max + 20 : 100\"}\n",
    "    },\n",
    "    {\n",
    "      \"name\": \"colors\",\n",
    "      \"type\": \"ordinal\",\n",
    "      \"range\": [\"#84c0d0\", \"#005c7e\"],\n",
    "      \"domain\": {\"data\": \"mpa\", \"field\": \"name_0\"}\n",
    "    \n",
    "    },\n",
    "    {\n",
    "      \"name\": \"color\",\n",
    "      \"type\": \"ordinal\",\n",
    "      \"range\": [\"#005c7e\"],\n",
    "      \"domain\": {\"data\": \"mpa\", \"field\": \"name_0\"}\n",
    "    }\n",
    "  ],\n",
    "  \"axes\": [\n",
    "    {\n",
    "      \"orient\": \"bottom\",\n",
    "      \"scale\": \"x\",\n",
    "      \"labelBaseline\": \"middle\",\n",
    "      \"labelOverlap\": true,\n",
    "      \"labelFontSize\": 10,\n",
    "      \"labelFont\": \"Arial\"\n",
    "    },\n",
    "    {\n",
    "      \"orient\": \"left\",\n",
    "      \"scale\": \"y\",\n",
    "      \"title\": \"% Protected\",\n",
    "      \"labelBaseline\": \"middle\",\n",
    "      \"labelAlign\": \"right\",\n",
    "      \"labelPadding\": 3,\n",
    "      \"grid\": true,\n",
    "      \"gridOpacity\": 0.2,\n",
    "      \"labelFontSize\": 10,\n",
    "      \"labelFont\": \"Arial\"\n",
    "    }\n",
    "  ],\n",
    "  \"marks\": [\n",
    "    {\n",
    "      \"type\": \"group\",\n",
    "      \"from\": {\"facet\": {\"name\": \"series\", \"data\": \"mpa\", \"groupby\": \"name_0\"}},\n",
    "      \"marks\": [\n",
    "        {\n",
    "          \"type\": \"line\",\n",
    "          \"from\": {\"data\": \"series\"},\n",
    "          \"encode\": {\n",
    "            \"enter\": {\n",
    "              \"x\": {\"scale\": \"x\", \"field\": \"date\"},\n",
    "              \"y\": {\"scale\": \"y\", \"field\": \"y0\"},\n",
    "              \"stroke\": {\"value\": \"#84c0d0\"},\n",
    "              \"strokeWidth\": {\"value\": 2}\n",
    "            },\n",
    "            \"update\": {\n",
    "              \"interpolate\": {\"value\": \"monotone\"},\n",
    "              \"strokeOpacity\": {\"value\": 1}\n",
    "            },\n",
    "            \"hover\": {\"strokeOpacity\": {\"value\": 0.5}}\n",
    "          }\n",
    "        },\n",
    "        {\n",
    "          \"type\": \"line\",\n",
    "          \"from\": {\"data\": \"series\"},\n",
    "          \"encode\": {\n",
    "            \"enter\": {\n",
    "              \"x\": {\"scale\": \"x\", \"field\": \"date\"},\n",
    "              \"y\": {\"scale\": \"y\", \"field\": \"y1\"},\n",
    "              \"stroke\": {\"value\": \"#005c7e\"},\n",
    "              \"strokeWidth\": {\"value\": 2}\n",
    "            },\n",
    "            \"update\": {\n",
    "              \"interpolate\": {\"value\": \"monotone\"},\n",
    "              \"strokeOpacity\": {\"value\": 1}\n",
    "            },\n",
    "            \"hover\": {\"strokeOpacity\": {\"value\": 0.5}}\n",
    "          }\n",
    "        },\n",
    "        {\n",
    "          \"type\": \"area\",\n",
    "          \"from\": {\"data\": \"series\"},\n",
    "          \"encode\": {\n",
    "            \"enter\": {\n",
    "              \"x\": {\"scale\": \"x\", \"field\": \"date\"},\n",
    "              \"y\": {\"scale\": \"y\", \"field\": \"y0\"},\n",
    "              \"y2\": {\"scale\": \"y\",\"field\": \"y1\"},\n",
    "              \"fill\": {\"scale\": {\"signal\": \"(datum.gid_0=== 'X01' ? 'colors' : 'color')\"}, \"field\": \"name_0\"}\n",
    "            },\n",
    "            \"update\": {\n",
    "              \"interpolate\": {\"value\": \"monotone\"},\n",
    "              \"fillOpacity\": {\"value\": 0.7}\n",
    "            },\n",
    "            \"hover\": {\"fillOpacity\": {\"value\": 0.5}}\n",
    "          }\n",
    "        },\n",
    "        {\n",
    "          \"name\": \"points\",\n",
    "          \"type\": \"symbol\",\n",
    "          \"from\": {\"data\": \"mpa\"},\n",
    "          \"encode\": {\n",
    "            \"update\": {\n",
    "              \"x\": {\"scale\": \"x\", \"field\": \"date\"},\n",
    "              \"y\": {\"scale\": \"y\", \"field\": \"y1\"},\n",
    "              \"size\": {\"value\": 6},\n",
    "              \"shape\": {\"value\": \"circle\"},\n",
    "              \"strokeWidth\": {\"value\": 2},\n",
    "              \"opacity\": {\"value\": 1},\n",
    "              \"stroke\": {\"value\": \"transparent\"},\n",
    "              \"fill\": {\"value\": \"transparent\"}\n",
    "            }\n",
    "          }\n",
    "        },\n",
    "        {\n",
    "          \"name\": \"points_voronoi\",\n",
    "          \"type\": \"path\",\n",
    "          \"from\": {\"data\": \"points\"},\n",
    "          \"encode\": {\n",
    "            \"update\": {\n",
    "              \"fill\": {\"value\": \"transparent\"},\n",
    "              \"strokeWidth\": {\"value\": 0.35},\n",
    "              \"stroke\": {\"value\": \"transparent\"},\n",
    "              \"strokeOpacity\": {\"value\": 0.2},\n",
    "              \"isVoronoi\": {\"value\": true},\n",
    "              \"tooltip\": {\n",
    "                \"signal\": \"{'Area':datum.datum.name_0, 'Year':datum.datum.date,'% protected':format(datum.datum.value,'.1f') + '%'}\"\n",
    "              }\n",
    "            }\n",
    "          },\n",
    "          \"transform\": [\n",
    "            {\n",
    "              \"type\": \"voronoi\",\n",
    "              \"x\": \"datum.x\",\n",
    "              \"y\": \"datum.y\",\n",
    "              \"extent\": {\"signal\": \"[[0, 0],[width, height]]\"}\n",
    "            }\n",
    "          ]\n",
    "        },\n",
    "        {\n",
    "          \"from\": {\"data\": \"highlightedPoint\"},\n",
    "          \"type\": \"symbol\",\n",
    "          \"interactive\": false,\n",
    "          \"encode\": {\n",
    "            \"update\": {\n",
    "              \"x\": {\"scale\": \"x\", \"field\": \"date\"},\n",
    "              \"y\": {\"scale\": \"y\", \"field\": \"y1\"},\n",
    "              \"stroke\": {\"scale\": {\"signal\": \"(datum.gid_0=== 'X01' ? 'colors' : 'color')\"}, \"field\": \"name_0\"},\n",
    "              \"strokeWidth\": {\"value\": 4},\n",
    "              \"fill\": {\"value\": \"white\"},\n",
    "              \"size\": {\"value\": 150},\n",
    "              \"strokeOpacity\": {\"value\": 0.8}\n",
    "            }\n",
    "          }\n",
    "        },\n",
    "        {\n",
    "          \"name\": \"line\",\n",
    "          \"from\": {\"data\": \"mpa\"},\n",
    "          \"type\": \"line\",\n",
    "          \"encode\": {\n",
    "            \"enter\": {\n",
    "              \"x\": {\"scale\": \"x\", \"field\": \"date\"},\n",
    "              \"y\": {\"scale\": \"y\", \"value\": \"max\"},\n",
    "              \"strokeOpacity\": {\"signal\": \"gid === 'X01' ? 1 : 0\"},\n",
    "              \"stroke\": {\"value\": \"gold\"},\n",
    "              \"strokeDash\": {\"value\": [8, 4]},\n",
    "              \"tooltip\": {\n",
    "                \"signal\": \"{'Post-2020 global biodiversity framework target' : '30%'}\"\n",
    "              }\n",
    "            }\n",
    "          }\n",
    "        }\n",
    "      ]\n",
    "    }\n",
    "  ]\n",
    "}\"\"\")\n",
    "vegaview=dict(spec)\n",
    "Vega(vegaview)"
   ]
  },
  {
   "cell_type": "markdown",
   "metadata": {},
   "source": [
    "## RW Backoffice"
   ]
  },
  {
   "cell_type": "markdown",
   "metadata": {},
   "source": [
    "- [back office](https://resourcewatch.org/admin/data/widgets/92e5286e-b40a-4a6f-a3e5-84ac9b49d459/edit?dataset=40c8d7b8-36b6-4f07-8941-cc61dc62fc12)\n",
    "- parent dataset [ocn.023](https://resourcewatch.org/data/explore/40c8d7b8-36b6-4f07-8941-cc61dc62fc12) (unpublished)\n",
    "- dataset id ```40c8d7b8-36b6-4f07-8941-cc61dc62fc12```\n",
    "- widget id: ```92e5286e-b40a-4a6f-a3e5-84ac9b49d459```"
   ]
  },
  {
   "cell_type": "code",
   "execution_count": null,
   "metadata": {},
   "outputs": [],
   "source": []
  },
  {
   "cell_type": "code",
   "execution_count": null,
   "metadata": {},
   "outputs": [],
   "source": []
  }
 ],
 "metadata": {
  "kernelspec": {
   "display_name": "Python 3",
   "language": "python",
   "name": "python3"
  },
  "language_info": {
   "codemirror_mode": {
    "name": "ipython",
    "version": 3
   },
   "file_extension": ".py",
   "mimetype": "text/x-python",
   "name": "python",
   "nbconvert_exporter": "python",
   "pygments_lexer": "ipython3",
   "version": "3.7.7"
  }
 },
 "nbformat": 4,
 "nbformat_minor": 4
}
