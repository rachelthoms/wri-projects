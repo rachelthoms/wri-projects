{
 "cells": [
  {
   "cell_type": "markdown",
   "metadata": {},
   "source": [
    "# Fisheries Employment"
   ]
  },
  {
   "cell_type": "markdown",
   "metadata": {},
   "source": [
    "Visualizing employment in the fishing sector as a proportion of total employmnet in Natural Sectors (agriculture, forestry, and hunting)"
   ]
  },
  {
   "cell_type": "markdown",
   "metadata": {},
   "source": [
    "*Author: Rachel Thoms\n",
    "<br>Created: 24 Aug 2021\n",
    "<br>Environment: jupyterlab*"
   ]
  },
  {
   "cell_type": "markdown",
   "metadata": {},
   "source": [
    "## Style"
   ]
  },
  {
   "cell_type": "markdown",
   "metadata": {},
   "source": [
    "- Vega chart\n",
    "- Chart type\n",
    "- Value "
   ]
  },
  {
   "cell_type": "markdown",
   "metadata": {},
   "source": [
    "## Data"
   ]
  },
  {
   "cell_type": "markdown",
   "metadata": {},
   "source": [
    "- Data: [ow_widget_territory](https://resourcewatch.carto.com/u/wri-rw/dataset/ow_widget_territory) (full dataset - []())\n",
    "- Resource Watch: [explore page](https://resourcewatch.org/data/explore/)\n",
    "- Source: []()"
   ]
  },
  {
   "cell_type": "markdown",
   "metadata": {},
   "source": [
    "## Preparation"
   ]
  },
  {
   "cell_type": "markdown",
   "metadata": {},
   "source": [
    "### Aliasing and Inserting Data"
   ]
  },
  {
   "cell_type": "markdown",
   "metadata": {},
   "source": [
    "#### Queries"
   ]
  },
  {
   "cell_type": "markdown",
   "metadata": {},
   "source": [
    "Query 1"
   ]
  },
  {
   "cell_type": "markdown",
   "metadata": {},
   "source": [
    "``` SQL\n",
    "INSERT INTO ow_widget_territory(section, widget, gid_0, name_0, variable, date, value, unit)\n",
    "SELECT 'goods_services' AS section, 'fishing employment' AS widget, alias.iso AS gid_0, alias.name_0 AS name_0, CONCAT(data.type, ' ', data.sex) AS variable, data.year AS date, data.obs_value AS value, data.unit AS unit \n",
    "FROM (SELECT area, year, obs_value, concat(type, ' Employment ') AS type, sex, '1000 people' AS unit FROM com_037_rw0_fishing_employment_edit WHERE obs_value IS NOT NULL AND rev = 4) data\n",
    "LEFT JOIN (SELECT DISTINCT(iso), name_0 FROM ow_aliasing_countries) AS alias ON data.area = alias.iso WHERE alias.iso IS NOT NULL\n",
    "```"
   ]
  },
  {
   "cell_type": "markdown",
   "metadata": {},
   "source": [
    "- countries with data: 170\n",
    "- rows before: 143460\n",
    "- rows inserted: 5028\n",
    "- rows after: 148488"
   ]
  },
  {
   "cell_type": "markdown",
   "metadata": {},
   "source": [
    "Query 2"
   ]
  },
  {
   "cell_type": "markdown",
   "metadata": {},
   "source": [
    "```sql\n",
    "INSERT INTO ow_widget_territory(section, widget, gid_0, name_0, variable, date, value, unit)\n",
    "SELECT 'goods_services' AS section, 'fishing employment' AS widget, alias.iso AS gid_0, alias.name_0 AS name_0, CONCAT(data.type, ' ', data.sex) AS variable, data.year AS date, data.obs_value AS value, data.unit AS unit \n",
    "FROM (SELECT area, year, obs_value, concat(type, ' Employment ') AS type, sex, '1000 people' AS unit FROM com_037_rw0_fishing_employment_edit WHERE obs_value IS NOT NULL) data\n",
    "LEFT JOIN (SELECT DISTINCT(area), obs_value as rev4 FROM com_037_rw0_fishing_employment_edit WHERE obs_value IS NOT NULL AND rev = 4) rev4 ON rev4.area = data.area \n",
    "LEFT JOIN (SELECT DISTINCT(iso), name_0 FROM ow_aliasing_countries) AS alias ON data.area = alias.iso WHERE alias.iso IS NOT NULL AND rev4.rev4 IS NULL\n",
    "```"
   ]
  },
  {
   "cell_type": "markdown",
   "metadata": {},
   "source": [
    "- countries with data: 23\n",
    "- rows before: 148488\n",
    "- rows inserted: 496\n",
    "- rows after: 148984"
   ]
  },
  {
   "cell_type": "markdown",
   "metadata": {},
   "source": [
    "```sql\n",
    "\n",
    "```"
   ]
  },
  {
   "cell_type": "markdown",
   "metadata": {},
   "source": [
    "### Vega"
   ]
  },
  {
   "cell_type": "code",
   "execution_count": 1,
   "metadata": {},
   "outputs": [],
   "source": [
    "import json\n",
    "from vega import Vega\n",
    "from IPython.display import display"
   ]
  },
  {
   "cell_type": "code",
   "execution_count": 2,
   "metadata": {},
   "outputs": [],
   "source": [
    "def Vega(spec):\n",
    "    bundle = {}\n",
    "    bundle['application/vnd.vega.v5+json'] = spec\n",
    "    display(bundle, raw=True)"
   ]
  },
  {
   "cell_type": "code",
   "execution_count": 3,
   "metadata": {},
   "outputs": [],
   "source": [
    "widget_width = 800\n",
    "widget_height = 300"
   ]
  },
  {
   "cell_type": "markdown",
   "metadata": {},
   "source": [
    "## Visualization"
   ]
  },
  {
   "cell_type": "markdown",
   "metadata": {},
   "source": [
    "### Queries"
   ]
  },
  {
   "cell_type": "markdown",
   "metadata": {},
   "source": [
    "#### Testing"
   ]
  },
  {
   "cell_type": "markdown",
   "metadata": {},
   "source": [
    "```gadm.geostore_prod ILIKE 'ca5bfde08587530e76c17fe48362a01d'``` used as stand-in for parameterized ```{{{geostore_env}}='{{geostore_id}}'``` in production version"
   ]
  },
  {
   "cell_type": "markdown",
   "metadata": {},
   "source": [
    "```sql\n",
    "SELECT gadm.gid_0, gadm.name_0, date, variable, value, unit FROM ow_widget_territory AS data \n",
    "LEFT OUTER JOIN gadm36_0 gadm ON data.gid_0 = gadm.gid_0 WHERE gadm.geostore_prod ILIKE 'ca5bfde08587530e76c17fe48362a01d' AND widget = 'fishing employment' ORDER BY date ASC, variable ASC\n",
    "\n",
    "```"
   ]
  },
  {
   "cell_type": "markdown",
   "metadata": {},
   "source": [
    "#### Parameterized"
   ]
  },
  {
   "cell_type": "markdown",
   "metadata": {},
   "source": [
    "```sql\n",
    "SELECT gadm.gid_0, gadm.name_0, date, variable, value, unit FROM ow_widget_territory AS data LEFT OUTER JOIN gadm36_0 gadm ON data.gid_0 = gadm.gid_0 WHERE gadm.{{geostore_env}} ILIKE '{{geostore_id}}' AND widget = 'fishing employment' ORDER BY date ASC, variable ASC\n",
    "```"
   ]
  },
  {
   "cell_type": "code",
   "execution_count": 6,
   "metadata": {},
   "outputs": [
    {
     "data": {
      "application/vnd.vega.v5+json": {
       "$schema": "https://vega.github.io/schema/vega/v5.json",
       "axes": [
        {
         "labelFont": "Arial",
         "labelFontSize": 11,
         "labelOverlap": true,
         "orient": "bottom",
         "scale": "x",
         "zindex": 1
        },
        {
         "encode": {
          "labels": {
           "update": {
            "text": {
             "signal": "format(datum.value, ',')"
            }
           }
          }
         },
         "grid": true,
         "gridOpacity": 0.2,
         "labelAlign": "right",
         "labelBaseline": "middle",
         "labelFont": "Arial",
         "labelPadding": 8,
         "orient": "left",
         "scale": "y",
         "tickSize": 5,
         "ticks": true,
         "title": "Number of people",
         "titleFontSize": 12,
         "titlePadding": 8,
         "zindex": 0
        }
       ],
       "data": [
        {
         "format": {
          "property": "rows",
          "type": "json"
         },
         "name": "table",
         "transform": [
          {
           "field": "value",
           "groupby": [
            "gid_0",
            "date"
           ],
           "type": "stack"
          },
          {
           "as": "sector",
           "expr": "split(datum.variable, ' Employment')[0]",
           "type": "formula"
          },
          {
           "as": "sex",
           "expr": "split(datum.variable, '_')[1]",
           "type": "formula"
          },
          {
           "as": "value",
           "expr": "datum.value*1000",
           "type": "formula"
          },
          {
           "as": "sector",
           "expr": "replace(datum.sector, ' ', '_')",
           "type": "formula"
          },
          {
           "as": "sector",
           "expr": "replace(datum.sector, ' ', '_')",
           "type": "formula"
          },
          {
           "field": "sector",
           "groupby": [
            "gid_0",
            "date",
            "sex"
           ],
           "type": "pivot",
           "value": "value"
          },
          {
           "as": "Natural_Sector_Total",
           "expr": "datum.Fishing > datum.Natural_Sector_Total ? null: datum.Natural_Sector_Total",
           "type": "formula"
          },
          {
           "as": "Other Natural Sectors",
           "expr": "datum.Fishing ? datum.Natural_Sector_Total - datum.Fishing: datum.Natural_Sector_Total",
           "type": "formula"
          },
          {
           "as": [
            "sector",
            "value"
           ],
           "fields": [
            "Fishing",
            "Other Natural Sectors"
           ],
           "type": "fold"
          },
          {
           "expr": "isValid(datum.Natural_Sector_Total)",
           "type": "filter"
          },
          {
           "field": "value",
           "groupby": [
            "date",
            "sex"
           ],
           "sort": {
            "field": [
             "gid_0",
             "date",
             "sector"
            ],
            "order": [
             "descending",
             "ascending",
             "descending"
            ]
           },
           "type": "stack"
          }
         ],
         "url": "https://wri-rw.carto.com/api/v2/sql?q=SELECT gadm.gid_0, gadm.name_0, date, variable, value, unit FROM ow_widget_territory AS data LEFT OUTER JOIN gadm36_0 gadm ON data.gid_0 = gadm.gid_0 WHERE gadm.geostore_prod ILIKE 'ca5bfde08587530e76c17fe48362a01d' AND widget = 'fishing employment' ORDER BY date ASC, variable ASC "
        },
        {
         "name": "filter",
         "source": "table",
         "transform": [
          {
           "as": "sex",
           "expr": "test(/M/, datum.sex) ? 'Male': test(/F/, datum.sex) ? 'Female' : 'Total'",
           "type": "formula"
          },
          {
           "expr": "datum.sex==sex",
           "type": "filter"
          }
         ]
        }
       ],
       "description": "A searchable, stacked area chart of U.S. occupations from 1850 to 2000.",
       "height": 300,
       "legends": [
        {
         "fill": "color",
         "orient": "right",
         "title": [
          "Sector:"
         ]
        }
       ],
       "marks": [
        {
         "encode": {
          "enter": {
           "fill": {
            "field": "sector",
            "scale": "color"
           },
           "tooltip": {
            "signal": "{'Year': datum.date, 'Employment sector': (datum.sector === 'Other Natural Sectors' ? 'Agriculture & Forestry' : datum.sector), 'Employment: ': format(datum.value, ',.5r')}"
           },
           "width": {
            "band": 1,
            "offset": -1,
            "scale": "x"
           },
           "x": {
            "field": "date",
            "scale": "x"
           },
           "y": {
            "field": "y0",
            "scale": "y"
           },
           "y2": {
            "field": "y1",
            "scale": "y"
           }
          },
          "hover": {
           "fillOpacity": {
            "value": 0.5
           }
          },
          "update": {
           "fillOpacity": [
            {
             "test": "test(/Other Natural Sectors/, datum.sector)",
             "value": 0.8
            },
            {
             "value": 1
            }
           ]
          }
         },
         "from": {
          "data": "filter"
         },
         "type": "rect"
        }
       ],
       "padding": 5,
       "scales": [
        {
         "domain": {
          "data": "filter",
          "field": "date"
         },
         "name": "x",
         "range": "width",
         "type": "band"
        },
        {
         "domain": {
          "data": "table",
          "field": "y1"
         },
         "name": "y",
         "nice": true,
         "range": "height",
         "type": "linear",
         "zero": true
        },
        {
         "domain": {
          "data": "filter",
          "field": "sector"
         },
         "name": "color",
         "range": [
          "#84c0d0",
          "#f3b229"
         ],
         "type": "ordinal"
        }
       ],
       "signals": [
        {
         "bind": {
          "input": "select",
          "options": [
           "Total",
           "Male",
           "Female"
          ]
         },
         "name": "sex",
         "value": "Total"
        }
       ],
       "width": 800
      },
      "image/png": "[encoded data removed]"
     },
     "metadata": {},
     "output_type": "display_data"
    }
   ],
   "source": [
    "spec=json.loads(\"\"\"{\n",
    "  \"$schema\": \"https://vega.github.io/schema/vega/v5.json\",\n",
    "  \"description\": \"A searchable, stacked area chart of U.S. occupations from 1850 to 2000.\",\n",
    "  \"width\": 800,\n",
    "  \"height\": 300,\n",
    "  \"padding\": 5,\n",
    "  \"signals\": [\n",
    "    {\n",
    "      \"name\": \"sex\",\n",
    "      \"value\": \"Total\",\n",
    "      \"bind\": {\"input\": \"select\", \"options\": [\"Total\", \"Male\", \"Female\"]}\n",
    "    }\n",
    "  ],\n",
    "  \"data\": [\n",
    "    {\n",
    "      \"name\": \"table\",\n",
    "      \"url\": \"https://wri-rw.carto.com/api/v2/sql?q=SELECT gadm.gid_0, gadm.name_0, date, variable, value, unit FROM ow_widget_territory AS data LEFT OUTER JOIN gadm36_0 gadm ON data.gid_0 = gadm.gid_0 WHERE gadm.geostore_prod ILIKE 'ca5bfde08587530e76c17fe48362a01d' AND widget = 'fishing employment' ORDER BY date ASC, variable ASC \",\n",
    "      \"format\": {\"type\": \"json\", \"property\": \"rows\"},\n",
    "      \"transform\": [\n",
    "        {\"type\": \"stack\", \"field\": \"value\", \"groupby\": [\"gid_0\", \"date\"]},\n",
    "        {\n",
    "          \"type\": \"formula\",\n",
    "          \"expr\": \"split(datum.variable, ' Employment')[0]\",\n",
    "          \"as\": \"sector\"\n",
    "        },\n",
    "        {\n",
    "          \"type\": \"formula\",\n",
    "          \"expr\": \"split(datum.variable, '_')[1]\",\n",
    "          \"as\": \"sex\"\n",
    "        },\n",
    "        {\"type\": \"formula\", \"expr\": \"datum.value*1000\", \"as\": \"value\"},\n",
    "        {\n",
    "          \"type\": \"formula\",\n",
    "          \"expr\": \"replace(datum.sector, ' ', '_')\",\n",
    "          \"as\": \"sector\"\n",
    "        },\n",
    "        {\n",
    "          \"type\": \"formula\",\n",
    "          \"expr\": \"replace(datum.sector, ' ', '_')\",\n",
    "          \"as\": \"sector\"\n",
    "        },\n",
    "        {\n",
    "          \"type\": \"pivot\",\n",
    "          \"groupby\": [\"gid_0\", \"date\", \"sex\"],\n",
    "          \"field\": \"sector\",\n",
    "          \"value\": \"value\"\n",
    "        },\n",
    "        {\n",
    "          \"type\": \"formula\",\n",
    "          \"expr\": \"datum.Fishing > datum.Natural_Sector_Total ? null: datum.Natural_Sector_Total\",\n",
    "          \"as\": \"Natural_Sector_Total\"\n",
    "        },\n",
    "        {\n",
    "          \"type\": \"formula\",\n",
    "          \"expr\": \"datum.Fishing ? datum.Natural_Sector_Total - datum.Fishing: datum.Natural_Sector_Total\",\n",
    "          \"as\": \"Other Natural Sectors\"\n",
    "        },\n",
    "        {\n",
    "          \"type\": \"fold\",\n",
    "          \"fields\": [\"Fishing\", \"Other Natural Sectors\"],\n",
    "          \"as\": [\"sector\", \"value\"]\n",
    "        },\n",
    "        {\"type\": \"filter\", \"expr\": \"isValid(datum.Natural_Sector_Total)\"},\n",
    "        {\n",
    "          \"type\": \"stack\",\n",
    "          \"field\": \"value\",\n",
    "          \"groupby\": [\"date\", \"sex\"],\n",
    "          \"sort\": {\n",
    "            \"field\": [\"gid_0\", \"date\", \"sector\"],\n",
    "            \"order\": [\"descending\", \"ascending\", \"descending\"]\n",
    "          }\n",
    "        }\n",
    "      ]\n",
    "    },\n",
    "    {\n",
    "      \"name\": \"filter\",\n",
    "      \"source\": \"table\",\n",
    "      \"transform\": [\n",
    "        {\n",
    "          \"type\": \"formula\",\n",
    "          \"expr\": \"test(/M/, datum.sex) ? 'Male': test(/F/, datum.sex) ? 'Female' : 'Total'\",\n",
    "          \"as\": \"sex\"\n",
    "        },\n",
    "        {\"type\": \"filter\", \"expr\": \"datum.sex==sex\"}\n",
    "      ]\n",
    "    }\n",
    "  ],\n",
    "  \"scales\": [\n",
    "    {\n",
    "      \"name\": \"x\",\n",
    "      \"type\": \"band\",\n",
    "      \"range\": \"width\",\n",
    "      \"domain\": {\"data\": \"filter\", \"field\": \"date\"}\n",
    "    },\n",
    "    {\n",
    "      \"name\": \"y\",\n",
    "      \"type\": \"linear\",\n",
    "      \"range\": \"height\",\n",
    "      \"nice\": true,\n",
    "      \"zero\": true,\n",
    "      \"domain\": {\"data\": \"table\", \"field\": \"y1\"}\n",
    "    },\n",
    "    {\n",
    "      \"name\": \"color\",\n",
    "      \"type\": \"ordinal\",\n",
    "      \"range\": [\"#84c0d0\", \"#f3b229\"],\n",
    "      \"domain\": {\"data\": \"filter\", \"field\": \"sector\"}\n",
    "    }\n",
    "  ],\n",
    "  \"axes\": [\n",
    "    {\n",
    "      \"orient\": \"bottom\",\n",
    "      \"scale\": \"x\",\n",
    "      \"zindex\": 1,\n",
    "      \"labelFont\": \"Arial\",\n",
    "      \"labelFontSize\": 11,\n",
    "      \"labelOverlap\": true\n",
    "    },\n",
    "    {\n",
    "      \"orient\": \"left\",\n",
    "      \"scale\": \"y\",\n",
    "      \"zindex\": 0,\n",
    "      \"title\": \"Number of people\",\n",
    "      \"titlePadding\": 8,\n",
    "      \"titleFontSize\": 12,\n",
    "      \"labelFont\": \"Arial\",\n",
    "      \"labelBaseline\": \"middle\",\n",
    "      \"labelAlign\": \"right\",\n",
    "      \"labelPadding\": 8,\n",
    "      \"ticks\": true,\n",
    "      \"tickSize\": 5,\n",
    "      \"grid\": true,\n",
    "      \"gridOpacity\": 0.2,\n",
    "      \"encode\": {\n",
    "        \"labels\": {\"update\": {\"text\": {\"signal\": \"format(datum.value, ',')\"}}}\n",
    "      }\n",
    "    }\n",
    "  ],\n",
    "  \"marks\": [\n",
    "    {\n",
    "      \"type\": \"rect\",\n",
    "      \"from\": {\"data\": \"filter\"},\n",
    "      \"encode\": {\n",
    "        \"enter\": {\n",
    "          \"x\": {\"scale\": \"x\", \"field\": \"date\"},\n",
    "          \"width\": {\"scale\": \"x\", \"band\": 1, \"offset\": -1},\n",
    "          \"y\": {\"scale\": \"y\", \"field\": \"y0\"},\n",
    "          \"y2\": {\"scale\": \"y\", \"field\": \"y1\"},\n",
    "          \"fill\": {\"scale\": \"color\", \"field\": \"sector\"},\n",
    "          \"tooltip\": {\n",
    "            \"signal\": \"{'Year': datum.date, 'Employment sector': (datum.sector === 'Other Natural Sectors' ? 'Agriculture & Forestry' : datum.sector), 'Employment: ': format(datum.value, ',.5r')}\"\n",
    "          }\n",
    "        },\n",
    "        \"update\": {\n",
    "          \"fillOpacity\": [\n",
    "            {\n",
    "              \"test\": \"test(/Other Natural Sectors/, datum.sector)\",\n",
    "              \"value\": 0.8\n",
    "            },\n",
    "            {\"value\": 1}\n",
    "          ]\n",
    "        },\n",
    "        \"hover\": {\"fillOpacity\": {\"value\": 0.5}}\n",
    "      }\n",
    "    }\n",
    "  ],\n",
    "  \"legends\": [{\"title\": [\"Sector:\"], \"fill\": \"color\", \"orient\": \"right\"}]\n",
    "}\"\"\")\n",
    "vegaview=dict(spec)\n",
    "Vega(vegaview)"
   ]
  },
  {
   "cell_type": "markdown",
   "metadata": {},
   "source": [
    "[Open the Chart in the Vega Editor](https://vega.github.io/editor/#/url/vega/N4IgJAzgxgFgpgWwIYgFwhgF0wBwqgegIDc4BzJAOjIEtMYBXAI0poHsDp5kTykSArJQBWENgDsQAGhAATONABONHJnaT0AQQAEEOEkWwkTADZwpuzEigBrOLO0H92o4sza2AM20BVSgGVKDygoBhwkNQkIbU9FNgRtAEYADgEABm1MNm0AJjT8ymkQAHcaWXo0ZPyZeBoyLDQAZmqQcNlZGnEyNAEZCDrxJBMINABtUEGEODQQPQAPIuIhhmn0ABU2KxMipk7ZNFBOnAZMGb0zKFOZNlV1EdRRkA2tooBZIemZADFED5AAXQAvoD-jJZBEUA8JkgpjMrKZPiAGIptugsLh8ERisoALSKYqUKAGLKE+IEJA4GgkHKcACOJgA-LSALz+ACiABk2QBhNbaCiyBDUMoAfTSFgFQsmcDFFnBmHM2iWymMZgsSxMKwsDHEdG0XwASgB5V4eYoi0qyMhwTAihWKZRZRQAT20mn82nlSG0XK+fKNPjWbIN2gAUkaAJIAOX5SEFjQAbGLY4LtEaY17hbJk8yU0LaNmMgB1AASwbZeeocDYECdMpwcQcEY5EYA0hWAOREgRMTzyNKpZIAdgEzTgQ4TUESQ88cAALMlEzkkGlErIO26owARbSW63uXMdzw0CAwTpkbSIHAmNjOqbiTAbo0GrfB7QAIQAmp6InA3f5uXVAwaFVP93W5bQik8NhFGQU5UFATBnRwVYQFECQigbG44DcZ0ZjiYoRkBGRMEUJBxAgaDYLGRDkNQ2trBsKCaDgEx9nQDUViKMg4jCJg8IeEACzFIp5WmIEpFolCZiohAGBMFAZDgOYGzOa86AACnlBghWVECEQsDc2QQa9b3vR8AEpRjSf4iiQe5ZjgS4YJAYipNQ2T5MUkBlNU9AIHUzAtIiHTKD00DDJFDsrMSWyZHss5lNcySQCQ6T0E8hSil8xQZm03TljgAAqRJ8jSOyHM46Y3NSuiZJguSsqUlTcvQRQ4Gvaw4GCzBQr0ZzFEM7QO0i6KKsSgbkvc+rYK87KWvwjqFKgbr8sofqnSGkbhqiizxv8pynSm2r0taGhiE2bjeJwfixiE0VyrBX8inmAEZGPVj2McyaZCqmY-pqtKPIaubmr8uQQqFL4TzPLptAAPh-XqhSjEKyJMEV-EOmCRWeIZtAZbRxHkkxUCR0LUd69HMexxRcc2IZ9pASnkSGGmBvpl5AbqjKQaanyFvQNbodPc8CfJlG0bZrGObxkxtBxCXKBF2GyDJtaWepmWnU5xn4oco16Bw7RNfx7WYKIlKgfqtjmM++5HhV88ikN+BFBNqX5fNxQRlBEAEsEjaXN+wqAW507jxMe15vBk8ADUhjKHqKc99mdblvbw-oqxbDt22ONDmQeLYPiBMeMSXqSv2xDcA4QA+-PHmEx6IYVSvJr9mD5Fa8uFBW8QOi6Cr+8H7owT7uAB+doEQRq6UZJoKOcJekvDFQ+EzCKUjyMohqaJO4HZv5nK4QUIKCFeAg5Uh9blIs8WO3eMwOzJhVaw0ggvivpX5nvwmOx+MgZ+2gyYdjlh2Jmr0s4LyXrlMGrVW59WUsyZkUCgTVyJGYB20JYToAWCRHmIAmDkX2DIMiXRUKWgqGCeISBOh1y9DA6O70WL51btVOeMJUJ4QIadEwnR9BwJAOQ60Mxaj1CuCAXUK00CkS1CAAAXjhNgsjFDyNkLQ+hCFW6QlSqBPOX1nSJFcpw3BIAoBsBvEI626Au6dD1sI8iojBIAGJkhzigGkWQLcXGeEaEwHIOQACcb05CaI0KARhGVF7MPrqwr6QdcrAj9kgOYCh94wRYg+GYTBNhZAQC9TBqF8GKL2ElVAiQZAKSYKxL4Eh4IgE0CqbYVTjC1Pqf4GgSi0CJEqSAaprEjSkBRBSVRKwaqZMng0swnhJHQD+OgHhpSB7lPFKlOgm90BRh0jU92XhtAoRuJvEiGy4AAAU4yj0qCczAZg6kPk6d0ipORWk1JMPchpTSQItP6W0kw757KsQETMBAZRZDHN+W8zQ-CyAaGEXUBorzWIXPaM7VAyQTm2HuHI8w6zbCPNWL0ISyh2I4qLiSo04QoB0AEmkSgLyfLiAsfIOuAzhh1zCBXbRCo5jwVAP0WFjNeawQiMnAqmpFQjTGsCGVftkCKBsNgg+i1LhQTiAU7RUS4mwOSoy5lqxQBTOXtohY2j5mbJACUhuX0K7ERKGUCoZqikzBKcQgePTrieE8HoeCOJEh2oEvy51iyDEzGdOVANOQ67mu4aGxZxi7WR1REGhZ5jLHBziZ9CaR07VZEsWoHA0aBhCpAMADsn5BEvyVmJQyxlTJ3imboWmVaxW3wGtoFBh5XbG1Nl7WmEANz-00DxGgoQo7Ij-AAMn1DBM+LoNzqxvokiytaTI3gbQ+UBZNZKirWlVQyUhKACEUNFQEJiZCcuetopNlLrA0v3m-Bpj6P7dvdr27Q3sIDfzWsuxYodUB0uSDVP6FTZ41DYMMuuN6qX3u0SBulAgZUgiqeQSesglVqFuasR43t0B+yTTMCxViiiTOyW1BFpxZ5AA)"
   ]
  },
  {
   "cell_type": "markdown",
   "metadata": {},
   "source": [
    "# Indicator"
   ]
  },
  {
   "cell_type": "markdown",
   "metadata": {},
   "source": [
    "Percentage of the workforce that is female "
   ]
  },
  {
   "cell_type": "markdown",
   "metadata": {},
   "source": [
    "## Rank"
   ]
  },
  {
   "cell_type": "markdown",
   "metadata": {},
   "source": [
    "```sql\n",
    "SELECT CONCAT(rank, ' of ', max_rank) AS value FROM (SELECT *, MAX(rank) OVER (PARTITION BY true) AS max_rank FROM(SELECT \n",
    "    *, RANK() OVER(ORDER BY ratio DESC) as rank\n",
    "FROM (\n",
    "            SELECT \n",
    "                area, \n",
    "                RANK() OVER(PARTITION BY area ORDER BY year DESC) as yr_rank,  \n",
    "                SUM(CASE \n",
    "                  WHEN sex = 'SEX_F' THEN obs_value\n",
    "                    ELSE 0\n",
    "                  END)/NULLIF(SUM(CASE\n",
    "                  WHEN sex = 'SEX_T' THEN obs_value\n",
    "                  ELSE 0\n",
    "                  END),0)*100 AS ratio\n",
    "            FROM com_037_rw0_fishing_employment_edit \n",
    "            WHERE type = 'Fishing' \n",
    "            GROUP BY area, year\n",
    "            ) data  \n",
    "LEFT JOIN gadm36_0 gadm on gadm.gid_0 = data.area \n",
    "WHERE yr_rank =1 AND coastal=true AND ratio IS NOT NULL) ranked ) max_rank\n",
    "WHERE geostore_prod ILIKE 'ca5bfde08587530e76c17fe48362a01d' \n",
    "```"
   ]
  },
  {
   "cell_type": "markdown",
   "metadata": {},
   "source": [
    "#### Raw\n",
    "`https://wri-rw.carto.com/api/v2/sql?q=SELECT CONCAT(rank, ' of ', max_rank) AS value FROM (SELECT *, MAX(rank) OVER (PARTITION BY true) AS max_rank FROM(SELECT *, RANK() OVER(ORDER BY ratio DESC) as rank FROM (SELECT area, RANK() OVER(PARTITION BY area ORDER BY year DESC) as yr_rank, SUM(CASE WHEN sex = 'SEX_F' THEN obs_value ELSE 0 END)/NULLIF(SUM(CASE WHEN sex = 'SEX_T' THEN obs_value ELSE 0 END),0)*100 AS ratio FROM com_037_rw0_fishing_employment_edit WHERE type = 'Fishing' GROUP BY area, year) data  LEFT JOIN gadm36_0 gadm on gadm.gid_0 = data.area WHERE yr_rank =1 AND coastal=true AND ratio IS NOT NULL) ranked ) max_rank WHERE {{geostore_env}} ILIKE '{{geostore_id}}'`\n",
    "\n",
    "#### [Demo](https://wri-rw.carto.com/api/v2/sql?q=SELECT%20CONCAT(rank,%20%27%20of%20%27,%20max_rank)%20AS%20value%20FROM%20(SELECT%20*,%20MAX(rank)%20OVER%20(PARTITION%20BY%20true)%20AS%20max_rank%20FROM(SELECT%20*,%20RANK()%20OVER(ORDER%20BY%20ratio%20DESC)%20as%20rank%20FROM%20(SELECT%20area,%20RANK()%20OVER(PARTITION%20BY%20area%20ORDER%20BY%20year%20DESC)%20as%20yr_rank,%20SUM(CASE%20WHEN%20sex%20=%20%27SEX_F%27%20THEN%20obs_value%20ELSE%200%20END)/NULLIF(SUM(CASE%20WHEN%20sex%20=%20%27SEX_T%27%20THEN%20obs_value%20ELSE%200%20END),0)*100%20AS%20ratio%20FROM%20com_037_rw0_fishing_employment_edit%20WHERE%20type%20=%20%27Fishing%27%20GROUP%20BY%20area,%20year)%20data%20%20LEFT%20JOIN%20gadm36_0%20gadm%20on%20gadm.gid_0%20=%20data.area%20WHERE%20yr_rank%20=1%20AND%20coastal=true%20AND%20ratio%20IS%20NOT%20NULL)%20ranked%20)%20max_rank%20WHERE%20geostore_prod%20ILIKE%20%27ca5bfde08587530e76c17fe48362a01d%27)"
   ]
  },
  {
   "cell_type": "markdown",
   "metadata": {},
   "source": [
    "## Value"
   ]
  },
  {
   "cell_type": "markdown",
   "metadata": {},
   "source": [
    "``` sql\n",
    "SELECT \n",
    "    ROUND(female_employment/NULLIF(total_employment,0)*100) AS value\n",
    "FROM (\n",
    "    SELECT \n",
    "        area, \n",
    "        year,  \n",
    "        SUM(CASE \n",
    "            WHEN sex = 'SEX_F' THEN obs_value\n",
    "            ELSE 0\n",
    "            END) female_employment,\n",
    "        SUM(CASE\n",
    "            WHEN sex = 'SEX_T' THEN obs_value\n",
    "            ELSE 0\n",
    "            END) total_employment,\n",
    "        RANK() OVER(PARTITION BY area ORDER BY year DESC) as yr_rank \n",
    "    FROM com_037_rw0_fishing_employment_edit \n",
    "    WHERE type = 'Fishing' \n",
    "    GROUP BY area, year \n",
    ") data\n",
    "LEFT JOIN gadm36_0 gadm on gadm.gid_0 = data.area\n",
    "WHERE yr_rank = 1 AND gadm.{{geostore_env}} ILIKE '{{geostore_id}}'\n",
    "```"
   ]
  },
  {
   "cell_type": "markdown",
   "metadata": {},
   "source": [
    "- ```description```:\n",
    "- ```query```: [https://wri-rw.carto.com/api/v2/sql?q=SELECT \n",
    "    ROUND(female_employment/NULLIF(total_employment,0)*100) AS value FROM (SELECT area, year, SUM(CASE WHEN sex = 'SEX_F' THEN obs_value ELSE 0 END) female_employment, SUM(CASE WHEN sex = 'SEX_T' THEN obs_value ELSE 0 END) total_employment, RANK() OVER(PARTITION BY area ORDER BY year DESC) as yr_rank FROM com_037_rw0_fishing_employment_edit WHERE type = 'Fishing' GROUP BY area, year ) data\n",
    "LEFT JOIN gadm36_0 gadm on gadm.gid_0 = data.area WHERE yr_rank = 1 AND gadm.{{geostore_env}} ILIKE '{{geostore_id}}' ](https://wri-rw.carto.com/api/v2/sql?q=SELECT%20ROUND(female_employment/NULLIF(total_employment,0)*100)%20AS%20value%20FROM%20(SELECT%20area,%20year,%20SUM(CASE%20WHEN%20sex%20=%20%27SEX_F%27%20THEN%20obs_value%20ELSE%200%20END)%20female_employment,%20SUM(CASE%20WHEN%20sex%20=%20%27SEX_T%27%20THEN%20obs_value%20ELSE%200%20END)%20total_employment,%20RANK()%20OVER(PARTITION%20BY%20area%20ORDER%20BY%20year%20DESC)%20as%20yr_rank%20FROM%20com_037_rw0_fishing_employment_edit%20WHERE%20type%20=%20%27Fishing%27%20GROUP%20BY%20area,%20year%20)%20data%20LEFT%20JOIN%20gadm36_0%20gadm%20on%20gadm.gid_0%20=%20data.area%20WHERE%20yr_rank%20=%201%20AND%20gadm.gid_0%20ILIKE%20%27MEX%27)\n",
    "- ```unit```: ```%```"
   ]
  },
  {
   "cell_type": "markdown",
   "metadata": {},
   "source": [
    "## RW Backoffice"
   ]
  },
  {
   "cell_type": "markdown",
   "metadata": {},
   "source": [
    "- [back office](https://resourcewatch.org/admin/data/widgets/49e474c1-014b-476c-b832-8c9a556ad6e3/edit?dataset=4487e012-9571-4175-991a-101268d6bb3f)\n",
    "- parent dataset [com.037.rw0](https://resourcewatch.org/data/explore/4487e012-9571-4175-991a-101268d6bb3f) (unpublished)\n",
    "- dataset id ```4487e012-9571-4175-991a-101268d6bb3f```\n",
    "- widget id: ```49e474c1-014b-476c-b832-8c9a556ad6e3```"
   ]
  },
  {
   "cell_type": "markdown",
   "metadata": {},
   "source": []
  },
  {
   "cell_type": "code",
   "execution_count": null,
   "metadata": {},
   "outputs": [],
   "source": []
  }
 ],
 "metadata": {
  "kernelspec": {
   "display_name": "Python 3",
   "language": "python",
   "name": "python3"
  },
  "language_info": {
   "codemirror_mode": {
    "name": "ipython",
    "version": 3
   },
   "file_extension": ".py",
   "mimetype": "text/x-python",
   "name": "python",
   "nbconvert_exporter": "python",
   "pygments_lexer": "ipython3",
   "version": "3.7.7"
  }
 },
 "nbformat": 4,
 "nbformat_minor": 4
}
