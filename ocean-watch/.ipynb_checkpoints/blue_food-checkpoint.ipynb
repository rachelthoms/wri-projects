{
 "cells": [
  {
   "cell_type": "markdown",
   "metadata": {},
   "source": [
    "# Blue Food"
   ]
  },
  {
   "cell_type": "markdown",
   "metadata": {},
   "source": [
    "Visualizing protein supply as related to pressures on the ocean over time"
   ]
  },
  {
   "cell_type": "markdown",
   "metadata": {},
   "source": [
    "*Author: Rachel Thoms\n",
    "<br>Created: 08 24 2021\n",
    "<br>Environment: jupyterlab*"
   ]
  },
  {
   "cell_type": "markdown",
   "metadata": {},
   "source": [
    "## Style"
   ]
  },
  {
   "cell_type": "markdown",
   "metadata": {},
   "source": [
    "- Vega chart\n",
    "- Chart type: [Sunburst](https://vega.github.io/vega/examples/sunburst/)\n",
    "- Value: Protein Supply (g/capita/day)"
   ]
  },
  {
   "cell_type": "markdown",
   "metadata": {},
   "source": [
    "## Data"
   ]
  },
  {
   "cell_type": "markdown",
   "metadata": {},
   "source": [
    "- Data: [foo_061_rw1_blue_food_supply_edit](https://resourcewatch.carto.com/u/wri-rw/dataset/foo_061_rw1_blue_food_supply_edit)\n",
    "- Resource Watch: [explore page](https://resourcewatch.org/data/explore/9e1b3cad-db6f-44b0-b6fb-048df7b6c680)\n",
    "- Source: [FAO Food Balance Sheet](http://www.fao.org/faostat/en/#data/FBS)"
   ]
  },
  {
   "cell_type": "markdown",
   "metadata": {},
   "source": [
    "## Preparation"
   ]
  },
  {
   "cell_type": "markdown",
   "metadata": {},
   "source": [
    "### Aliasing and Inserting Data"
   ]
  },
  {
   "cell_type": "markdown",
   "metadata": {},
   "source": [
    "This data was not inserted into the master table\n"
   ]
  },
  {
   "cell_type": "markdown",
   "metadata": {},
   "source": [
    "### Vega"
   ]
  },
  {
   "cell_type": "code",
   "execution_count": 1,
   "metadata": {},
   "outputs": [],
   "source": [
    "import json\n",
    "from vega import Vega\n",
    "from IPython.display import display"
   ]
  },
  {
   "cell_type": "code",
   "execution_count": 2,
   "metadata": {},
   "outputs": [],
   "source": [
    "def Vega(spec):\n",
    "    bundle = {}\n",
    "    bundle['application/vnd.vega.v5+json'] = spec\n",
    "    display(bundle, raw=True)"
   ]
  },
  {
   "cell_type": "code",
   "execution_count": 3,
   "metadata": {},
   "outputs": [],
   "source": [
    "widget_width = 600\n",
    "widget_height = 600"
   ]
  },
  {
   "cell_type": "markdown",
   "metadata": {},
   "source": [
    "## Visualization"
   ]
  },
  {
   "cell_type": "markdown",
   "metadata": {},
   "source": [
    "### Queries"
   ]
  },
  {
   "cell_type": "markdown",
   "metadata": {},
   "source": [
    "#### Testing"
   ]
  },
  {
   "cell_type": "markdown",
   "metadata": {},
   "source": [
    "``` gid_0 = 'JPN' ``` used as stand-in for parameterized ```geostore_id={{geostore_id}}``` in production version"
   ]
  },
  {
   "cell_type": "markdown",
   "metadata": {},
   "source": [
    "```sql\n",
    "SELECT alias.iso as gid_0, data.area, year, item as id, parent, size, value as protein, analysis_category, product FROM (SELECT * FROM foo_061_rw1_blue_food_supply_edit) data INNER JOIN ow_aliasing_countries AS alias ON alias.alias = data.area WHERE iso='JPN' ORDER BY analysis_category ASC, id ASC\n",
    "```"
   ]
  },
  {
   "cell_type": "markdown",
   "metadata": {},
   "source": [
    "#### Parameterization"
   ]
  },
  {
   "cell_type": "markdown",
   "metadata": {},
   "source": [
    "```sql\n",
    "SELECT gadm.gid_0 as gid_0, data.area, year, item as id, parent, size, value as protein, analysis_category, product \n",
    "FROM (SELECT * FROM foo_061_rw1_blue_food_supply_edit) data \n",
    "LEFT OUTER JOIN ow_aliasing_countries AS alias ON alias.alias = data.area \n",
    "LEFT OUTER JOIN gadm36_0 gadm ON alias.iso = gadm.gid_0 \n",
    "WHERE gadm.{{geostore_env}} ILIKE '{{geostore_id}}' \n",
    "ORDER BY analysis_category ASC, id ASC\n",
    "```"
   ]
  },
  {
   "cell_type": "code",
   "execution_count": 6,
   "metadata": {},
   "outputs": [],
   "source": [
    "spec=json.loads(\"\"\"{\n",
    "  \"$schema\": \"https://vega.github.io/schema/vega/v5.json\",\n",
    "  \"width\": 500,\n",
    "  \"height\": 300,\n",
    "  \"padding\": 5,\n",
    "  \"autosize\": \"pad\",\n",
    "  \"signals\": [\n",
    "    {\n",
    "      \"name\": \"year\",\n",
    "      \"value\": 2018,\n",
    "      \"bind\": {\"input\": \"range\", \"min\": 1961, \"max\": 2018, \"step\": 1}\n",
    "    }\n",
    "  ],\n",
    "  \"data\": [\n",
    "    {\n",
    "      \"name\": \"table\",\n",
    "      \"url\": \"https://wri-rw.carto.com/api/v2/sql?q= SELECT gadm.gid_0 as gid_0, data.area, year, item as id, parent, size, value as protein, analysis_category, product FROM (SELECT * FROM foo_061_rw1_blue_food_supply_edit) data LEFT OUTER JOIN ow_aliasing_countries AS alias ON alias.alias = data.area LEFT OUTER JOIN gadm36_0 gadm ON alias.iso = gadm.gid_0 WHERE gadm.{{geostore_env}} ILIKE '{{geostore_id}}' ORDER BY analysis_category ASC, id ASC\",\n",
    "      \"format\": {\"type\": \"json\", \"property\": \"rows\"},\n",
    "      \"transform\": [\n",
    "        {\"type\": \"filter\", \"expr\": \"datum.year==year\"},\n",
    "        {\"type\": \"stratify\", \"key\": \"id\", \"parentKey\": \"parent\"},\n",
    "        {\n",
    "          \"type\": \"partition\",\n",
    "          \"field\": \"size\",\n",
    "          \"sort\": {\"field\": [\"analysis_category\"]},\n",
    "          \"size\": [{\"signal\": \"2 * PI\"}, {\"signal\": \"width/4\"}],\n",
    "          \"as\": [\"a0\", \"r0\", \"a1\", \"r1\", \"depth\", \"children\"],\n",
    "          \"padding\": 0\n",
    "        },\n",
    "        {\"type\": \"formula\", \"expr\": \"split(datum.id,'_')[0]\", \"as\": \"label\"},\n",
    "        {\"type\": \"formula\", \"expr\": \"datum.protein ? format((datum.protein), '.1f') + ' g/capita/day' : ''\", \"as\": \"protein\"}\n",
    "      ]\n",
    "    }\n",
    "  ],\n",
    "  \"scales\": [\n",
    "    {\n",
    "      \"name\": \"legend\",\n",
    "      \"type\": \"ordinal\",\n",
    "      \"domain\": [\"Total food supply\", \"Pressure-generating, land-sourced foods\",\"Ocean-sourced foods\",  \"Other land-sourced foods\"],\n",
    "      \"range\": [\"#f3b229\",\"#f5c93a\",\"#2670a5\",\"#e8d59a\"]\n",
    "    },\n",
    "    {\n",
    "      \"name\": \"blues\",\n",
    "      \"type\": \"linear\",\n",
    "      \"domain\": {\"data\": \"table\", \"field\": \"depth\"},\n",
    "      \"range\": [\"#2670a5\", \"#3d7fae\", \"#538fb7\", \"#699fc0\"],\n",
    "      \"domainMin\": 1,\n",
    "      \"reverse\": false\n",
    "    },\n",
    "    {\n",
    "      \"name\": \"greys\",\n",
    "      \"type\": \"ordinal\",\n",
    "      \"domain\": {\"data\": \"table\", \"field\": \"depth\"},\n",
    "      \"range\": [\"#f2e2b2\", \"#f7e9be\", \"#fcf0ca\",\"#e8d59a\"]\n",
    "    },\n",
    "    {\n",
    "      \"name\": \"oranges\",\n",
    "      \"type\": \"linear\",\n",
    "      \"domain\": {\"data\": \"table\", \"field\": \"depth\"},\n",
    "      \"range\": [\"#f3b229\", \"#f4c141\", \"#f5c93a\", \"#f6d544\", \"#f6e04e\"],\n",
    "      \"domainMin\": 1,\n",
    "      \"reverse\": false\n",
    "\n",
    "    },\n",
    "    {\"name\": \"opacity\",\n",
    "    \"type\": \"linear\",\n",
    "    \"domain\": {\"data\": \"table\", \"field\": \"depth\"},\n",
    "    \"domainMin\": 1,\n",
    "    \"reverse\": true,\n",
    "    \"range\": [0.85,1]}\n",
    "  ],\n",
    "  \"marks\": [\n",
    "    {\n",
    "      \"type\": \"arc\",\n",
    "      \"from\": {\"data\": \"table\"},\n",
    "      \"encode\": {\n",
    "        \"enter\": {\n",
    "          \"x\": {\"signal\": \"width/3\"},\n",
    "          \"y\": {\"signal\": \"height/2\"},\n",
    "          \"zindex\": {\"value\": 1},\n",
    "          \"opacity\": [{\"test\": \"test(/Secondary/, datum.product)\", \"value\": 0.5 },{\"value\": 1}],\n",
    "          \"fill\": [\n",
    "            {\n",
    "              \"scale\": {\n",
    "                \"signal\": \n",
    "                \"(datum.analysis_category === 'Other Land-Sourced Foods' ? 'greys': datum.analysis_category === 'Ocean-Sourced Foods' ? 'blues' : 'oranges')\"\n",
    "              },\n",
    "              \"field\": \"depth\"\n",
    "            }\n",
    "          ]\n",
    "        },\n",
    "        \"update\": {\n",
    "          \"startAngle\": {\"field\": \"a0\"},\n",
    "          \"endAngle\": {\"field\": \"a1\"},\n",
    "          \"innerRadius\": {\"field\": \"r0\"},\n",
    "          \"outerRadius\": {\"field\": \"r1\"},\n",
    "          \"stroke\": {\"value\": \"white\"},\n",
    "          \"strokeWidth\": {\"value\": 0.5},\n",
    "          \"zindex\": {\"value\": 1}\n",
    "        },\n",
    "        \"hover\": {\n",
    "          \"stroke\": {\"value\": \"red\"},\n",
    "          \"strokeWidth\": {\"value\": 2},\n",
    "          \"zindex\": {\"value\": 0}\n",
    "        }\n",
    "      }\n",
    "    }\n",
    "  ],\n",
    "  \"legends\": [\n",
    "    {\n",
    "      \"title\": [\"Sources of Protein\"],\n",
    "      \"orient\": \"none\",\n",
    "      \"legendX\": {\"signal\" : \"width*.65\"},\n",
    "      \"legendY\": {\"signal\" : \"height*.4\"},\n",
    "      \"type\": \"symbol\",\n",
    "      \"fill\": \"legend\",\n",
    "      \"titleFontSize\": {\"signal\": \"width/40\"},\n",
    "      \"titleFont\": \"Lato\",\n",
    "      \"labelFontSize\": {\"signal\": \"width/50\"},\n",
    "      \"labelFont\": \"Lato\",\n",
    "      \"clipHeight\": 16,\n",
    "      \"encode\": {\n",
    "        \"labels\": {\n",
    "          \"interactive\": true,\n",
    "          \"enter\": {\n",
    "            \"tooltip\": {\n",
    "              \"signal\": \"datum.label\"\n",
    "            }\n",
    "          },\n",
    "          \"update\": {\n",
    "            \"fill\": {\"value\": \"grey\"}\n",
    "          },\n",
    "          \"hover\": {\n",
    "            \"fill\": {\"value\": \"firebrick\"}\n",
    "          }\n",
    "        }\n",
    "      }\n",
    "    }\n",
    "  ],\n",
    "    \"interaction_config\": [\n",
    "    {\n",
    "      \"name\": \"tooltip\",\n",
    "      \"config\": {\n",
    "        \"fields\": [\n",
    "          {\n",
    "            \"column\": \"label\",\n",
    "            \"property\": \"Commodity\",\n",
    "            \"type\": \"text\",\n",
    "            \"format\": \"\"\n",
    "          },\n",
    "          {\n",
    "            \"column\": \"protein\",\n",
    "            \"property\": \"Contribution to protein supply\",\n",
    "            \"type\": \"text\",\n",
    "            \"format\": \"\"\n",
    "          }\n",
    "        ]\n",
    "      }\n",
    "    }\n",
    "  ]\n",
    "}\n",
    "\"\"\")"
   ]
  },
  {
   "cell_type": "code",
   "execution_count": 7,
   "metadata": {},
   "outputs": [
    {
     "data": {
      "application/vnd.vega.v5+json": {
       "$schema": "https://vega.github.io/schema/vega/v5.json",
       "autosize": "pad",
       "data": [
        {
         "format": {
          "property": "rows",
          "type": "json"
         },
         "name": "table",
         "transform": [
          {
           "expr": "datum.year==year",
           "type": "filter"
          },
          {
           "key": "id",
           "parentKey": "parent",
           "type": "stratify"
          },
          {
           "as": [
            "a0",
            "r0",
            "a1",
            "r1",
            "depth",
            "children"
           ],
           "field": "size",
           "padding": 0,
           "size": [
            {
             "signal": "2 * PI"
            },
            {
             "signal": "width/4"
            }
           ],
           "sort": {
            "field": [
             "analysis_category"
            ]
           },
           "type": "partition"
          },
          {
           "as": "label",
           "expr": "split(datum.id,'_')[0]",
           "type": "formula"
          },
          {
           "as": "protein",
           "expr": "datum.protein ? format((datum.protein), '.1f') + ' g/capita/day' : ''",
           "type": "formula"
          }
         ],
         "url": "https://wri-rw.carto.com/api/v2/sql?q= SELECT gadm.gid_0 as gid_0, data.area, year, item as id, parent, size, value as protein, analysis_category, product FROM (SELECT * FROM foo_061_rw1_blue_food_supply_edit) data LEFT OUTER JOIN ow_aliasing_countries AS alias ON alias.alias = data.area LEFT OUTER JOIN gadm36_0 gadm ON alias.iso = gadm.gid_0 WHERE gadm.geostore_prod ILIKE 'f653d0a434168104f4bdcdf8c712d079' ORDER BY analysis_category ASC, id ASC"
        }
       ],
       "description": "An example of a space-fulling radial layout for hierarchical data.",
       "height": 300,
       "interaction_config": [
        {
         "config": {
          "fields": [
           {
            "column": "label",
            "format": "",
            "property": "Commodity",
            "type": "text"
           },
           {
            "column": "protein",
            "format": "",
            "property": "Contribution to protein supply",
            "type": "text"
           }
          ]
         },
         "name": "tooltip"
        }
       ],
       "legends": [
        {
         "clipHeight": 16,
         "encode": {
          "labels": {
           "enter": {
            "tooltip": {
             "signal": "datum.label"
            }
           },
           "hover": {
            "fill": {
             "value": "firebrick"
            }
           },
           "interactive": true,
           "update": {
            "fill": {
             "value": "grey"
            }
           }
          }
         },
         "fill": "legend",
         "labelFont": "Arial",
         "labelFontSize": {
          "signal": "width/50"
         },
         "legendX": {
          "signal": "width*.65"
         },
         "legendY": {
          "signal": "height*.4"
         },
         "orient": "none",
         "title": [
          "Sources of Protein"
         ],
         "titleFont": "Arial",
         "titleFontSize": {
          "signal": "width/40"
         },
         "type": "symbol"
        }
       ],
       "marks": [
        {
         "encode": {
          "enter": {
           "fill": [
            {
             "field": "depth",
             "scale": {
              "signal": "(datum.analysis_category === 'Other Land-Sourced Foods' ? 'greys': datum.analysis_category === 'Ocean-Sourced Foods' ? 'blues' : 'oranges')"
             }
            }
           ],
           "opacity": [
            {
             "test": "test(/Secondary/, datum.product)",
             "value": 0.5
            },
            {
             "value": 1
            }
           ],
           "x": {
            "signal": "width/3"
           },
           "y": {
            "signal": "height/2"
           },
           "zindex": {
            "value": 1
           }
          },
          "hover": {
           "stroke": {
            "value": "red"
           },
           "strokeWidth": {
            "value": 2
           },
           "zindex": {
            "value": 0
           }
          },
          "update": {
           "endAngle": {
            "field": "a1"
           },
           "innerRadius": {
            "field": "r0"
           },
           "outerRadius": {
            "field": "r1"
           },
           "startAngle": {
            "field": "a0"
           },
           "stroke": {
            "value": "white"
           },
           "strokeWidth": {
            "value": 0.5
           },
           "zindex": {
            "value": 1
           }
          }
         },
         "from": {
          "data": "table"
         },
         "type": "arc"
        }
       ],
       "padding": 5,
       "scales": [
        {
         "domain": [
          "Total food supply",
          "Pressure-generating, land-sourced foods",
          "Ocean-sourced foods",
          "Other land-sourced foods"
         ],
         "name": "legend",
         "range": [
          "#f3b229",
          "#f5c93a",
          "#2670a5",
          "#e8d59a"
         ],
         "type": "ordinal"
        },
        {
         "domain": {
          "data": "table",
          "field": "depth"
         },
         "domainMin": 1,
         "name": "blues",
         "range": [
          "#2670a5",
          "#3d7fae",
          "#538fb7",
          "#699fc0"
         ],
         "reverse": false,
         "type": "linear"
        },
        {
         "domain": {
          "data": "table",
          "field": "depth"
         },
         "name": "greys",
         "range": [
          "#f2e2b2",
          "#f7e9be",
          "#fcf0ca",
          "#e8d59a"
         ],
         "type": "ordinal"
        },
        {
         "domain": {
          "data": "table",
          "field": "depth"
         },
         "domainMin": 1,
         "name": "oranges",
         "range": [
          "#f3b229",
          "#f4c141",
          "#f5c93a",
          "#f6d544",
          "#f6e04e"
         ],
         "reverse": false,
         "type": "linear"
        },
        {
         "domain": {
          "data": "table",
          "field": "depth"
         },
         "domainMin": 1,
         "name": "opacity",
         "range": [
          0.85,
          1
         ],
         "reverse": true,
         "type": "linear"
        }
       ],
       "signals": [
        {
         "bind": {
          "input": "range",
          "max": 2018,
          "min": 1961,
          "step": 1
         },
         "name": "year",
         "value": 2018
        }
       ],
       "width": 500
      },
      "image/png": "[encoded data removed]"
     },
     "metadata": {},
     "output_type": "display_data"
    }
   ],
   "source": [
    "vega_view=dict(spec)\n",
    "vega_view['legends'][0]['labelFont'] = 'Arial'\n",
    "vega_view['legends'][0]['titleFont'] = 'Arial'\n",
    "vega_view['data'][0]['url']= vega_view['data'][0]['url'].replace('{{geostore_env}}','geostore_prod')\n",
    "vega_view['data'][0]['url'] = vega_view['data'][0]['url'].replace('{{geostore_id}}','f653d0a434168104f4bdcdf8c712d079')\n",
    "Vega(vega_view)"
   ]
  },
  {
   "cell_type": "markdown",
   "metadata": {},
   "source": [
    "[Open the Chart in the Vega Editor](https://vega.github.io/editor/#/url/vega/N4IgJAzgxgFgpgWwIYgFwhgF0wBwqgegIDc4BzJAOjIEtMYBXAI0poHsDp5kTykSArJQBWENgDsQAGhAATONABONHJnaT0AQXEACOAA8kCHABs4OtgDMdSHRBxIocALSWGJkzXFkdipLJokEx0TJABPNgZMHUs2RR0YGjg-RVgaKCCdWSRMKmkQAHcaWXo0AQAGcpl4GjIsNABmSpkHWQDvMpkkKLYIGgAvODQQVvy+snEgiDQAbVBJhCH0MLgkRXziIIYlgCZygEYADhkmL1k0UC8cKOG-byGZBC80fYBOADZ9x6R9ND2jmQQTBwHAvAC+YKk8yMSxAUEi4kwijCGy2sIAwgB5AAy+VO4nOqEu4mumGGEDgZigZJkbFU6mmqBmIAAQgAlTT5ACSABEAHL5LG4mQAUQAKgAJfIAWRFAA1uXyefkRQBlMWCiUCmQAcXZ+T52OVMjFAFU2flTarOTIAFIABQFAF0IU6ZNlcrNoYthrkmGZ8gxFCZhlhcPgiAVlM5FAVKBlFJg2PG2AgCEgcDQSDtOABHEwAflzAF4dKqRdiReixTZPEgIKwxDYIDpaLIAPpVLI5KhrVZSHQrNYDuiIZs6YoDhyKOCIgd9QYDzYmbbjnCKNjArwDpCTExhPoQdsZYFkOJhKcb2QMak6ABibMx0p0AApy5XqzoAFT3x-P2JsJ2nztrG+ztv62ztgBHYQAwOCmGE7ZwAEmAAJTdrkOhcnyfIimyOi2pi2EWAU7ZBIEfTeMeCJIkkLaaKqtYUTomJ8kx9aUOR9Y6KWHq9jOtiYmyPJ4ToLIAJo2HuB40EeJ7kOeOgMeiI6yEpqrovksSKMgZJEiAmBhDgsKiBI+TrnSySGbcbAFNMkIGXcEDaQgXoGUZsKWDQJjAusMgGOuwwegwCDUMUnY8aW8IMIiyIgJCoCGcZwxeT5yT5AF6zoMFoVDooxbFnl8VQu5yXoECfhqJYKIyAA1nAKLoMU5l9oiADSDXDNOs5kglpWwtOahqGZMheZShIgAuDyTXEemgGNJiEsyu5BDJck5ApcUuoCAxLHMk21Huww7N+Oj2lyxWgOMR3oEUJQwAQAAs8VuiA9azG95T5IoX1dPs33-e6IKlDIaSLTOkiva07RkGg5Rgi6r3QEEChuQssJmGQs7nDISWwnE7RBPksipkgzxMiAYqbpk0F2HBCH5PaM4QLBM7OFj4jJDkXhkAOoQEs4YhBk4anQdMMiYk4u6C5EqTITEbBsLI4sgJi9DJCEu6yDLwvy2LICvXcWMfQAxJYDRMDsOyvPkZsCFArwNCgMgmzs7wAOzlEgAi23AhyyAIrwoNt3qwhBqO4x5wyeJzazE6T5OgHxvpIP600LRN8iqDAxUgEbe0gK7Htez7LsNLI7uWEg00mwIDSHJYTDu7b7yvK8lhQF9r0k8gXjSuTXx53ApCKBSaBVyYFJ9ejwxkDOB75HjwwE14RPugnGhJz2Kdp1pSSLUFwM5w5+em5YOxwDslu25Y7twK8TA1x3ljlBkvv+4HwfTzCy-5yrS-oBjqsPycgN4XDkNvdAfoAyjX3pnI+udT4UzNhbK2NsXaWEelAfYj1AaF0sPbR2zt8HvADo9Z6GD3hwHKI9IY3cN79w0IPGcI8x6oAnlPEqM90B0kcHQGq-Vo5eGAfHXum8IGeiganGBIAM6H2zrnHuZNxCMJeDIFhyQ2FIm2Oo3cxsmTlEoIcAQUh9iI2+IoWqjJ9oALeqkLSG5XL6WTlI3eDlZzwnkOAnq6V9K-H0tdImt1ij0AIA0XOjUrqHSCRgOAtQsAEB2LnfoZwDDgOXNscEtIHBQH4W5YEQJfQKEwC+Agqo4DwgJGsMIBABw5UoBZa81JUKohXEsQxAg+oZKWPsBGsCPBuWRgGAJ0SQzoBfPUla+5DzHg2meZEkVSwAHI1bwHiNiLWzhVSyxFveRWyslk6ALDoJZc8GoQCWagDCIVOLSRmfJeZYRFknMlqscQWydnyzvPsi5RyTnh1+VcpZcQ9EKCWS0hycjsoIL6QZRWPkVDgMCWMyapg6ATJyDcycSz2zgpmOUJ0OgADUr56kWS3LoY5lyTnEoVjpHIL4MWYBueSuJ4hUIDiWZQfYlhwW0sOWQAgGRMy5AINkMIhygXgvig5OCHolhXVyImbQZBhnzTgcMJAX13EEhVWq2RGr0BIH+g5LwnNFBsn8DQBgjJ1XjVuNq2kURkiWoCDa8BUK84msBEiNg9V0lomGAURIwJc4VT9XAAA6iEnO+lulw0oJ0mQKSCRpLjYG1AvSHIwDYCPJFvr-XprabcZCYaC1RpjQG4tqAdgORTfIfxoB42oHhhCWFmNsbWMSnQYZzJtm6xbFYM6G4KUG1pMoHqwxxASGmh2gkCoRkTBiXdegX5KDvB9g5OdshxJItGaGOJdRMBrueg5WxEAwgICYGwEM-SUXbsXj2uA3zESql2nupdKKV0PUeo6gyT6X16RAJoZQa8QChEfiYQDb7BgfpuoUGNBAKi5wg5SQDwwQOBFvXCTwOAJSHvqJm94-lxCeIVeB1OlJbUgC8L5RwahSBoG0XAEjvlwFJhvWoUEi74P1NQyGCEMg5UbQ9d5MZTaM0gDOSiQTGBc2+PVQMotmT0BeRnEwZQUBaoyrbS6IAA)"
   ]
  },
  {
   "cell_type": "markdown",
   "metadata": {},
   "source": [
    "# Indicator"
   ]
  },
  {
   "cell_type": "markdown",
   "metadata": {},
   "source": [
    "## Rank"
   ]
  },
  {
   "cell_type": "markdown",
   "metadata": {},
   "source": [
    "Query:\n",
    "```sql\n",
    "SELECT \n",
    "    CONCAT(rank, ' of ', max_rank) \n",
    "    FROM (\n",
    "        SELECT \n",
    "            gid_0,\n",
    "            geostore_prod, \n",
    "            rank, \n",
    "            MAX(rank) OVER (PARTITION BY true) AS max_rank \n",
    "        FROM (\n",
    "            SELECT \n",
    "                gid_0,\n",
    "                geostore_prod,  \n",
    "                RANK() OVER(ORDER BY prop DESC) as rank \n",
    "            FROM (\n",
    "                SELECT \n",
    "                    area, \n",
    "                    SUM(\n",
    "                    CASE\n",
    "                        WHEN item = 'Ocean-Sourced Foods' THEN value \n",
    "                        ELSE 0\n",
    "                    END)/\n",
    "                    NULLIF(\n",
    "                        SUM(\n",
    "                            CASE\n",
    "                                WHEN item = 'Grand Total' THEN value\n",
    "                                ELSE 0\n",
    "                            END),0) prop\n",
    "                FROM foo_061_rw1_blue_food_supply_edit \n",
    "                WHERE year = 2018 GROUP BY area) data \n",
    "            LEFT JOIN ow_aliasing_countries AS alias ON alias.alias = data.area \n",
    "\t\t\tLEFT JOIN gadm36_0 gadm ON alias.iso = gadm.gid_0 \n",
    "          \tWHERE prop is not null AND coastal = true) ranked\n",
    "    GROUP BY rank, geostore_prod, gid_0) max_rank\n",
    "WHERE gadm.{{geostore_env}} ILIKE '{{geostore_id}}'\n",
    "```"
   ]
  },
  {
   "cell_type": "markdown",
   "metadata": {},
   "source": [
    "- ```description```:\n",
    "- ```query```: [https://wri-rw.carto.com/api/v2/sql?q=SELECT CONCAT(rank, ' of ', max_rank) AS rank FROM (SELECT gid_0, geostore_prod,rank, MAX(rank) OVER (PARTITION BY true) AS max_rank FROM (SELECT gid_0, geostore_prod,RANK() OVER(ORDER BY prop DESC) as rank FROM (SELECT area, SUM(CASE WHEN item = 'Ocean-Sourced Foods' THEN value ELSE 0 END)/NULLIF(SUM(CASE WHEN item = 'Grand Total' THEN value ELSE 0 END),0) prop FROM foo_061_rw1_blue_food_supply_edit WHERE year = 2018 GROUP BY area) data LEFT JOIN ow_aliasing_countries AS alias ON alias.alias = data.area LEFT JOIN gadm36_0 gadm ON alias.iso = gadm.gid_0 WHERE prop is not null AND coastal = true) ranked GROUP BY rank, geostore_prod, gid_0) max_rank WHERE {{geostore_env}} ILIKE '{{geostore_id}}'](https://wri-rw.carto.com/api/v2/sql?q=SELECT%20CONCAT(rank,%20%27%20of%20%27,%20max_rank)%20AS%20rank%20FROM%20(SELECT%20gid_0,%20geostore_prod,rank,%20MAX(rank)%20OVER%20(PARTITION%20BY%20true)%20AS%20max_rank%20FROM%20(SELECT%20gid_0,%20geostore_prod,RANK()%20OVER(ORDER%20BY%20prop%20DESC)%20as%20rank%20FROM%20(SELECT%20area,%20SUM(CASE%20WHEN%20item%20=%20%27Ocean-Sourced%20Foods%27%20THEN%20value%20ELSE%200%20END)/NULLIF(SUM(CASE%20WHEN%20item%20=%20%27Grand%20Total%27%20THEN%20value%20ELSE%200%20END),0)%20prop%20FROM%20foo_061_rw1_blue_food_supply_edit%20WHERE%20year%20=%202018%20GROUP%20BY%20area)%20data%20LEFT%20JOIN%20ow_aliasing_countries%20AS%20alias%20ON%20alias.alias%20=%20data.area%20LEFT%20JOIN%20gadm36_0%20gadm%20ON%20alias.iso%20=%20gadm.gid_0%20WHERE%20prop%20is%20not%20null%20AND%20coastal%20=%20true)%20ranked%20GROUP%20BY%20rank,%20geostore_prod,%20gid_0)%20max_rank%20WHERE%20gid_0%20ILIKE%20%27MEX%27)\n"
   ]
  },
  {
   "cell_type": "markdown",
   "metadata": {},
   "source": [
    "## Value"
   ]
  },
  {
   "cell_type": "markdown",
   "metadata": {},
   "source": [
    "Description: Blue protein as a proportion of total protein"
   ]
  },
  {
   "cell_type": "markdown",
   "metadata": {},
   "source": [
    "Query:\n",
    "``` sql\n",
    "SELECT SUM(ocean_value)/NULLIF(SUM(total_value),0)*100 AS value FROM (SELECT area, year, item, CASE\n",
    "\tWHEN item = 'Ocean-Sourced Foods' THEN value \n",
    "    ELSE 0\n",
    "    END ocean_value,\n",
    "CASE\n",
    "    WHEN item = 'Grand Total' THEN value\n",
    "    ELSE 0\n",
    "    END total_value\n",
    "FROM foo_061_rw1_blue_food_supply_edit \n",
    "WHERE year = 2018) data\n",
    "LEFT JOIN ow_aliasing_countries AS alias ON alias.alias = data.area \n",
    "LEFT JOIN gadm36_0 gadm ON alias.iso = gadm.gid_0 \n",
    "WHERE gadm.{{geostore_env}} ILIKE '{{geostore_id}}'\n",
    "GROUP by area\n",
    "```"
   ]
  },
  {
   "cell_type": "markdown",
   "metadata": {},
   "source": [
    "- ```description```:\n",
    "- ```query```: [https://wri-rw.carto.com/api/v2/sql?q=SELECT SUM(ocean_value)/NULLIF(SUM(total_value),0)*100 AS value FROM (SELECT area, year, item, CASE WHEN item = 'Ocean-Sourced Foods' THEN value ELSE 0 END ocean_value, CASE WHEN item = 'Grand Total' THEN value ELSE 0 END total_value FROM foo_061_rw1_blue_food_supply_edit WHERE year = 2018) data LEFT JOIN ow_aliasing_countries AS alias ON alias.alias = data.area LEFT JOIN gadm36_0 gadm ON alias.iso = gadm.gid_0 WHERE gadm.{{geostore_env}} ILIKE '{{geostore_id}}' GROUP by area](https://wri-rw.carto.com/api/v2/sql?q=SELECT%20SUM(ocean_value)/NULLIF(SUM(total_value),0)%20AS%20value%20FROM%20(SELECT%20area,%20year,%20item,%20CASE%20WHEN%20item%20=%20%27Ocean-Sourced%20Foods%27%20THEN%20value%20ELSE%200%20END%20ocean_value,%20CASE%20WHEN%20item%20=%20%27Grand%20Total%27%20THEN%20value%20ELSE%200%20END%20total_value%20FROM%20foo_061_rw1_blue_food_supply_edit%20WHERE%20year%20=%202018)%20data%20LEFT%20JOIN%20ow_aliasing_countries%20AS%20alias%20ON%20alias.alias%20=%20data.area%20LEFT%20JOIN%20gadm36_0%20gadm%20ON%20alias.iso%20=%20gadm.gid_0%20WHERE%20gadm.gid_0%20ILIKE%20%27MEX%27%20GROUP%20by%20area)\n",
    "- ```format```: ```.2f```\n",
    "- ```unit```: %"
   ]
  },
  {
   "cell_type": "markdown",
   "metadata": {},
   "source": [
    "## RW API"
   ]
  },
  {
   "cell_type": "markdown",
   "metadata": {},
   "source": [
    "- [back office](https://resourcewatch.org/admin/data/widgets/731293a0-b92f-4804-b59c-69a1d794ad73/edit?dataset=9e1b3cad-db6f-44b0-b6fb-048df7b6c680)\n",
    "- parent dataset [foo_061](https://resourcewatch.org/data/explore/9e1b3cad-db6f-44b0-b6fb-048df7b6c680) \n",
    "- dataset id ```9e1b3cad-db6f-44b0-b6fb-048df7b6c680```\n",
    "- widget id: ```731293a0-b92f-4804-b59c-69a1d794ad73```"
   ]
  },
  {
   "cell_type": "raw",
   "metadata": {},
   "source": []
  },
  {
   "cell_type": "code",
   "execution_count": null,
   "metadata": {},
   "outputs": [],
   "source": []
  }
 ],
 "metadata": {
  "kernelspec": {
   "display_name": "Python 3",
   "language": "python",
   "name": "python3"
  },
  "language_info": {
   "codemirror_mode": {
    "name": "ipython",
    "version": 3
   },
   "file_extension": ".py",
   "mimetype": "text/x-python",
   "name": "python",
   "nbconvert_exporter": "python",
   "pygments_lexer": "ipython3",
   "version": "3.7.7"
  }
 },
 "nbformat": 4,
 "nbformat_minor": 4
}
