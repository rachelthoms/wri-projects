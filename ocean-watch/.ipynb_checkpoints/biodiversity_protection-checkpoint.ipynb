{
 "cells": [
  {
   "cell_type": "markdown",
   "metadata": {},
   "source": [
    "# Biodiversity Protection"
   ]
  },
  {
   "cell_type": "markdown",
   "metadata": {},
   "source": [
    "Protection of Area of Key Biodiversity Areas (KBAs)"
   ]
  },
  {
   "cell_type": "markdown",
   "metadata": {},
   "source": [
    "*Author: Rachel Thoms\n",
    "<br>Created: 03 Sept 2021\n",
    "<br>Environment: jupyterlab*"
   ]
  },
  {
   "cell_type": "markdown",
   "metadata": {},
   "source": [
    "## Style"
   ]
  },
  {
   "cell_type": "markdown",
   "metadata": {},
   "source": [
    "- Vega chart\n",
    "- Chart type: Pie chart\n",
    "- Value: Mean % of each Key Biodiversity Area that is covered by protected areas "
   ]
  },
  {
   "cell_type": "markdown",
   "metadata": {},
   "source": [
    "## Data"
   ]
  },
  {
   "cell_type": "markdown",
   "metadata": {},
   "source": [
    "- Data: [ocn_024](https://resourcewatch.carto.com/u/wri-rw/dataset/ocn_024a_rw0_key_biodiversity_area_protection)\n",
    "- Resource Watch: [unpublished](https://resourcewatch.org/data/explore/0b077461-6214-42dd-b9af-4ef4a0af70b9)\n",
    "- Sources: \n",
    "    - KBAs - BirdLife International (MVP)\n",
    "        - Requested [geospatial data](http://www.keybiodiversityareas.org/kba-data) was provided as [zipped shapefile](https://birdlife-my.sharepoint.com/personal/tom_lambert_birdlife_org/_layouts/15/onedrive.aspx?id=%2Fpersonal%2Ftom%5Flambert%5Fbirdlife%5Forg%2FDocuments%2FKBAsGlobal%5F2021%5FMarch%5F01%2E7z&parent=%2Fpersonal%2Ftom%5Flambert%5Fbirdlife%5Forg%2FDocuments&originalPath=aHR0cHM6Ly9iaXJkbGlmZS1teS5zaGFyZXBvaW50LmNvbS86dTovZy9wZXJzb25hbC90b21fbGFtYmVydF9iaXJkbGlmZV9vcmcvRWRJY2JObXRVQWxPcG5kbU44aldXdUVCVmY5S3NqVTEya2F6QjM5ZU9RMW9YQT9ydGltZT1YT3lNSmgxdjJVZw) and was saved to [OneDrive](https://onewri.sharepoint.com/:u:/s/WRI_ocean/EWNPnH_5AfNHgqudicEDam8BD6MWNNUWjo_eCrVPhgBerA?e=dfWEww) \n",
    "        - Requested statistical data was provided as a csv and saved to [OneDrive](https://onewri.sharepoint.com/:x:/s/WRI_ocean/EYQus7OwCDVIpQhSEnqkGrEBbWgCyVJDxNgvVtWeEAqERg?e=Ekd7tp).\n",
    "        - Metadata saved to [OneDrive](https://onewri.sharepoint.com/:w:/s/WRI_ocean/EUSUzvqUuI9AsfZbzd7hMi0B1CEi4mw8TkHuqvS4cWGMKQ?e=aIUebb)\n",
    "    - EBSAs - [Convention on Biological Diversity](https://www.cbd.int/ebsa/) via the [The Clearing-House Mechanism of the Convention on Biological Diversity (CHM)](https://chm.cbd.int/database)\n",
    "        - *too be incorporated post MVP*"
   ]
  },
  {
   "cell_type": "markdown",
   "metadata": {},
   "source": [
    "## Preparation"
   ]
  },
  {
   "cell_type": "markdown",
   "metadata": {},
   "source": [
    "### Processing"
   ]
  },
  {
   "cell_type": "markdown",
   "metadata": {},
   "source": [
    "Data was uploaded for stoarge on Carto using a python script. See the script [here](https://github.com/rachelthoms/wri-projects/blob/main/ocean-watch/processing-scripts/biodiversity-protection/KBA/kba-processing.py)."
   ]
  },
  {
   "cell_type": "markdown",
   "metadata": {},
   "source": [
    "## Vega"
   ]
  },
  {
   "cell_type": "code",
   "execution_count": 2,
   "metadata": {},
   "outputs": [],
   "source": [
    "import json\n",
    "from vega import Vega\n",
    "from IPython.display import display"
   ]
  },
  {
   "cell_type": "code",
   "execution_count": 3,
   "metadata": {},
   "outputs": [],
   "source": [
    "def Vega(spec):\n",
    "    bundle = {}\n",
    "    bundle['application/vnd.vega.v5+json'] = spec\n",
    "    display(bundle, raw=True)"
   ]
  },
  {
   "cell_type": "code",
   "execution_count": 4,
   "metadata": {},
   "outputs": [],
   "source": [
    "widget_width = 500\n",
    "widget_height = 200"
   ]
  },
  {
   "cell_type": "markdown",
   "metadata": {},
   "source": [
    "### Queries"
   ]
  },
  {
   "cell_type": "markdown",
   "metadata": {},
   "source": [
    "#### Testing Version"
   ]
  },
  {
   "cell_type": "markdown",
   "metadata": {},
   "source": [
    "```gadm.geostore_prod ILIKE 'ca5bfde08587530e76c17fe48362a01d'``` used as stand-in for parameterized ```gadm.{{geostore_env}}='{{geostore_id}}'``` in production version"
   ]
  },
  {
   "cell_type": "markdown",
   "metadata": {},
   "source": [
    "```sql\n",
    "SELECT gadm.gid_0, gadm.name_0, timeperiod, value FROM ocn_024a_rw0_key_biodiversity_area_protection AS data \n",
    "INNER JOIN ow_aliasing_countries AS alias ON alias.alias = data.geoareaname\n",
    "INNER JOIN gadm36_0 gadm ON alias.iso = gadm.gid_0\n",
    "WHERE gadm.geostore_prod ILIKE 'ca5bfde08587530e76c17fe48362a01d'\n",
    "```"
   ]
  },
  {
   "cell_type": "markdown",
   "metadata": {},
   "source": [
    "#### Parameterized Version"
   ]
  },
  {
   "cell_type": "markdown",
   "metadata": {},
   "source": [
    "```sql\n",
    "SELECT gadm.gid_0, gadm.name_0, timeperiod AS year, value FROM ocn_024a_rw0_key_biodiversity_area_protection AS data INNER JOIN ow_aliasing_countries AS alias ON alias.alias = data.geoareaname INNER JOIN gadm36_0 gadm ON alias.iso = gadm.gid_0 WHERE gadm.{{geostore_env}} ILIKE '{{geostore_id}}'\n",
    "```"
   ]
  },
  {
   "cell_type": "markdown",
   "metadata": {},
   "source": [
    "### Visualization"
   ]
  },
  {
   "cell_type": "code",
   "execution_count": 27,
   "metadata": {},
   "outputs": [],
   "source": [
    "spec=json.loads(\"\"\"{\n",
    "  \"$schema\": \"https://vega.github.io/schema/vega/v5.json\",\n",
    "  \"padding\": 5,\n",
    "  \"height\": 200,\n",
    "  \"width\": 500,\n",
    "  \"data\": [\n",
    "    {\n",
    "      \"name\": \"table\",\n",
    "      \"url\": \"https://wri-rw.carto.com/api/v2/sql?q= SELECT gadm.gid_0, gadm.name_0, timeperiod AS year, value FROM ocn_024a_rw0_key_biodiversity_area_protection AS data INNER JOIN ow_aliasing_countries AS alias ON alias.alias = data.geoareaname INNER JOIN gadm36_0 gadm ON alias.iso = gadm.gid_0 WHERE gadm.{{geostore_env}} ILIKE '{{geostore_id}}'\",\n",
    "      \"format\": {\"type\": \"json\", \"property\": \"rows\"},\n",
    "      \"transform\": [\n",
    "        {\"type\": \"filter\", \"expr\": \"datum.year === Year\"},\n",
    "        {\n",
    "          \"type\": \"formula\",\n",
    "          \"expr\": \"format((100-datum.value), '.1f')\",\n",
    "          \"as\": \"Unprotected\"\n",
    "        },\n",
    "        {\n",
    "          \"type\": \"formula\",\n",
    "          \"expr\": \"format(datum.value, '.1f')\",\n",
    "          \"as\": \"Protected\"\n",
    "        },\n",
    "        {\"type\": \"fold\", \"fields\": [\"Protected\", \"Unprotected\"], \"as\":[\"category\",\"value\"]},\n",
    "        {\n",
    "          \"type\": \"formula\",\n",
    "          \"expr\": \"datum.value/100\",\n",
    "          \"as\": \"proportion\"\n",
    "        },\n",
    "        {\n",
    "          \"type\": \"collect\",\n",
    "          \"sort\": {\"field\": [\"category\"], \"order\": [\"descending\"]}\n",
    "        },\n",
    "        {\"type\": \"pie\", \"field\": \"value\", \"sort\": false}\n",
    "      ]\n",
    "    }\n",
    "  ],\n",
    "  \"signals\": [\n",
    "    {\n",
    "      \"name\": \"Year\",\n",
    "      \"value\": 2020,\n",
    "      \"bind\": {\"input\": \"range\", \"min\": 2000, \"max\": 2020, \"step\": 1}\n",
    "    },\n",
    "    {\n",
    "      \"name\": \"active_value\",\n",
    "      \"value\": \"\",\n",
    "      \"on\": [\n",
    "        {\"events\": \"*:mouseover\", \"update\": \"datum.value\"},\n",
    "        {\"events\": \"*:mouseout\", \"update\": \"null\"}\n",
    "      ]\n",
    "    },\n",
    "    {\n",
    "      \"name\": \"active_key\",\n",
    "      \"value\": \"\",\n",
    "      \"on\": [\n",
    "        {\"events\": \"*:mouseover\", \"update\": \"datum.category\"},\n",
    "        {\"events\": \"*:mouseout\", \"update\": \"null\"}\n",
    "      ]\n",
    "    }\n",
    "  ],\n",
    "  \"scales\": [\n",
    "    {\n",
    "      \"name\": \"color\",\n",
    "      \"type\": \"ordinal\",\n",
    "      \"domain\": {\"data\": \"table\", \"field\": \"category\"},\n",
    "      \"range\": [\"#e4e7eb\", \"#235487\"]\n",
    "    }\n",
    "  ],\n",
    "  \"marks\": [\n",
    "    {\n",
    "      \"type\": \"arc\",\n",
    "      \"from\": {\"data\": \"table\"},\n",
    "      \"encode\": {\n",
    "        \"enter\": {\n",
    "          \"fill\": {\"scale\": \"color\", \"field\": \"category\"},\n",
    "          \"x\": {\"signal\": \"width/ 2\"},\n",
    "          \"y\": {\"signal\": \"height/ 2\"}\n",
    "        },\n",
    "        \"update\": {\n",
    "          \"startAngle\": {\"field\": \"startAngle\"},\n",
    "          \"endAngle\": {\"field\": \"endAngle\"},\n",
    "          \"padAngle\": {\"value\": 0},\n",
    "          \"innerRadius\": {\"value\": 0},\n",
    "          \"outerRadius\": {\"signal\": \"width / 3\"},\n",
    "          \"cornerRadius\": {\"value\": 0},\n",
    "          \"stroke\": {\"value\": \"white\"},\n",
    "          \"strokeWidth\": {\"value\": 0},\n",
    "          \"fillOpacity\": {\"value\": 1}\n",
    "        },\n",
    "        \"hover\": {\n",
    "          \"fillOpacity\": {\"value\": 0.7},\n",
    "          \"zindex\": {\"value\": 0}\n",
    "        }\n",
    "      }\n",
    "    }\n",
    "  ],\n",
    "  \"legends\": [\n",
    "    {\n",
    "      \"orient\": \"right\",\n",
    "      \"type\": \"symbol\",\n",
    "      \"fill\": \"color\",\n",
    "      \"labelFontSize\": 14,\n",
    "      \"labelFont\": \"Lato\",\n",
    "      \"encode\": {\n",
    "        \"labels\": {\n",
    "          \"interactive\": true, \n",
    "          \"enter\": {\n",
    "            \"fillOpacity\": {\"value\": 1}\n",
    "          },\n",
    "          \"update\": {\n",
    "            \"fillOpacity\": [{\"test\": \"active_key === 'Protected' && datum.label != 'Protected' \",\"value\": 0.1}, {\"test\": \"active_key === 'Unprotected' && datum.label != 'Unprotected' \",\"value\": 0.1}, {\"value\": 1}]\n",
    "          }\n",
    "        }\n",
    "      }\n",
    "    }\n",
    "  ],\n",
    "    \"interaction_config\": [\n",
    "    {\n",
    "      \"name\": \"tooltip\",\n",
    "      \"config\": {\n",
    "        \"fields\": [\n",
    "          {\n",
    "            \"column\": \"proportion\",\n",
    "            \"property\": \"Average proportion of KBAs\",\n",
    "            \"type\": \"number\",\n",
    "            \"format\": \".1%\"\n",
    "          }\n",
    "        ]\n",
    "      }\n",
    "    }\n",
    "  ]\n",
    "}\"\"\")\n"
   ]
  },
  {
   "cell_type": "code",
   "execution_count": 44,
   "metadata": {},
   "outputs": [
    {
     "data": {
      "application/vnd.vega.v5+json": {
       "$schema": "https://vega.github.io/schema/vega/v5.json",
       "data": [
        {
         "format": {
          "property": "rows",
          "type": "json"
         },
         "name": "table",
         "transform": [
          {
           "expr": "datum.year === Year",
           "type": "filter"
          },
          {
           "as": "Unprotected",
           "expr": "format((100-datum.value), '.1f')",
           "type": "formula"
          },
          {
           "as": "Protected",
           "expr": "format(datum.value, '.1f')",
           "type": "formula"
          },
          {
           "as": [
            "category",
            "value"
           ],
           "fields": [
            "Protected",
            "Unprotected"
           ],
           "type": "fold"
          },
          {
           "as": "proportion",
           "expr": "datum.value/100",
           "type": "formula"
          },
          {
           "sort": {
            "field": [
             "category"
            ],
            "order": [
             "descending"
            ]
           },
           "type": "collect"
          },
          {
           "field": "value",
           "sort": false,
           "type": "pie"
          }
         ],
         "url": "https://wri-rw.carto.com/api/v2/sql?q= SELECT gadm.gid_0, gadm.name_0, timeperiod AS year, value FROM ocn_024a_rw0_key_biodiversity_area_protection AS data INNER JOIN ow_aliasing_countries AS alias ON alias.alias = data.geoareaname INNER JOIN gadm36_0 gadm ON alias.iso = gadm.gid_0 WHERE gadm.geostore_prod ILIKE 'ca5bfde08587530e76c17fe48362a01d'"
        }
       ],
       "height": 200,
       "interaction_config": [
        {
         "config": {
          "fields": [
           {
            "column": "proportion",
            "format": ".1%",
            "property": "Average proportion of KBAs",
            "type": "number"
           }
          ]
         },
         "name": "tooltip"
        }
       ],
       "legends": [
        {
         "encode": {
          "labels": {
           "enter": {
            "fillOpacity": {
             "value": 1
            }
           },
           "interactive": true,
           "update": {
            "fillOpacity": [
             {
              "test": "active_key === 'Protected' && datum.label != 'Protected' ",
              "value": 0.1
             },
             {
              "test": "active_key === 'Unprotected' && datum.label != 'Unprotected' ",
              "value": 0.1
             },
             {
              "value": 1
             }
            ]
           }
          }
         },
         "fill": "color",
         "labelFont": "Arial",
         "labelFontSize": 14,
         "orient": "right",
         "type": "symbol"
        }
       ],
       "marks": [
        {
         "encode": {
          "enter": {
           "fill": {
            "field": "category",
            "scale": "color"
           },
           "x": {
            "signal": "width/ 2"
           },
           "y": {
            "signal": "height/ 2"
           }
          },
          "hover": {
           "fillOpacity": {
            "value": 0.7
           },
           "zindex": {
            "value": 0
           }
          },
          "update": {
           "cornerRadius": {
            "value": 0
           },
           "endAngle": {
            "field": "endAngle"
           },
           "fillOpacity": {
            "value": 1
           },
           "innerRadius": {
            "value": 0
           },
           "outerRadius": {
            "signal": "width / 2"
           },
           "padAngle": {
            "value": 0
           },
           "startAngle": {
            "field": "startAngle"
           },
           "stroke": {
            "value": "white"
           },
           "strokeWidth": {
            "value": 0
           }
          }
         },
         "from": {
          "data": "table"
         },
         "type": "arc"
        }
       ],
       "padding": 5,
       "scales": [
        {
         "domain": {
          "data": "table",
          "field": "category"
         },
         "name": "color",
         "range": [
          "#e4e7eb",
          "#0988a3"
         ],
         "type": "ordinal"
        }
       ],
       "signals": [
        {
         "bind": {
          "input": "range",
          "max": 2020,
          "min": 2000,
          "step": 1
         },
         "name": "Year",
         "value": 2020
        },
        {
         "name": "active_value",
         "on": [
          {
           "events": "*:mouseover",
           "update": "datum.value"
          },
          {
           "events": "*:mouseout",
           "update": "null"
          }
         ],
         "value": ""
        },
        {
         "name": "active_key",
         "on": [
          {
           "events": "*:mouseover",
           "update": "datum.category"
          },
          {
           "events": "*:mouseout",
           "update": "null"
          }
         ],
         "value": ""
        }
       ],
       "width": 500
      },
      "image/png": "[encoded data removed]"
     },
     "metadata": {},
     "output_type": "display_data"
    }
   ],
   "source": [
    "vega_view=dict(spec)\n",
    "vega_view['width']= widget_width\n",
    "vega_view['height']= widget_height\n",
    "vega_view['legends'][0]['labelFont'] = 'Arial'\n",
    "vega_view['data'][0]['url']= vega_view['data'][0]['url'].replace('{{geostore_env}}','geostore_prod')\n",
    "vega_view['data'][0]['url'] = vega_view['data'][0]['url'].replace('{{geostore_id}}','ca5bfde08587530e76c17fe48362a01d')\n",
    "Vega(vega_view)"
   ]
  },
  {
   "cell_type": "markdown",
   "metadata": {},
   "source": [
    "[Open the Chart in the Vega Editor](https://vega.github.io/editor/#/url/vega/N4IgJAzgxgFgpgWwIYgFwhgF0wBwqgegIDc4BzJAOjIEtMYBXAI0poHsDp5kTykSArJQBWENgDsQAGhAB3GgBN6aAQAZVM+DTJY0AJnUycSBQpriyKmQqSYUqANqhxSBHDQg7TADbuZDACdvDyxcfCJZAJoAWgDZSigkAMw2BLYEAiQcGhI9TgBHbwB+fIBeAAIAZQBRABlqgGEAFXKKBQRqRQB9DVaTDpc3HqlyzBo3HDgotgVygEFK8oBPOCSR4iRvBjhygDEAJQB5AFlytihxHr0AFiQuuNUugGs4Ja6mdjNSAIg6N6TVl0cAE2Jg4FAxhJ5osbHZygBJAByiOq+3KAClDkizrIupsaEhfhYulA2AxxJgonAINDyvjCeVDoi6d4CRBKPSaRVYVQyHA2ACkIMdkiUWjMdi2ggAMwANh6fXajOZnNYYnKFSlnQUCoA6gAJVHVRUdPlsCApAJwIEg2bw2rwgDSxoA5IkBEwAGYKOCqAAcAj9AHYBNLVHAg7KoABGIOeuDXP1yvRIVTRhQu6QgT1sALITBoUCYJaTDyiCRZ4FsSbJJYeEGyCAgAC+MkpQogObzaCcnhL7nQnpo3jBASzcAAHsCPLCGB0VkkNaUKgBNVZj1tF-seLsIBjeFAySfTwe5-MACnP0fU0VnHQ2WzgAEoRi7KNHPS6n1nCR4AKriFWYIQnACgtlIW6lqeeb7oeIDHmO0EXnelAPtsr7vp+34yL+6AAAogsBYJgZufZQdmbDeGBMhDnAVFNo4IAEaC4LEVmAFAaxoEgAAuqRxbkaS3i+BCWZiMkhbZjQdFgYxLx1jxMi5j6iEOCAPrQHA4hmBYvHNvx27oNkfhSTJHhoSZ4kFqgnqbBAcDNnxikgL8ZAuN4DG9sKHhrkkWYWfoqgGDIHzaZJ5g4Aw1kgAEQp8lmCDmIFhggMgE6BcFLlgjgaDRvpEEgN56BIBCNCkF0AUyAF6BZhWjigHApAUgxIAAFSoAgZL2Ww3xZgwOCwgO6m2HOqGbNs4ENU1mAte1nUMN1UV9QNthDeI+7BI5pFFSAJVjOV8n+eNQ21ZI9XwdNs0dV1-K9f4K1gjOI0dIdpGNVpM0eHNN1kgW92DR463CS2TkyNAmzUj2ziuENQm5lmAlDcp5ibFmCjpEgSWoKAPIeF4vhZrRVEeK9MixRYA5qQAxAmEZwEwWZU6oACcfp+kg0p6c5yABE8nmQUNSRQITIIIJJuPoPj7itvB4ikj6kkfVMklDsD2MuYkBPoHDY40dJxPoKTIDperrnuR48hKDABDlHo4EgHWpvaOb6BaDomA23bMspJRYw5U7bmo+gwAunM3xIHy5RVjguaQuIZyeuUjqvOUABCnxlVMvzFvMVqEi6qDlChFnlAA1OULoAKQus2LYy-1AOm3YyRzBYWugETslZUkmCt2QBMy1pCh9+3pkG7Lw9t9LRgmCPA6gNVqgy+Y4hTPsJg0AtkmLzLv1rxvW8By7ciKPQ5Se-bpIBKvATr2Yh8L8daBL2DlJsC829P+gsgwHQ09ZSCF4upT4wE-o+Z+MtVbeEOMYKAfwwETVQHlGWMAerK3VlAmBJV4Hq0XpQIMMsABe5gfQm0fuA1AS99KORkL4Pk2l+YgFzNJCk9ZtC6DbIZFySwEBMEooTYcwRtaUXhrQpATA6K7AkNFOYURUZiIkd4KRFJKg0EIQOaM1wjxyxmPPEAB5FEMVAOYUce1M5oEpOhWWo4VaCKwXA4sCCNH5RAA3VatjhL2Jwb2MEFoPBmIOinZcFQXTMSIqBF05QABkUSi7PUoAYui5QACEISwlcQzOUI6FDVDvn4tSaKATrTySXCEjihEMmRJiXEzAo1EneBSWUwCFSQKZOyYg3JeUCrVTynxahfEgA)"
   ]
  },
  {
   "cell_type": "markdown",
   "metadata": {},
   "source": [
    "# Indicator"
   ]
  },
  {
   "cell_type": "markdown",
   "metadata": {},
   "source": [
    "% of KBAs that are currently protected"
   ]
  },
  {
   "cell_type": "markdown",
   "metadata": {},
   "source": [
    "#### Formatted:\n",
    "```sql\n",
    "SELECT value FROM ocn_024a_rw0_key_biodiversity_area_protection \n",
    "INNER JOIN ow_aliasing_countries AS alias ON alias.alias = geoareaname\n",
    "INNER JOIN gadm36_0 gadm ON alias.iso = gadm.gid_0 \n",
    "WHERE timeperiod = 2020 AND gadm.{{geostore_env}} ILIKE '{{geostore_id}}'\n",
    "```\n",
    "#### Raw: \n",
    "`https://wri-rw.carto.com/api/v2/sql?q=SELECT ROUND(value) FROM ocn_024a_rw0_key_biodiversity_area_protection INNER JOIN ow_aliasing_countries AS alias ON alias.alias = geoareaname INNER JOIN gadm36_0 gadm ON alias.iso = gadm.gid_0 WHERE timeperiod = 2020 AND gadm.{{geostore_env}} ILIKE '{{geostore_id}}'`\n",
    "\n",
    "#### [Demo](https://wri-rw.carto.com/api/v2/sql?q=SELECT%20ROUND(value)%20FROM%20ocn_024a_rw0_key_biodiversity_area_protection%20INNER%20JOIN%20ow_aliasing_countries%20AS%20alias%20ON%20alias.alias%20=%20geoareaname%20INNER%20JOIN%20gadm36_0%20gadm%20ON%20alias.iso%20=%20gadm.gid_0%20WHERE%20timeperiod%20=%202020%20AND%20geostore_prod%20ILIKE%20%27ca5bfde08587530e76c17fe48362a01d%27)\n"
   ]
  },
  {
   "cell_type": "markdown",
   "metadata": {},
   "source": [
    "## RW Backoffice and API"
   ]
  },
  {
   "cell_type": "markdown",
   "metadata": {},
   "source": [
    "#### Dataset\n",
    "- dataset id ```0b077461-6214-42dd-b9af-4ef4a0af70b9```\n",
    "- parent dataset [unpublished](https://resourcewatch.org/data/explore/0b077461-6214-42dd-b9af-4ef4a0af70b9) \n",
    "\n",
    "#### Widget\n",
    "- widget id: ```9c1482d4-b196-49c5-a558-f25467f6ae50```\n",
    "- [API call](https://api.resourcewatch.org/v1/widget/9c1482d4-b196-49c5-a558-f25467f6ae50?env=production)\n",
    "- [back office](https://resourcewatch.org/admin/data/widgets/9c1482d4-b196-49c5-a558-f25467f6ae50/edit?dataset=0b077461-6214-42dd-b9af-4ef4a0af70b9)"
   ]
  }
 ],
 "metadata": {
  "kernelspec": {
   "display_name": "Python 3",
   "language": "python",
   "name": "python3"
  },
  "language_info": {
   "codemirror_mode": {
    "name": "ipython",
    "version": 3
   },
   "file_extension": ".py",
   "mimetype": "text/x-python",
   "name": "python",
   "nbconvert_exporter": "python",
   "pygments_lexer": "ipython3",
   "version": "3.7.7"
  }
 },
 "nbformat": 4,
 "nbformat_minor": 4
}
