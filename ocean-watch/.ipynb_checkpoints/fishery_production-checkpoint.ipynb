{
 "cells": [
  {
   "cell_type": "markdown",
   "metadata": {},
   "source": [
    "# Fishery Production"
   ]
  },
  {
   "cell_type": "markdown",
   "metadata": {},
   "source": [
    "Visualizing fishery production in tons by type (capture and aquaculture)"
   ]
  },
  {
   "cell_type": "markdown",
   "metadata": {},
   "source": [
    "*Author: Rachel Thoms\n",
    "<br>Created: 18 Aug 2021\n",
    "<br>Environment: jupyterlab*"
   ]
  },
  {
   "cell_type": "markdown",
   "metadata": {},
   "source": [
    "## Style"
   ]
  },
  {
   "cell_type": "markdown",
   "metadata": {},
   "source": [
    "- Vega chart\n",
    "- Stacked bar chart\n",
    "- Values - production quantity in tonnes by type (capture and aquaculture)"
   ]
  },
  {
   "cell_type": "markdown",
   "metadata": {},
   "source": [
    "## Data"
   ]
  },
  {
   "cell_type": "markdown",
   "metadata": {},
   "source": [
    "- Data: [ow_widget_territory](https://resourcewatch.carto.com/u/wri-rw/dataset/ow_widget_territory) (full dataset - [foo_062_rw0_fishery_production](https://resourcewatch.carto.com/u/wri-rw/dataset/foo_062_rw0_fishery_production_edit))\n",
    "- Resource Watch: [explore page](https://resourcewatch.org/data/explore/ac9c2f07-9f23-4a33-9958-e02c571ec009)\n",
    "- Source: [FAO Food Balance Sheets](http://www.fao.org/faostat/en/#data/FBS)"
   ]
  },
  {
   "cell_type": "markdown",
   "metadata": {},
   "source": [
    "## Preparation"
   ]
  },
  {
   "cell_type": "markdown",
   "metadata": {},
   "source": [
    "### Aliasing and Inserting Data"
   ]
  },
  {
   "cell_type": "markdown",
   "metadata": {},
   "source": [
    "#### Queries"
   ]
  },
  {
   "cell_type": "markdown",
   "metadata": {},
   "source": [
    "Query 1"
   ]
  },
  {
   "cell_type": "markdown",
   "metadata": {},
   "source": [
    "``` SQL\n",
    "INSERT INTO ow_widget_territory(section, widget, gid_0, name_0, variable, date, value, unit)\n",
    "SELECT 'goods_services' AS section, 'fishery production' AS widget, alias.iso AS gid_0, alias.name_0 AS name_0, data.variable AS variable, data.date AS date, data.value AS value, data.unit AS unit \n",
    "FROM (SELECT name_en, iso3_code, year as date, SUM(value) AS value , type as variable, unit FROM foo_062_rw0_fishery_production_edit WHERE measure = 'Q_tlw' GROUP BY name_en, iso3_code, date, variable, unit) data\n",
    "LEFT JOIN ow_aliasing_countries AS alias ON  alias.iso = data.iso3_code WHERE alias.iso IS NOT NULL\n",
    "```"
   ]
  },
  {
   "cell_type": "markdown",
   "metadata": {},
   "source": [
    "- countries with data: 238 (coastal = 193)\n",
    "- rows before: 37115\n",
    "- rows inserted: 72017\n",
    "- rows after: 109132"
   ]
  },
  {
   "cell_type": "markdown",
   "metadata": {},
   "source": [
    "```sql\n",
    "\n",
    "```"
   ]
  },
  {
   "cell_type": "markdown",
   "metadata": {},
   "source": [
    "### Vega"
   ]
  },
  {
   "cell_type": "code",
   "execution_count": 7,
   "metadata": {},
   "outputs": [],
   "source": [
    "import json\n",
    "from vega import Vega\n",
    "from IPython.display import display"
   ]
  },
  {
   "cell_type": "code",
   "execution_count": 8,
   "metadata": {},
   "outputs": [],
   "source": [
    "def Vega(spec):\n",
    "    bundle = {}\n",
    "    bundle['application/vnd.vega.v5+json'] = spec\n",
    "    display(bundle, raw=True)"
   ]
  },
  {
   "cell_type": "code",
   "execution_count": 9,
   "metadata": {},
   "outputs": [],
   "source": [
    "widget_width = 500\n",
    "widget_height = 200"
   ]
  },
  {
   "cell_type": "markdown",
   "metadata": {},
   "source": [
    "## Visualization"
   ]
  },
  {
   "cell_type": "markdown",
   "metadata": {},
   "source": [
    "### Queries"
   ]
  },
  {
   "cell_type": "markdown",
   "metadata": {},
   "source": [
    "#### Testing"
   ]
  },
  {
   "cell_type": "markdown",
   "metadata": {},
   "source": [
    "```gadm.geostore_prod ILIKE 'f4599aaeedacb9e6ddca177a93795e4c'``` used as stand-in for parameterized ```{{{geostore_env}}='{{geostore_id}}'``` in production version"
   ]
  },
  {
   "cell_type": "markdown",
   "metadata": {},
   "source": [
    "``` sql\n",
    "SELECT gadm.gid_0, variable, date, value FROM ow_widget_territory AS data \n",
    "LEFT OUTER JOIN  gadm36_0 gadm ON data.gid_0 = gadm.gid_0 WHERE widget = 'fishery production' AND variable != 'GlobalProduction_quantity' AND gadm.geostore_prod ILIKE 'f4599aaeedacb9e6ddca177a93795e4c' \n",
    "ORDER BY date ASC, variable DESC\n",
    "```"
   ]
  },
  {
   "cell_type": "markdown",
   "metadata": {},
   "source": [
    "#### Parameterized Version"
   ]
  },
  {
   "cell_type": "markdown",
   "metadata": {},
   "source": [
    "```sql\n",
    "SELECT gadm.gid_0, variable, date, value FROM ow_widget_territory AS data \n",
    "LEFT OUTER JOIN  gadm36_0 gadm ON data.gid_0 = gadm.gid_0 WHERE widget = 'fishery production' AND variable != 'GlobalProduction_quantity' AND gadm.{{geostore_env}} ILIKE '{{geostore_id}}' \n",
    "ORDER BY date ASC, variable DESC\n",
    "```"
   ]
  },
  {
   "cell_type": "markdown",
   "metadata": {},
   "source": [
    "```sql\n",
    "\n",
    "```"
   ]
  },
  {
   "cell_type": "code",
   "execution_count": 10,
   "metadata": {},
   "outputs": [
    {
     "data": {
      "application/vnd.vega.v5+json": {
       "$schema": "https://vega.github.io/schema/vega/v5.json",
       "axes": [
        {
         "labelBaseline": "middle",
         "labelFont": "Arial",
         "labelFontSize": 11,
         "labelOverlap": true,
         "orient": "bottom",
         "scale": "x",
         "tickSize": 5,
         "zindex": 1
        },
        {
         "encode": {
          "labels": {
           "update": {
            "text": {
             "signal": "format(datum.value, '~s')"
            }
           }
          }
         },
         "grid": true,
         "gridOpacity": 0.2,
         "labelAlign": "right",
         "labelBaseline": "middle",
         "labelFont": "Arial",
         "labelPadding": 3,
         "orient": "left",
         "scale": "y",
         "title": "Production quantity (tonnes)",
         "titleFont": "Arial",
         "titleFontStyle": "normal",
         "zindex": 1
        }
       ],
       "data": [
        {
         "format": {
          "property": "rows",
          "type": "json"
         },
         "name": "production",
         "transform": [
          {
           "field": "value",
           "groupby": [
            "gid_0",
            "date"
           ],
           "type": "stack"
          },
          {
           "as": "variable",
           "expr": "split(datum.variable, '_')[0]",
           "type": "formula"
          }
         ],
         "url": "https://wri-rw.carto.com/api/v2/sql?q=SELECT gid_0, variable, date, value FROM ow_widget_territory WHERE widget = 'fishery production' AND gid_0 = 'IDN' AND variable != 'GlobalProduction_quantity' ORDER BY date ASC, variable DESC"
        }
       ],
       "description": "A basic stacked bar chart example.",
       "height": 200,
       "legends": [
        {
         "fill": "color",
         "orient": "right"
        }
       ],
       "marks": [
        {
         "encode": {
          "enter": {
           "fill": {
            "field": "variable",
            "scale": "color"
           },
           "tooltip": {
            "signal": "{'Year': datum.date, 'Production type': datum.variable, 'Production quantity': format(datum.value, ',.5r') + ' tonnes'}"
           },
           "width": {
            "band": 1,
            "offset": -1,
            "scale": "x"
           },
           "x": {
            "field": "date",
            "scale": "x"
           },
           "y": {
            "field": "y0",
            "scale": "y"
           },
           "y2": {
            "field": "y1",
            "scale": "y"
           }
          },
          "hover": {
           "fillOpacity": {
            "value": 0.7
           }
          },
          "update": {
           "fillOpacity": {
            "value": 1
           }
          }
         },
         "from": {
          "data": "production"
         },
         "type": "rect"
        }
       ],
       "padding": 5,
       "scales": [
        {
         "domain": {
          "data": "production",
          "field": "date"
         },
         "name": "x",
         "range": "width",
         "type": "band"
        },
        {
         "domain": {
          "data": "production",
          "field": "y1"
         },
         "name": "y",
         "nice": true,
         "range": "height",
         "type": "linear",
         "zero": true
        },
        {
         "domain": {
          "data": "production",
          "field": "variable"
         },
         "name": "color",
         "range": [
          "#005c7e",
          "#84c0d0"
         ],
         "type": "ordinal"
        }
       ],
       "width": 500
      },
      "image/png": "[encoded data removed]"
     },
     "metadata": {},
     "output_type": "display_data"
    }
   ],
   "source": [
    "spec=json.loads(\"\"\"{\n",
    "  \"$schema\": \"https://vega.github.io/schema/vega/v5.json\",\n",
    "  \"description\": \"A basic stacked bar chart example.\",\n",
    "  \"width\": 500,\n",
    "  \"height\": 200,\n",
    "  \"padding\": 5,\n",
    "  \"data\": [\n",
    "    {\n",
    "      \"name\": \"production\",\n",
    "      \"url\": \"https://wri-rw.carto.com/api/v2/sql?q=SELECT gid_0, variable, date, value FROM ow_widget_territory WHERE widget = 'fishery production' AND gid_0 = 'IDN' AND variable != 'GlobalProduction_quantity' ORDER BY date ASC, variable DESC\",\n",
    "      \"format\": {\"type\": \"json\", \"property\": \"rows\"},\n",
    "      \"transform\": [\n",
    "        {\"type\": \"stack\", \"field\": \"value\", \"groupby\": [\"gid_0\", \"date\"]},\n",
    "        {\n",
    "          \"type\": \"formula\",\n",
    "          \"expr\": \"split(datum.variable, '_')[0]\",\n",
    "          \"as\": \"variable\"\n",
    "        }\n",
    "      ]\n",
    "    }\n",
    "  ],\n",
    "  \"scales\": [\n",
    "    {\n",
    "      \"name\": \"x\",\n",
    "      \"type\": \"band\",\n",
    "      \"range\": \"width\",\n",
    "      \"domain\": {\"data\": \"production\", \"field\": \"date\"}\n",
    "    },\n",
    "    {\n",
    "      \"name\": \"y\",\n",
    "      \"type\": \"linear\",\n",
    "      \"range\": \"height\",\n",
    "      \"nice\": true,\n",
    "      \"zero\": true,\n",
    "      \"domain\": {\"data\": \"production\", \"field\": \"y1\"}\n",
    "    },\n",
    "    {\n",
    "      \"name\": \"color\",\n",
    "      \"type\": \"ordinal\",\n",
    "      \"range\": [\"#005c7e\", \"#84c0d0\"],\n",
    "      \"domain\": {\"data\": \"production\", \"field\": \"variable\"}\n",
    "    }\n",
    "  ],\n",
    "  \"axes\": [\n",
    "    {\n",
    "      \"orient\": \"bottom\",\n",
    "      \"scale\": \"x\",\n",
    "      \"zindex\": 1,\n",
    "      \"labelFont\": \"Arial\",\n",
    "      \"labelFontSize\": 11,\n",
    "      \"labelOverlap\": true,\n",
    "      \"labelBaseline\": \"middle\",\n",
    "      \"tickSize\": 5\n",
    "    },\n",
    "    {\n",
    "      \"orient\": \"left\",\n",
    "      \"scale\": \"y\",\n",
    "      \"zindex\": 1,\n",
    "      \"title\": \"Production quantity (tons)\",\n",
    "      \"titleFont\": \"Arial\",\n",
    "      \"titleFontStyle\": \"normal\",\n",
    "      \"labelFont\": \"Arial\",\n",
    "      \"labelBaseline\": \"middle\",\n",
    "      \"labelAlign\": \"right\",\n",
    "      \"labelPadding\": 3,\n",
    "      \"grid\": true,\n",
    "      \"gridOpacity\": 0.2,\n",
    "      \"encode\": {\n",
    "        \"labels\": {\"update\": {\"text\": {\"signal\": \"format(datum.value, '~s')\"}}}\n",
    "      }\n",
    "    }\n",
    "  ],\n",
    "  \"marks\": [\n",
    "    {\n",
    "      \"type\": \"rect\",\n",
    "      \"from\": {\"data\": \"production\"},\n",
    "      \"encode\": {\n",
    "        \"enter\": {\n",
    "          \"x\": {\"scale\": \"x\", \"field\": \"date\"},\n",
    "          \"width\": {\"scale\": \"x\", \"band\": 1, \"offset\": -1},\n",
    "          \"y\": {\"scale\": \"y\", \"field\": \"y0\"},\n",
    "          \"y2\": {\"scale\": \"y\", \"field\": \"y1\"},\n",
    "          \"fill\": {\"scale\": \"color\", \"field\": \"variable\"},\n",
    "          \"tooltip\": {\n",
    "            \"signal\": \"{'Year': datum.date, 'Production type': datum.variable, 'Production quantity': format(datum.value, ',.5r') + ' tons'}\"\n",
    "          }\n",
    "        },\n",
    "        \"update\": {\"fillOpacity\": {\"value\": 1}},\n",
    "        \"hover\": {\"fillOpacity\": {\"value\": 0.7}}\n",
    "      }\n",
    "    }\n",
    "  ],\n",
    "  \"legends\": [\n",
    "    {\"fill\": \"color\", \"orient\": \"right\"}\n",
    "  ]\n",
    "}\"\"\")\n",
    "vegaview=dict(spec)\n",
    "Vega(vegaview)"
   ]
  },
  {
   "cell_type": "markdown",
   "metadata": {},
   "source": [
    "[Open the Chart in the Vega Editor](https://vega.github.io/editor/#/url/vega/N4IgJAzgxgFgpgWwIYgFwhgF0wBwqgegIDc4BzJAOjIEtMYBXAI0poHsDp5kTykSArJQBWENgDsQAGhAATONABONHJnaT0AQQAETJBBpRtETEigBrOLN1JF22Lcza4ADyQIcAGziVpIAO40svRoAgAMYTLwNGRYaABMETI4SLKyNOJkoTKySKZoANqg4u5waCA4imyyDFBqEn4Mip7lWLj4RP7KALSK-pRQjmwDbAgESDg0JPGcAI6eAPyzALwAygCiADLrAMIAKtq0sgD6kdrEtjRITN5S2rmYcHcXngxw2gBiAEoA8gCy2jY-mOgVkZDgmGOj0UykwbEUAE9tAB1AAS6y+620oPBTmW2gA5AAzGgQeCI7SVaq1eriAnaTQAOQAIocgqdtPiCQBJZmM+lM1kXZTXbzaACEXIA4p42HpPAAFKo1OrqY6zBhIcRqTAI+k-L7MjHaABCAE17nl3ppVjtnpdRe8jba-ET4chMGhQLqcGV0KIGskqr7FLrylV-BAQABfGSYRRaiBuxQIQrehG+8omMzmV00OCeWTlF5vPxkKoMHBMBGFEBHU5+B5lAC6sfTmfQyYQDE8KBkrkqWa8dAAFA8GAhKMKrjcnoTjgSAJQFMLNvz6YsO2cx1vNmTQJDeKOoIogEoIP0gFx+H2XvTiIsyBOZS+gkI5UZIDJeuR5FDoKkVVpPMCyLdAmxjNsz1KcoazjDNL08DI4FsPxn3BVo4BiOIZHEQw-XjN4ZAALzgKo0EIp45E-b9UFAB5-wqZUaXUEDC1ggBGSCpGKGD0CgNhZUUG8EPKeF0hKFony1DCTxAABiCIBCgAB2MoZHkgAOAAWKAwlkMIQD3ajkFo+i-3KQCWMDEASVAzcRW3aNo2MpAXAUNMQHhfNtXKJg2GwUY-APbxymvEiMnka9UA4mReyYAsPgkT0tBFKSQHixLktWGhSLQDjYoy64Cx+UhmgmCjFCIoqEs8E19ALZDygQIJZFCuNDHMHK8tQAQoO8uBfPQbwiU9fdBlC9A4JAYjItcfKOswSaQCValVQkbQNS1HUkRHOFxAgRcbzobwkqGkBNDS46lrgM7MFWXVlvEd1Dz8TLPDu8pLqudL3vqiBGvES8WrSdqaoLTQkLIDQQGUWIxvBxVUgkrJUAAZhkcsgkq6qsdkH4UigOga1QMJKHiftxAE+Qf3e49QErCC6JAR4XBS0ADGh17OxezAxzyCcp0PIjCQAPwgJdIOclyZGQRRzGPU9b3DOA6ldKpU2ZhjLOY9bJFjEBBupv1QEG6Ef2ijmJsvcLbPzdjwKtGMZDfGAfxCm2-HvMDCrYIkiQBlLug4g2Satw9L2muyHZABFDND+J3et2C2LA2OuINklPBaZmPfKAShNThyZ1Cg24UEtQcHdmJJPKYACTNFDFAJVBLUwQWmzuAlVqA9RtFvFu28F6dHS7nvrPETbNW1YnB67PJ+fbycSznAkpEoARm8XbQAGpCX7iQJejbiQEZp3mazzwCbMYmfxX-LnKiNgyp-S-r6JsNmfv0nKBU6WZYyuQQashFagEvvnQS8I-ADXOnDOILloxAA)"
   ]
  },
  {
   "cell_type": "markdown",
   "metadata": {},
   "source": [
    "# Indicator"
   ]
  },
  {
   "cell_type": "markdown",
   "metadata": {},
   "source": [
    "Inputs\n",
    "- production: Total Production (Aquaculture + Capture production) live weight in tonnes for the year 2019 [foo_062]\n",
    "- population: Population for the year 2020 [soc_076]"
   ]
  },
  {
   "cell_type": "markdown",
   "metadata": {},
   "source": [
    "Outputs\n",
    "- live weight in kg per person "
   ]
  },
  {
   "cell_type": "markdown",
   "metadata": {},
   "source": [
    "Data\n",
    "```sql\n",
    "SELECT gadm.gid_0, SUM(value)/pop*1000 as value \n",
    "FROM foo_062_rw0_fishery_production_edit production \n",
    "LEFT JOIN \n",
    "    (SELECT yr_data AS pop, country_code FROM soc_076_country_population_edit WHERE year = 2020) population \n",
    "    ON production.iso3_code = population.country_code\n",
    "LEFT JOIN \n",
    "    gadm36_0 gadm on gadm.gid_0 = production.iso3_code \n",
    "WHERE measure = 'Q_tlw' AND type = 'GlobalProduction_quantity' AND production.year=2019\n",
    "GROUP BY gadm.gid_0, pop\n",
    "```"
   ]
  },
  {
   "cell_type": "markdown",
   "metadata": {},
   "source": [
    "## Rank"
   ]
  },
  {
   "cell_type": "code",
   "execution_count": null,
   "metadata": {},
   "outputs": [],
   "source": [
    "```sql\n",
    "SELECT CONCAT(rank, ' of ', max_rank) FROM (SELECT *, MAX(rank) OVER (PARTITION BY true) AS max_rank FROM (SELECT *, RANK() OVER(ORDER BY value DESC) FROM (SELECT iso3_code, SUM(value)/pop*1000 as value \n",
    "FROM foo_062_rw0_fishery_production_edit production \n",
    "LEFT JOIN \n",
    "    (SELECT yr_data AS pop, country_code FROM soc_076_country_population_edit WHERE year = 2020) population \n",
    "    ON production.iso3_code = population.country_code\n",
    "WHERE measure = 'Q_tlw' AND type = 'GlobalProduction_quantity' AND production.year=2019 \n",
    "GROUP BY iso3_code, pop) data \n",
    "LEFT JOIN gadm36_0 gadm on gadm.gid_0 = data.iso3_code\n",
    "WHERE value is not null and coastal = true) ranked ) max_rank\n",
    "WHERE {{geostore_env}} ILIKE '{{geostore_id}}'\n",
    "```"
   ]
  },
  {
   "cell_type": "markdown",
   "metadata": {},
   "source": [
    "description:\n",
    "query: [https://wri-rw.carto.com/api/v2/sql?q=SELECT CONCAT(rank, ' of ', max_rank) FROM (SELECT *, MAX(rank) OVER (PARTITION BY true) AS max_rank FROM (SELECT *, RANK() OVER(ORDER BY value DESC) FROM (SELECT iso3_code, SUM(value)/pop*1000 as value FROM foo_062_rw0_fishery_production_edit production LEFT JOIN (SELECT yr_data AS pop, country_code FROM soc_076_country_population_edit WHERE year = 2020) population ON production.iso3_code = population.country_code WHERE measure = 'Q_tlw' AND type = 'GlobalProduction_quantity' AND production.year=2019 GROUP BY iso3_code, pop) data LEFT JOIN gadm36_0 gadm on gadm.gid_0 = data.iso3_code WHERE value is not null and coastal = true) ranked ) max_rank WHERE {{geostore_env}} ILIKE '{{geostore_id}}'](https://wri-rw.carto.com/api/v2/sql?q=SELECT%20CONCAT(rank,%20%27%20of%20%27,%20max_rank)%20FROM%20(SELECT%20*,%20MAX(rank)%20OVER%20(PARTITION%20BY%20true)%20AS%20max_rank%20FROM%20(SELECT%20*,%20RANK()%20OVER(ORDER%20BY%20value%20DESC)%20FROM%20(SELECT%20iso3_code,%20SUM(value)/pop*1000%20as%20value%20FROM%20foo_062_rw0_fishery_production_edit%20production%20LEFT%20JOIN%20(SELECT%20yr_data%20AS%20pop,%20country_code%20FROM%20soc_076_country_population_edit%20WHERE%20year%20=%202020)%20population%20ON%20production.iso3_code%20=%20population.country_code%20WHERE%20measure%20=%20%27Q_tlw%27%20AND%20type%20=%20%27GlobalProduction_quantity%27%20AND%20production.year=2019%20GROUP%20BY%20iso3_code,%20pop)%20data%20LEFT%20JOIN%20gadm36_0%20gadm%20on%20gadm.gid_0%20=%20data.iso3_code%20WHERE%20value%20is%20not%20null%20and%20coastal%20=%20true)%20ranked%20)%20max_rank%20WHERE%20geostore_prod%20ILIKE%20%27f4599aaeedacb9e6ddca177a93795e4c%27)"
   ]
  },
  {
   "cell_type": "markdown",
   "metadata": {},
   "source": [
    "## Value"
   ]
  },
  {
   "cell_type": "markdown",
   "metadata": {},
   "source": [
    "Annual kg / the years population as kg of fish/person"
   ]
  },
  {
   "cell_type": "markdown",
   "metadata": {},
   "source": [
    "```sql\n",
    "SELECT SUM(value)/pop*1000 as value \n",
    "FROM foo_062_rw0_fishery_production_edit production \n",
    "LEFT JOIN \n",
    "    (SELECT yr_data AS pop, country_code FROM soc_076_country_population_edit WHERE year = 2020) population \n",
    "    ON production.iso3_code = population.country_code\n",
    "LEFT JOIN \n",
    "    gadm36_0 gadm on gadm.gid_0 = production.iso3_code \n",
    "WHERE measure = 'Q_tlw' AND type = 'GlobalProduction_quantity' AND production.year=2019 \n",
    "AND gadm.{{geostoe_env}} ILIKE '{{geostore_id}}' \n",
    "GROUP BY gadm.gid_0, pop\n",
    "```"
   ]
  },
  {
   "cell_type": "markdown",
   "metadata": {},
   "source": [
    "- ```description```:\n",
    "- ```query```: [https://wri-rw.carto.com/api/v2/sql?q=SELECT SUM(value)/pop*1000 as value FROM foo_062_rw0_fishery_production_edit production LEFT JOIN (SELECT yr_data AS pop, country_code FROM soc_076_country_population_edit WHERE year = 2020) population ON production.iso3_code = population.country_code LEFT JOIN gadm36_0 gadm on gadm.gid_0 = production.iso3_code WHERE measure = 'Q_tlw' AND type ='GlobalProduction_quantity' AND production.year=2019 AND gadm.{{geostoe_env}} ILIKE '{{geostore_id}}' GROUP BY gadm.gid_0, pop](https://wri-rw.carto.com/api/v2/sql?q=SELECT%20SUM(value)/pop*1000%20as%20value%20FROM%20foo_062_rw0_fishery_production_edit%20production%20LEFT%20JOIN%20(SELECT%20yr_data%20AS%20pop,%20country_code%20FROM%20soc_076_country_population_edit%20WHERE%20year%20=%202020)%20population%20ON%20production.iso3_code%20=%20population.country_code%20LEFT%20JOIN%20gadm36_0%20gadm%20on%20gadm.gid_0%20=%20production.iso3_code%20WHERE%20measure%20=%20%27Q_tlw%27%20AND%20type%20=%27GlobalProduction_quantity%27%20AND%20production.year=2019%20AND%20gadm.gid_0%20ILIKE%20%27MEX%27%20GROUP%20BY%20gadm.gid_0,%20pop)\n",
    "- ```format```: ```.2f```\n",
    "- ```unit```: ```kg```"
   ]
  },
  {
   "cell_type": "markdown",
   "metadata": {},
   "source": [
    "## RW Backoffice"
   ]
  },
  {
   "cell_type": "markdown",
   "metadata": {},
   "source": [
    "- [back office](https://resourcewatch.org/admin/data/widgets/bf6604e1-9f6b-4988-ace0-80db05248a9a/edit?dataset=ac9c2f07-9f23-4a33-9958-e02c571ec009)\n",
    "- parent dataset [foo.062](https://resourcewatch.org/data/explore/ac9c2f07-9f23-4a33-9958-e02c571ec009) (unpublished)\n",
    "- dataset id ```ac9c2f07-9f23-4a33-9958-e02c571ec009```\n",
    "- widget id: ```bf6604e1-9f6b-4988-ace0-80db05248a9a```"
   ]
  },
  {
   "cell_type": "code",
   "execution_count": null,
   "metadata": {},
   "outputs": [],
   "source": []
  }
 ],
 "metadata": {
  "kernelspec": {
   "display_name": "Python 3",
   "language": "python",
   "name": "python3"
  },
  "language_info": {
   "codemirror_mode": {
    "name": "ipython",
    "version": 3
   },
   "file_extension": ".py",
   "mimetype": "text/x-python",
   "name": "python",
   "nbconvert_exporter": "python",
   "pygments_lexer": "ipython3",
   "version": "3.7.7"
  }
 },
 "nbformat": 4,
 "nbformat_minor": 4
}
